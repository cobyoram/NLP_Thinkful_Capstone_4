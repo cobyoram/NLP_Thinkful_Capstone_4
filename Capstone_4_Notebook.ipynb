{
  "nbformat": 4,
  "nbformat_minor": 0,
  "metadata": {
    "colab": {
      "name": "Capstone_4_Notebook.ipynb",
      "provenance": [],
      "collapsed_sections": [],
      "toc_visible": true,
      "mount_file_id": "1jQyvwCcNCz3S_9R_QPnOAZd_LAOWY8Rq",
      "authorship_tag": "ABX9TyOYYdASTi8ZO4DGaopSUrG8",
      "include_colab_link": true
    },
    "kernelspec": {
      "name": "python3",
      "display_name": "Python 3"
    },
    "accelerator": "GPU"
  },
  "cells": [
    {
      "cell_type": "markdown",
      "metadata": {
        "id": "view-in-github",
        "colab_type": "text"
      },
      "source": [
        "<a href=\"https://colab.research.google.com/github/cobyoram/NLP_and_Deep_Learning__Thinkful_capstone_4/blob/master/Capstone_4_Notebook.ipynb\" target=\"_parent\"><img src=\"https://colab.research.google.com/assets/colab-badge.svg\" alt=\"Open In Colab\"/></a>"
      ]
    },
    {
      "cell_type": "markdown",
      "metadata": {
        "id": "QzR8YWVC_Bs_",
        "colab_type": "text"
      },
      "source": [
        "# RapBot\n",
        "This project is the 4th and final capstone for my Data Science Immersive course at Thinkful. It utilizes specialized deep learning and natural language processing to generate rhyming rap lyrics that could realistically fit in the meter and rhythm of a rap. \n",
        "\n",
        "This project is the second iteration of a previous NLP challenge which used a probabalistic markov chain approach to generating natural text. This iteration improves upon the generation process by incorporating specialized Recurrent Neural Networks to learn hidden patterns in a body of text. This project gets faster and equivalent or better results than the previous iteration.\n",
        "\n",
        "The notebook is organized by steps in the process. The cleaning step saves the cleaned data to storage, so the code can also be started from the Training section, which will load the cleaned dataset and proceed."
      ]
    },
    {
      "cell_type": "markdown",
      "metadata": {
        "id": "horZ8SHh_BkH",
        "colab_type": "text"
      },
      "source": [
        "## Cleaning\n",
        "Natural Language is unstructured data. The below cells utilize data exploration and the spaCy nlp library to sift through the data and \n",
        "1. select a more focused sample of data and\n",
        "2. remove unnecessary or unwanted text.\n",
        "\n",
        "Given more time, cleaning the text in the utilized dataset could be extended and improved. "
      ]
    },
    {
      "cell_type": "markdown",
      "metadata": {
        "id": "-43P83RQQwWT",
        "colab_type": "text"
      },
      "source": [
        "### Data\n",
        "The data for this project is a popular [Kaggle dataset](https://www.kaggle.com/gyani95/380000-lyrics-from-metrolyrics) containing 380,000 lyrics from songs of various genres by various artists from about the 1960s to 2016. (If you follow that link, you may find out that the dataset is no longer available on Kaggle's website)\n",
        "\n",
        "Since this project is specifically focused on generating raps, some cleaning and preprocessing will need to be done to select a subsample of songs that fit the desired specifications and make them suitable for natural language processing.\n",
        "\n",
        "First, to load the dataset, which I stored in my personal Google Drive."
      ]
    },
    {
      "cell_type": "code",
      "metadata": {
        "id": "o3XPizq8QshP",
        "colab_type": "code",
        "colab": {}
      },
      "source": [
        "import numpy as np\n",
        "import pandas as pd\n",
        "import warnings\n",
        "warnings.filterwarnings('ignore')"
      ],
      "execution_count": 0,
      "outputs": []
    },
    {
      "cell_type": "code",
      "metadata": {
        "id": "Dnv4UT7YEl_B",
        "colab_type": "code",
        "colab": {}
      },
      "source": [
        "CSV_SOURCE_PATH = '/content/drive/My Drive/Thinkful/nlp/data/380000-lyrics-from-metrolyrics/lyrics.csv'\n",
        "CSV_PROCESSED_PATH = '/content/drive/My Drive/Thinkful/nlp/data/380000-lyrics-from-metrolyrics/lyrics_input.csv'"
      ],
      "execution_count": 0,
      "outputs": []
    },
    {
      "cell_type": "code",
      "metadata": {
        "id": "BccGROooTTQP",
        "colab_type": "code",
        "outputId": "5f54619e-da2b-4b07-a9aa-c6abd9e3ad6d",
        "colab": {
          "base_uri": "https://localhost:8080/",
          "height": 204
        }
      },
      "source": [
        "# load the dataset\n",
        "songs = pd.read_csv(CSV_SOURCE_PATH)\n",
        "songs.head()"
      ],
      "execution_count": 307,
      "outputs": [
        {
          "output_type": "execute_result",
          "data": {
            "text/html": [
              "<div>\n",
              "<style scoped>\n",
              "    .dataframe tbody tr th:only-of-type {\n",
              "        vertical-align: middle;\n",
              "    }\n",
              "\n",
              "    .dataframe tbody tr th {\n",
              "        vertical-align: top;\n",
              "    }\n",
              "\n",
              "    .dataframe thead th {\n",
              "        text-align: right;\n",
              "    }\n",
              "</style>\n",
              "<table border=\"1\" class=\"dataframe\">\n",
              "  <thead>\n",
              "    <tr style=\"text-align: right;\">\n",
              "      <th></th>\n",
              "      <th>index</th>\n",
              "      <th>song</th>\n",
              "      <th>year</th>\n",
              "      <th>artist</th>\n",
              "      <th>genre</th>\n",
              "      <th>lyrics</th>\n",
              "    </tr>\n",
              "  </thead>\n",
              "  <tbody>\n",
              "    <tr>\n",
              "      <th>0</th>\n",
              "      <td>0</td>\n",
              "      <td>ego-remix</td>\n",
              "      <td>2009</td>\n",
              "      <td>beyonce-knowles</td>\n",
              "      <td>Pop</td>\n",
              "      <td>Oh baby, how you doing?\\nYou know I'm gonna cu...</td>\n",
              "    </tr>\n",
              "    <tr>\n",
              "      <th>1</th>\n",
              "      <td>1</td>\n",
              "      <td>then-tell-me</td>\n",
              "      <td>2009</td>\n",
              "      <td>beyonce-knowles</td>\n",
              "      <td>Pop</td>\n",
              "      <td>playin' everything so easy,\\nit's like you see...</td>\n",
              "    </tr>\n",
              "    <tr>\n",
              "      <th>2</th>\n",
              "      <td>2</td>\n",
              "      <td>honesty</td>\n",
              "      <td>2009</td>\n",
              "      <td>beyonce-knowles</td>\n",
              "      <td>Pop</td>\n",
              "      <td>If you search\\nFor tenderness\\nIt isn't hard t...</td>\n",
              "    </tr>\n",
              "    <tr>\n",
              "      <th>3</th>\n",
              "      <td>3</td>\n",
              "      <td>you-are-my-rock</td>\n",
              "      <td>2009</td>\n",
              "      <td>beyonce-knowles</td>\n",
              "      <td>Pop</td>\n",
              "      <td>Oh oh oh I, oh oh oh I\\n[Verse 1:]\\nIf I wrote...</td>\n",
              "    </tr>\n",
              "    <tr>\n",
              "      <th>4</th>\n",
              "      <td>4</td>\n",
              "      <td>black-culture</td>\n",
              "      <td>2009</td>\n",
              "      <td>beyonce-knowles</td>\n",
              "      <td>Pop</td>\n",
              "      <td>Party the people, the people the party it's po...</td>\n",
              "    </tr>\n",
              "  </tbody>\n",
              "</table>\n",
              "</div>"
            ],
            "text/plain": [
              "   index  ...                                             lyrics\n",
              "0      0  ...  Oh baby, how you doing?\\nYou know I'm gonna cu...\n",
              "1      1  ...  playin' everything so easy,\\nit's like you see...\n",
              "2      2  ...  If you search\\nFor tenderness\\nIt isn't hard t...\n",
              "3      3  ...  Oh oh oh I, oh oh oh I\\n[Verse 1:]\\nIf I wrote...\n",
              "4      4  ...  Party the people, the people the party it's po...\n",
              "\n",
              "[5 rows x 6 columns]"
            ]
          },
          "metadata": {
            "tags": []
          },
          "execution_count": 307
        }
      ]
    },
    {
      "cell_type": "markdown",
      "metadata": {
        "id": "9YkrduwETedG",
        "colab_type": "text"
      },
      "source": [
        "### Exploratory Data Analysis\n",
        "Next, some EDA will be applied to the dataset to determine what kinds of unstructured language data the project will deal with"
      ]
    },
    {
      "cell_type": "code",
      "metadata": {
        "id": "vnFOXEyFTXVT",
        "colab_type": "code",
        "colab": {}
      },
      "source": [
        "import matplotlib.pyplot as plt\n",
        "import seaborn as sns"
      ],
      "execution_count": 0,
      "outputs": []
    },
    {
      "cell_type": "markdown",
      "metadata": {
        "id": "shp3e_gdTv6e",
        "colab_type": "text"
      },
      "source": [
        "#### Nulls"
      ]
    },
    {
      "cell_type": "code",
      "metadata": {
        "id": "ncnBgPM2Tyz6",
        "colab_type": "code",
        "outputId": "b9472c79-1d43-4bd2-9c61-a0c2046d0b41",
        "colab": {
          "base_uri": "https://localhost:8080/",
          "height": 136
        }
      },
      "source": [
        "# get null percentages per column\n",
        "missings = songs.isna().sum()/len(songs)*100\n",
        "missings"
      ],
      "execution_count": 309,
      "outputs": [
        {
          "output_type": "execute_result",
          "data": {
            "text/plain": [
              "index      0.000000\n",
              "song       0.000552\n",
              "year       0.000000\n",
              "artist     0.000000\n",
              "genre      0.000000\n",
              "lyrics    26.413646\n",
              "dtype: float64"
            ]
          },
          "metadata": {
            "tags": []
          },
          "execution_count": 309
        }
      ]
    },
    {
      "cell_type": "code",
      "metadata": {
        "id": "iMHG_ndGT5_O",
        "colab_type": "code",
        "outputId": "8337c6e6-0323-4fab-b058-0b6e4eed695f",
        "colab": {
          "base_uri": "https://localhost:8080/",
          "height": 419
        }
      },
      "source": [
        "# view songs with null lyrics\n",
        "songs.loc[songs['lyrics'].isna()]"
      ],
      "execution_count": 310,
      "outputs": [
        {
          "output_type": "execute_result",
          "data": {
            "text/html": [
              "<div>\n",
              "<style scoped>\n",
              "    .dataframe tbody tr th:only-of-type {\n",
              "        vertical-align: middle;\n",
              "    }\n",
              "\n",
              "    .dataframe tbody tr th {\n",
              "        vertical-align: top;\n",
              "    }\n",
              "\n",
              "    .dataframe thead th {\n",
              "        text-align: right;\n",
              "    }\n",
              "</style>\n",
              "<table border=\"1\" class=\"dataframe\">\n",
              "  <thead>\n",
              "    <tr style=\"text-align: right;\">\n",
              "      <th></th>\n",
              "      <th>index</th>\n",
              "      <th>song</th>\n",
              "      <th>year</th>\n",
              "      <th>artist</th>\n",
              "      <th>genre</th>\n",
              "      <th>lyrics</th>\n",
              "    </tr>\n",
              "  </thead>\n",
              "  <tbody>\n",
              "    <tr>\n",
              "      <th>158</th>\n",
              "      <td>158</td>\n",
              "      <td>lemonade</td>\n",
              "      <td>2016</td>\n",
              "      <td>beyonce-knowles</td>\n",
              "      <td>Pop</td>\n",
              "      <td>NaN</td>\n",
              "    </tr>\n",
              "    <tr>\n",
              "      <th>305</th>\n",
              "      <td>305</td>\n",
              "      <td>no-more-tears</td>\n",
              "      <td>2002</td>\n",
              "      <td>eazy-e</td>\n",
              "      <td>Hip-Hop</td>\n",
              "      <td>NaN</td>\n",
              "    </tr>\n",
              "    <tr>\n",
              "      <th>311</th>\n",
              "      <td>311</td>\n",
              "      <td>still-f-kem</td>\n",
              "      <td>2002</td>\n",
              "      <td>eazy-e</td>\n",
              "      <td>Hip-Hop</td>\n",
              "      <td>NaN</td>\n",
              "    </tr>\n",
              "    <tr>\n",
              "      <th>320</th>\n",
              "      <td>320</td>\n",
              "      <td>rev-skit</td>\n",
              "      <td>2002</td>\n",
              "      <td>eazy-e</td>\n",
              "      <td>Hip-Hop</td>\n",
              "      <td>NaN</td>\n",
              "    </tr>\n",
              "    <tr>\n",
              "      <th>338</th>\n",
              "      <td>338</td>\n",
              "      <td>hush-hush</td>\n",
              "      <td>2013</td>\n",
              "      <td>asher-monroe</td>\n",
              "      <td>Pop</td>\n",
              "      <td>NaN</td>\n",
              "    </tr>\n",
              "    <tr>\n",
              "      <th>...</th>\n",
              "      <td>...</td>\n",
              "      <td>...</td>\n",
              "      <td>...</td>\n",
              "      <td>...</td>\n",
              "      <td>...</td>\n",
              "      <td>...</td>\n",
              "    </tr>\n",
              "    <tr>\n",
              "      <th>362220</th>\n",
              "      <td>362220</td>\n",
              "      <td>knut-hauling</td>\n",
              "      <td>2015</td>\n",
              "      <td>ale-mrthller</td>\n",
              "      <td>Other</td>\n",
              "      <td>NaN</td>\n",
              "    </tr>\n",
              "    <tr>\n",
              "      <th>362221</th>\n",
              "      <td>362221</td>\n",
              "      <td>jemsken</td>\n",
              "      <td>2015</td>\n",
              "      <td>ale-mrthller</td>\n",
              "      <td>Other</td>\n",
              "      <td>NaN</td>\n",
              "    </tr>\n",
              "    <tr>\n",
              "      <th>362222</th>\n",
              "      <td>362222</td>\n",
              "      <td>tacker-herranom-mats-hansu-polskan</td>\n",
              "      <td>2015</td>\n",
              "      <td>ale-mrthller</td>\n",
              "      <td>Other</td>\n",
              "      <td>NaN</td>\n",
              "    </tr>\n",
              "    <tr>\n",
              "      <th>362223</th>\n",
              "      <td>362223</td>\n",
              "      <td>mannelig</td>\n",
              "      <td>2015</td>\n",
              "      <td>ale-mrthller</td>\n",
              "      <td>Other</td>\n",
              "      <td>NaN</td>\n",
              "    </tr>\n",
              "    <tr>\n",
              "      <th>362224</th>\n",
              "      <td>362224</td>\n",
              "      <td>vallsvit</td>\n",
              "      <td>2015</td>\n",
              "      <td>ale-mrthller</td>\n",
              "      <td>Other</td>\n",
              "      <td>NaN</td>\n",
              "    </tr>\n",
              "  </tbody>\n",
              "</table>\n",
              "<p>95680 rows × 6 columns</p>\n",
              "</div>"
            ],
            "text/plain": [
              "         index                                song  ...    genre lyrics\n",
              "158        158                            lemonade  ...      Pop    NaN\n",
              "305        305                       no-more-tears  ...  Hip-Hop    NaN\n",
              "311        311                         still-f-kem  ...  Hip-Hop    NaN\n",
              "320        320                            rev-skit  ...  Hip-Hop    NaN\n",
              "338        338                           hush-hush  ...      Pop    NaN\n",
              "...        ...                                 ...  ...      ...    ...\n",
              "362220  362220                        knut-hauling  ...    Other    NaN\n",
              "362221  362221                             jemsken  ...    Other    NaN\n",
              "362222  362222  tacker-herranom-mats-hansu-polskan  ...    Other    NaN\n",
              "362223  362223                            mannelig  ...    Other    NaN\n",
              "362224  362224                            vallsvit  ...    Other    NaN\n",
              "\n",
              "[95680 rows x 6 columns]"
            ]
          },
          "metadata": {
            "tags": []
          },
          "execution_count": 310
        }
      ]
    },
    {
      "cell_type": "code",
      "metadata": {
        "id": "eEDeH8yvUf5B",
        "colab_type": "code",
        "outputId": "299dfca2-2461-4c80-817d-a6ced7b34b33",
        "colab": {
          "base_uri": "https://localhost:8080/",
          "height": 111
        }
      },
      "source": [
        "# view songs with null titles\n",
        "songs.loc[songs['song'].isna()]"
      ],
      "execution_count": 311,
      "outputs": [
        {
          "output_type": "execute_result",
          "data": {
            "text/html": [
              "<div>\n",
              "<style scoped>\n",
              "    .dataframe tbody tr th:only-of-type {\n",
              "        vertical-align: middle;\n",
              "    }\n",
              "\n",
              "    .dataframe tbody tr th {\n",
              "        vertical-align: top;\n",
              "    }\n",
              "\n",
              "    .dataframe thead th {\n",
              "        text-align: right;\n",
              "    }\n",
              "</style>\n",
              "<table border=\"1\" class=\"dataframe\">\n",
              "  <thead>\n",
              "    <tr style=\"text-align: right;\">\n",
              "      <th></th>\n",
              "      <th>index</th>\n",
              "      <th>song</th>\n",
              "      <th>year</th>\n",
              "      <th>artist</th>\n",
              "      <th>genre</th>\n",
              "      <th>lyrics</th>\n",
              "    </tr>\n",
              "  </thead>\n",
              "  <tbody>\n",
              "    <tr>\n",
              "      <th>193957</th>\n",
              "      <td>193957</td>\n",
              "      <td>NaN</td>\n",
              "      <td>2009</td>\n",
              "      <td>booker-t-and-the-mg-s</td>\n",
              "      <td>Jazz</td>\n",
              "      <td>All right people, the rest of the hard working...</td>\n",
              "    </tr>\n",
              "    <tr>\n",
              "      <th>325992</th>\n",
              "      <td>325992</td>\n",
              "      <td>NaN</td>\n",
              "      <td>2009</td>\n",
              "      <td>booker-t</td>\n",
              "      <td>Jazz</td>\n",
              "      <td>NaN</td>\n",
              "    </tr>\n",
              "  </tbody>\n",
              "</table>\n",
              "</div>"
            ],
            "text/plain": [
              "         index song  ...  genre                                             lyrics\n",
              "193957  193957  NaN  ...   Jazz  All right people, the rest of the hard working...\n",
              "325992  325992  NaN  ...   Jazz                                                NaN\n",
              "\n",
              "[2 rows x 6 columns]"
            ]
          },
          "metadata": {
            "tags": []
          },
          "execution_count": 311
        }
      ]
    },
    {
      "cell_type": "markdown",
      "metadata": {
        "id": "mFaKIDpPUCWr",
        "colab_type": "text"
      },
      "source": [
        "Since the lyrics are the training data for rap bot, any row with now lyrics available will be dropped. The .0006% of song titles missing will also be dropped, so song titles can eventually be used for later iterations of the project as well."
      ]
    },
    {
      "cell_type": "code",
      "metadata": {
        "id": "ulfrbJWUUAXk",
        "colab_type": "code",
        "outputId": "1d1169d5-0a43-497c-e92e-f6537f80be41",
        "colab": {
          "base_uri": "https://localhost:8080/",
          "height": 238
        }
      },
      "source": [
        "# drop all null rows from dataset\n",
        "songs.dropna(inplace=True, axis=0)\n",
        "# check dataframe info, ensure drop was successful\n",
        "songs.info()"
      ],
      "execution_count": 312,
      "outputs": [
        {
          "output_type": "stream",
          "text": [
            "<class 'pandas.core.frame.DataFrame'>\n",
            "Int64Index: 266556 entries, 0 to 362236\n",
            "Data columns (total 6 columns):\n",
            " #   Column  Non-Null Count   Dtype \n",
            "---  ------  --------------   ----- \n",
            " 0   index   266556 non-null  int64 \n",
            " 1   song    266556 non-null  object\n",
            " 2   year    266556 non-null  int64 \n",
            " 3   artist  266556 non-null  object\n",
            " 4   genre   266556 non-null  object\n",
            " 5   lyrics  266556 non-null  object\n",
            "dtypes: int64(2), object(4)\n",
            "memory usage: 14.2+ MB\n"
          ],
          "name": "stdout"
        }
      ]
    },
    {
      "cell_type": "markdown",
      "metadata": {
        "id": "PDC-c6THU8mR",
        "colab_type": "text"
      },
      "source": [
        "The dataframe now has 266,000 + songs. That narrowed down the data somewhat. The next step is to investigate further ways of narrowing the data. \n",
        "#### Year"
      ]
    },
    {
      "cell_type": "code",
      "metadata": {
        "id": "tFy9gWLbU5xA",
        "colab_type": "code",
        "outputId": "def20eb0-fb9f-4c7a-ebe1-5333c423f7ec",
        "colab": {
          "base_uri": "https://localhost:8080/",
          "height": 420
        }
      },
      "source": [
        "# get a count of rows listed for each year\n",
        "year_counts = songs['year'].value_counts()\n",
        "\n",
        "# visualize year counts\n",
        "plt.figure(figsize=(10,6))\n",
        "sns.barplot(y=year_counts.values, x=year_counts.index)\n",
        "plt.xticks(rotation=90)\n",
        "plt.xlabel(xlabel='Year')\n",
        "plt.ylabel(ylabel='Songs Listed')\n",
        "plt.title('Song Listings per Year')\n",
        "plt.show()"
      ],
      "execution_count": 313,
      "outputs": [
        {
          "output_type": "display_data",
          "data": {
            "image/png": "[encoded data removed]",
            "text/plain": [
              "<Figure size 720x432 with 1 Axes>"
            ]
          },
          "metadata": {
            "tags": [],
            "needs_background": "light"
          }
        }
      ]
    },
    {
      "cell_type": "markdown",
      "metadata": {
        "id": "sQaAO4QoVxGc",
        "colab_type": "text"
      },
      "source": [
        "A few things are apparent from this graph. First of all, the obvious spike in song listings from the year 2006 to 2008. Besides that spike, songs seem to steadily increase in number listed per year, but something interesting must have happened in that year. After doing a little bit of research, I discovered that that may have been due to an increase in the availability of music, as that time is when services like Spotify, TIDAL, and SoundCloud came out.\n",
        "\n",
        "Another thing to notice is the odd lower outliers. Investigation may be required to understand those."
      ]
    },
    {
      "cell_type": "code",
      "metadata": {
        "id": "fW0qnNrLVt72",
        "colab_type": "code",
        "outputId": "40831afc-8b49-49e5-b09e-1acfaa6ccf0d",
        "colab": {
          "base_uri": "https://localhost:8080/",
          "height": 235
        }
      },
      "source": [
        "# display all songs published before the year 1960\n",
        "songs.loc[songs['year'] < 1960]"
      ],
      "execution_count": 314,
      "outputs": [
        {
          "output_type": "execute_result",
          "data": {
            "text/html": [
              "<div>\n",
              "<style scoped>\n",
              "    .dataframe tbody tr th:only-of-type {\n",
              "        vertical-align: middle;\n",
              "    }\n",
              "\n",
              "    .dataframe tbody tr th {\n",
              "        vertical-align: top;\n",
              "    }\n",
              "\n",
              "    .dataframe thead th {\n",
              "        text-align: right;\n",
              "    }\n",
              "</style>\n",
              "<table border=\"1\" class=\"dataframe\">\n",
              "  <thead>\n",
              "    <tr style=\"text-align: right;\">\n",
              "      <th></th>\n",
              "      <th>index</th>\n",
              "      <th>song</th>\n",
              "      <th>year</th>\n",
              "      <th>artist</th>\n",
              "      <th>genre</th>\n",
              "      <th>lyrics</th>\n",
              "    </tr>\n",
              "  </thead>\n",
              "  <tbody>\n",
              "    <tr>\n",
              "      <th>27657</th>\n",
              "      <td>27657</td>\n",
              "      <td>star</td>\n",
              "      <td>702</td>\n",
              "      <td>clipse</td>\n",
              "      <td>Hip-Hop</td>\n",
              "      <td>You're my star\\nIt's such a wonder how you shi...</td>\n",
              "    </tr>\n",
              "    <tr>\n",
              "      <th>69708</th>\n",
              "      <td>69708</td>\n",
              "      <td>anywhere-remix</td>\n",
              "      <td>112</td>\n",
              "      <td>dru-hill</td>\n",
              "      <td>Hip-Hop</td>\n",
              "      <td>Here we are all alone\\nYou and me, privacy\\nAn...</td>\n",
              "    </tr>\n",
              "    <tr>\n",
              "      <th>147914</th>\n",
              "      <td>147914</td>\n",
              "      <td>it-s-over-now-remix</td>\n",
              "      <td>112</td>\n",
              "      <td>g-dep</td>\n",
              "      <td>Hip-Hop</td>\n",
              "      <td>What is this?\\nNumbers in your pocket\\nI remem...</td>\n",
              "    </tr>\n",
              "    <tr>\n",
              "      <th>238541</th>\n",
              "      <td>238541</td>\n",
              "      <td>come-see-me-remix</td>\n",
              "      <td>112</td>\n",
              "      <td>black-rob</td>\n",
              "      <td>Hip-Hop</td>\n",
              "      <td>Baby, you can come see me 'cause I need you he...</td>\n",
              "    </tr>\n",
              "    <tr>\n",
              "      <th>315540</th>\n",
              "      <td>315540</td>\n",
              "      <td>let-s-lurk</td>\n",
              "      <td>67</td>\n",
              "      <td>giggs</td>\n",
              "      <td>Hip-Hop</td>\n",
              "      <td>Verse 1:\\nStill pulling up on smoke\\nSkeng in ...</td>\n",
              "    </tr>\n",
              "    <tr>\n",
              "      <th>335205</th>\n",
              "      <td>335205</td>\n",
              "      <td>i-can-t-believe</td>\n",
              "      <td>112</td>\n",
              "      <td>faith-evans</td>\n",
              "      <td>Pop</td>\n",
              "      <td>[Chorus]\\nI can't believe that love has gone a...</td>\n",
              "    </tr>\n",
              "  </tbody>\n",
              "</table>\n",
              "</div>"
            ],
            "text/plain": [
              "         index  ...                                             lyrics\n",
              "27657    27657  ...  You're my star\\nIt's such a wonder how you shi...\n",
              "69708    69708  ...  Here we are all alone\\nYou and me, privacy\\nAn...\n",
              "147914  147914  ...  What is this?\\nNumbers in your pocket\\nI remem...\n",
              "238541  238541  ...  Baby, you can come see me 'cause I need you he...\n",
              "315540  315540  ...  Verse 1:\\nStill pulling up on smoke\\nSkeng in ...\n",
              "335205  335205  ...  [Chorus]\\nI can't believe that love has gone a...\n",
              "\n",
              "[6 rows x 6 columns]"
            ]
          },
          "metadata": {
            "tags": []
          },
          "execution_count": 314
        }
      ]
    },
    {
      "cell_type": "markdown",
      "metadata": {
        "id": "5qIilViYXGCX",
        "colab_type": "text"
      },
      "source": [
        "After doing some research, there seems to be no rhyme or reason in the listed years for these songs. Therefore, they will be considered input error, and in a dataset of over 200,000 songs negligable to our dataset. Drop the rows."
      ]
    },
    {
      "cell_type": "code",
      "metadata": {
        "id": "KnV0p_cCXCW4",
        "colab_type": "code",
        "outputId": "18b54db6-c28a-40c5-d295-1ede501efdc7",
        "colab": {
          "base_uri": "https://localhost:8080/",
          "height": 51
        }
      },
      "source": [
        "# Eliminate year error songs\n",
        "songs = songs.loc[songs['year'] >= 1960]\n",
        "print('earliest song:', songs['year'].min())\n",
        "print('latest song:', songs['year'].min())"
      ],
      "execution_count": 315,
      "outputs": [
        {
          "output_type": "stream",
          "text": [
            "earliest song: 1968\n",
            "latest song: 1968\n"
          ],
          "name": "stdout"
        }
      ]
    },
    {
      "cell_type": "code",
      "metadata": {
        "id": "m1d7gBqLYnTU",
        "colab_type": "code",
        "outputId": "ca52990b-3322-4cc3-f256-86a82105f653",
        "colab": {
          "base_uri": "https://localhost:8080/",
          "height": 34
        }
      },
      "source": [
        "# current number of songs\n",
        "len(songs)"
      ],
      "execution_count": 316,
      "outputs": [
        {
          "output_type": "execute_result",
          "data": {
            "text/plain": [
              "266550"
            ]
          },
          "metadata": {
            "tags": []
          },
          "execution_count": 316
        }
      ]
    },
    {
      "cell_type": "markdown",
      "metadata": {
        "id": "JzAFcX4wYl0m",
        "colab_type": "text"
      },
      "source": [
        "There are still far too many songs to realistically include in an NLP corpus with my resources. To further narrow the selection, as well as obtain the goal of generating more current-sounding hiphop lyrics, only the five recent years of songs will be considered. "
      ]
    },
    {
      "cell_type": "code",
      "metadata": {
        "id": "YZp9ceRNYAPo",
        "colab_type": "code",
        "outputId": "d9e69653-740a-41a6-8fde-b96ebe83fcb3",
        "colab": {
          "base_uri": "https://localhost:8080/",
          "height": 34
        }
      },
      "source": [
        "# Get the latest 5 unique years in the dataset\n",
        "latest_years = sorted(songs['year'].unique())[-5:]\n",
        "latest_years"
      ],
      "execution_count": 317,
      "outputs": [
        {
          "output_type": "execute_result",
          "data": {
            "text/plain": [
              "[2012, 2013, 2014, 2015, 2016]"
            ]
          },
          "metadata": {
            "tags": []
          },
          "execution_count": 317
        }
      ]
    },
    {
      "cell_type": "code",
      "metadata": {
        "id": "sCcPWa0XZaOX",
        "colab_type": "code",
        "outputId": "0119d760-e7e4-4164-ae90-8fd2670899ef",
        "colab": {
          "base_uri": "https://localhost:8080/",
          "height": 34
        }
      },
      "source": [
        "# Obtain the songs published within latest_years\n",
        "latest_songs = songs.loc[songs['year'].isin(latest_years)]\n",
        "latest_songs['year'].unique()"
      ],
      "execution_count": 318,
      "outputs": [
        {
          "output_type": "execute_result",
          "data": {
            "text/plain": [
              "array([2013, 2012, 2016, 2015, 2014])"
            ]
          },
          "metadata": {
            "tags": []
          },
          "execution_count": 318
        }
      ]
    },
    {
      "cell_type": "code",
      "metadata": {
        "id": "IZOujEPEZ8D3",
        "colab_type": "code",
        "outputId": "0471be25-09b8-474b-9f27-56c790c472b9",
        "colab": {
          "base_uri": "https://localhost:8080/",
          "height": 34
        }
      },
      "source": [
        "len(latest_songs)"
      ],
      "execution_count": 319,
      "outputs": [
        {
          "output_type": "execute_result",
          "data": {
            "text/plain": [
              "56165"
            ]
          },
          "metadata": {
            "tags": []
          },
          "execution_count": 319
        }
      ]
    },
    {
      "cell_type": "markdown",
      "metadata": {
        "id": "rv5J0QM5aBU1",
        "colab_type": "text"
      },
      "source": [
        "The dataframe has been reduced to 56,000+ songs, which is much better, but still too large for processing. Next, since again this is a rap-bot, not a pop-bot, elimination by genre will help.\n",
        "#### Genre"
      ]
    },
    {
      "cell_type": "code",
      "metadata": {
        "id": "800XIpWhZ98z",
        "colab_type": "code",
        "outputId": "de5c58ce-130e-475e-8911-acd17cec42cb",
        "colab": {
          "base_uri": "https://localhost:8080/",
          "height": 460
        }
      },
      "source": [
        "# Get number of rows listed for each genre\n",
        "genre_counts = latest_songs['genre'].value_counts()\n",
        "\n",
        "# visualize genre counts\n",
        "plt.figure(figsize=(10,6))\n",
        "sns.barplot(y=genre_counts.values, x=genre_counts.index)\n",
        "plt.xticks(rotation=90)\n",
        "plt.xlabel(xlabel='Genre')\n",
        "plt.ylabel(ylabel='Songs Listed')\n",
        "plt.title('Song Listings per Genre')\n",
        "plt.show()"
      ],
      "execution_count": 320,
      "outputs": [
        {
          "output_type": "display_data",
          "data": {
            "image/png": "[encoded data removed]",
            "text/plain": [
              "<Figure size 720x432 with 1 Axes>"
            ]
          },
          "metadata": {
            "tags": [],
            "needs_background": "light"
          }
        }
      ]
    },
    {
      "cell_type": "markdown",
      "metadata": {
        "id": "mgmhWUjtbISY",
        "colab_type": "text"
      },
      "source": [
        "Hip-Hop is definitely going to be the genre of choice in  generating rap lyrics (since rap and hip hop are synonymous). Before eliminating the rest of the genres, however, the `Not Available` and `Other` genre, which is similar in size to the Hip-hop genre, is intriguing..."
      ]
    },
    {
      "cell_type": "code",
      "metadata": {
        "id": "Y8ndxjw9akcW",
        "colab_type": "code",
        "outputId": "2b938f74-6ed7-4b2a-af66-0161d3343098",
        "colab": {
          "base_uri": "https://localhost:8080/",
          "height": 204
        }
      },
      "source": [
        "# Investigate 'Other' genre\n",
        "latest_songs.loc[latest_songs['genre'] == 'Other'].head(5)"
      ],
      "execution_count": 321,
      "outputs": [
        {
          "output_type": "execute_result",
          "data": {
            "text/html": [
              "<div>\n",
              "<style scoped>\n",
              "    .dataframe tbody tr th:only-of-type {\n",
              "        vertical-align: middle;\n",
              "    }\n",
              "\n",
              "    .dataframe tbody tr th {\n",
              "        vertical-align: top;\n",
              "    }\n",
              "\n",
              "    .dataframe thead th {\n",
              "        text-align: right;\n",
              "    }\n",
              "</style>\n",
              "<table border=\"1\" class=\"dataframe\">\n",
              "  <thead>\n",
              "    <tr style=\"text-align: right;\">\n",
              "      <th></th>\n",
              "      <th>index</th>\n",
              "      <th>song</th>\n",
              "      <th>year</th>\n",
              "      <th>artist</th>\n",
              "      <th>genre</th>\n",
              "      <th>lyrics</th>\n",
              "    </tr>\n",
              "  </thead>\n",
              "  <tbody>\n",
              "    <tr>\n",
              "      <th>453</th>\n",
              "      <td>453</td>\n",
              "      <td>dimestore-wedding-ring</td>\n",
              "      <td>2016</td>\n",
              "      <td>dave-sterling</td>\n",
              "      <td>Other</td>\n",
              "      <td>(A little thin band, her finger left hand)\\nSh...</td>\n",
              "    </tr>\n",
              "    <tr>\n",
              "      <th>468</th>\n",
              "      <td>468</td>\n",
              "      <td>acil-caara</td>\n",
              "      <td>2016</td>\n",
              "      <td>cenk-r-lr-etin</td>\n",
              "      <td>Other</td>\n",
              "      <td>Sen arardÄ±n beni cep telefonumdan\\nArardÄ±n,a...</td>\n",
              "    </tr>\n",
              "    <tr>\n",
              "      <th>469</th>\n",
              "      <td>469</td>\n",
              "      <td>asla-vazgerngmem-senden</td>\n",
              "      <td>2016</td>\n",
              "      <td>cenk-r-lr-etin</td>\n",
              "      <td>Other</td>\n",
              "      <td>devam et\\nhadi bebek\\ndevam et onu yapmaya,doÄ...</td>\n",
              "    </tr>\n",
              "    <tr>\n",
              "      <th>470</th>\n",
              "      <td>470</td>\n",
              "      <td>ka-ra-k-kanatlar</td>\n",
              "      <td>2016</td>\n",
              "      <td>cenk-r-lr-etin</td>\n",
              "      <td>Other</td>\n",
              "      <td>bebek anlamalÄ±yÄ±m\\nneden biz sadece birbirim...</td>\n",
              "    </tr>\n",
              "    <tr>\n",
              "      <th>471</th>\n",
              "      <td>471</td>\n",
              "      <td>asla-vazgerngme</td>\n",
              "      <td>2016</td>\n",
              "      <td>cenk-r-lr-etin</td>\n",
              "      <td>Other</td>\n",
              "      <td>SavaÅtÄ±ÄÄ±m Åu zalimler beni uyutmayacak\\n...</td>\n",
              "    </tr>\n",
              "  </tbody>\n",
              "</table>\n",
              "</div>"
            ],
            "text/plain": [
              "     index  ...                                             lyrics\n",
              "453    453  ...  (A little thin band, her finger left hand)\\nSh...\n",
              "468    468  ...  Sen arardÄ±n beni cep telefonumdan\\nArardÄ±n,a...\n",
              "469    469  ...  devam et\\nhadi bebek\\ndevam et onu yapmaya,doÄ...\n",
              "470    470  ...  bebek anlamalÄ±yÄ±m\\nneden biz sadece birbirim...\n",
              "471    471  ...  SavaÅtÄ±ÄÄ±m Åu zalimler beni uyutmayacak\\n...\n",
              "\n",
              "[5 rows x 6 columns]"
            ]
          },
          "metadata": {
            "tags": []
          },
          "execution_count": 321
        }
      ]
    },
    {
      "cell_type": "code",
      "metadata": {
        "id": "hFvA8cc8byZn",
        "colab_type": "code",
        "outputId": "456b8f31-c599-4206-dee9-ca92d063e258",
        "colab": {
          "base_uri": "https://localhost:8080/",
          "height": 204
        }
      },
      "source": [
        "# Investigate 'Not Available' genre\n",
        "latest_songs.loc[latest_songs['genre'] == 'Not Available'].head(5)"
      ],
      "execution_count": 322,
      "outputs": [
        {
          "output_type": "execute_result",
          "data": {
            "text/html": [
              "<div>\n",
              "<style scoped>\n",
              "    .dataframe tbody tr th:only-of-type {\n",
              "        vertical-align: middle;\n",
              "    }\n",
              "\n",
              "    .dataframe tbody tr th {\n",
              "        vertical-align: top;\n",
              "    }\n",
              "\n",
              "    .dataframe thead th {\n",
              "        text-align: right;\n",
              "    }\n",
              "</style>\n",
              "<table border=\"1\" class=\"dataframe\">\n",
              "  <thead>\n",
              "    <tr style=\"text-align: right;\">\n",
              "      <th></th>\n",
              "      <th>index</th>\n",
              "      <th>song</th>\n",
              "      <th>year</th>\n",
              "      <th>artist</th>\n",
              "      <th>genre</th>\n",
              "      <th>lyrics</th>\n",
              "    </tr>\n",
              "  </thead>\n",
              "  <tbody>\n",
              "    <tr>\n",
              "      <th>427</th>\n",
              "      <td>427</td>\n",
              "      <td>la-doble-cara</td>\n",
              "      <td>2013</td>\n",
              "      <td>banda-carnaval</td>\n",
              "      <td>Not Available</td>\n",
              "      <td>Ahora me dices que te arrepientes\\nTu de haber...</td>\n",
              "    </tr>\n",
              "    <tr>\n",
              "      <th>428</th>\n",
              "      <td>428</td>\n",
              "      <td>y-te-vas</td>\n",
              "      <td>2013</td>\n",
              "      <td>banda-carnaval</td>\n",
              "      <td>Not Available</td>\n",
              "      <td>Hoy, me parto en dos\\nDÃ³nde quedaron aquellas...</td>\n",
              "    </tr>\n",
              "    <tr>\n",
              "      <th>429</th>\n",
              "      <td>429</td>\n",
              "      <td>lo-que-pienso-de-ti</td>\n",
              "      <td>2012</td>\n",
              "      <td>banda-carnaval</td>\n",
              "      <td>Not Available</td>\n",
              "      <td>Que bonito es saber que me quieres tanto como ...</td>\n",
              "    </tr>\n",
              "    <tr>\n",
              "      <th>433</th>\n",
              "      <td>433</td>\n",
              "      <td>a-ver-a-que-horas</td>\n",
              "      <td>2016</td>\n",
              "      <td>banda-carnaval</td>\n",
              "      <td>Not Available</td>\n",
              "      <td>A Ver A Que Horas se te antoja darte cuenta\\nQ...</td>\n",
              "    </tr>\n",
              "    <tr>\n",
              "      <th>440</th>\n",
              "      <td>440</td>\n",
              "      <td>duo-desde-cuando-no-me-quieres</td>\n",
              "      <td>2016</td>\n",
              "      <td>banda-carnaval</td>\n",
              "      <td>Not Available</td>\n",
              "      <td>Amor\\nDesde cuÃ¡ndo no me quieres\\nHace cuÃ¡nt...</td>\n",
              "    </tr>\n",
              "  </tbody>\n",
              "</table>\n",
              "</div>"
            ],
            "text/plain": [
              "     index  ...                                             lyrics\n",
              "427    427  ...  Ahora me dices que te arrepientes\\nTu de haber...\n",
              "428    428  ...  Hoy, me parto en dos\\nDÃ³nde quedaron aquellas...\n",
              "429    429  ...  Que bonito es saber que me quieres tanto como ...\n",
              "433    433  ...  A Ver A Que Horas se te antoja darte cuenta\\nQ...\n",
              "440    440  ...  Amor\\nDesde cuÃ¡ndo no me quieres\\nHace cuÃ¡nt...\n",
              "\n",
              "[5 rows x 6 columns]"
            ]
          },
          "metadata": {
            "tags": []
          },
          "execution_count": 322
        }
      ]
    },
    {
      "cell_type": "markdown",
      "metadata": {
        "id": "AWr1oglmcX9j",
        "colab_type": "text"
      },
      "source": [
        "While the `Other` genre is very hard to pin down, the `Not Available` genre, at least in the first five records, appears to be spanish. Neither apply to the current project, since the generated lyrics are intended to be in English (which will be touched on later)."
      ]
    },
    {
      "cell_type": "code",
      "metadata": {
        "id": "6DhFvqElb8g9",
        "colab_type": "code",
        "outputId": "0a16568a-63de-4ba1-bb28-df5c81394db2",
        "colab": {
          "base_uri": "https://localhost:8080/",
          "height": 34
        }
      },
      "source": [
        "# Isolate hip-hop songs from latest songs\n",
        "latest_hiphop = latest_songs[latest_songs['genre'] == 'Hip-Hop']\n",
        "len(latest_hiphop)"
      ],
      "execution_count": 323,
      "outputs": [
        {
          "output_type": "execute_result",
          "data": {
            "text/plain": [
              "7000"
            ]
          },
          "metadata": {
            "tags": []
          },
          "execution_count": 323
        }
      ]
    },
    {
      "cell_type": "markdown",
      "metadata": {
        "id": "sRdFwUzjdLLH",
        "colab_type": "text"
      },
      "source": [
        "Now down to 7000 songs, the lyrics column will be used to justify further reducing\n",
        "#### Lyrics\n",
        "First, look for duplicated song lyrics"
      ]
    },
    {
      "cell_type": "code",
      "metadata": {
        "id": "aRGXgrULdA_N",
        "colab_type": "code",
        "outputId": "a6a2885f-e33e-4bb1-b541-109f40c31217",
        "colab": {
          "base_uri": "https://localhost:8080/",
          "height": 419
        }
      },
      "source": [
        "# Get duplicates\n",
        "duplicated = latest_hiphop['lyrics'].duplicated()\n",
        "\n",
        "# Get all songs and their duplicates\n",
        "duplicated_lyrics = latest_hiphop.loc[duplicated, 'lyrics']\n",
        "latest_hiphop.loc[latest_hiphop['lyrics'].isin(duplicated_lyrics)]"
      ],
      "execution_count": 324,
      "outputs": [
        {
          "output_type": "execute_result",
          "data": {
            "text/html": [
              "<div>\n",
              "<style scoped>\n",
              "    .dataframe tbody tr th:only-of-type {\n",
              "        vertical-align: middle;\n",
              "    }\n",
              "\n",
              "    .dataframe tbody tr th {\n",
              "        vertical-align: top;\n",
              "    }\n",
              "\n",
              "    .dataframe thead th {\n",
              "        text-align: right;\n",
              "    }\n",
              "</style>\n",
              "<table border=\"1\" class=\"dataframe\">\n",
              "  <thead>\n",
              "    <tr style=\"text-align: right;\">\n",
              "      <th></th>\n",
              "      <th>index</th>\n",
              "      <th>song</th>\n",
              "      <th>year</th>\n",
              "      <th>artist</th>\n",
              "      <th>genre</th>\n",
              "      <th>lyrics</th>\n",
              "    </tr>\n",
              "  </thead>\n",
              "  <tbody>\n",
              "    <tr>\n",
              "      <th>723</th>\n",
              "      <td>723</td>\n",
              "      <td>bduan-ck-dich-hoch</td>\n",
              "      <td>2012</td>\n",
              "      <td>deichkind</td>\n",
              "      <td>Hip-Hop</td>\n",
              "      <td>Halt die Deadline ein, so ist's fein\\nHol die ...</td>\n",
              "    </tr>\n",
              "    <tr>\n",
              "      <th>728</th>\n",
              "      <td>728</td>\n",
              "      <td>bduan-ck-dich-hoch-deluxe-remix</td>\n",
              "      <td>2012</td>\n",
              "      <td>deichkind</td>\n",
              "      <td>Hip-Hop</td>\n",
              "      <td>Halt die Deadline ein, so ist's fein\\nHol die ...</td>\n",
              "    </tr>\n",
              "    <tr>\n",
              "      <th>7789</th>\n",
              "      <td>7789</td>\n",
              "      <td>kids-again-zed-bias-remix</td>\n",
              "      <td>2014</td>\n",
              "      <td>example</td>\n",
              "      <td>Hip-Hop</td>\n",
              "      <td>We'll be whoever we wanna be\\nWe'll laugh in t...</td>\n",
              "    </tr>\n",
              "    <tr>\n",
              "      <th>7790</th>\n",
              "      <td>7790</td>\n",
              "      <td>all-the-wrong-places-calyx-teebee-remix</td>\n",
              "      <td>2014</td>\n",
              "      <td>example</td>\n",
              "      <td>Hip-Hop</td>\n",
              "      <td>I don't know where we are\\nBut can you bring m...</td>\n",
              "    </tr>\n",
              "    <tr>\n",
              "      <th>7791</th>\n",
              "      <td>7791</td>\n",
              "      <td>kids-again-dimension-remix</td>\n",
              "      <td>2014</td>\n",
              "      <td>example</td>\n",
              "      <td>Hip-Hop</td>\n",
              "      <td>We'll be whoever we wanna be\\nWe'll laugh in t...</td>\n",
              "    </tr>\n",
              "    <tr>\n",
              "      <th>...</th>\n",
              "      <td>...</td>\n",
              "      <td>...</td>\n",
              "      <td>...</td>\n",
              "      <td>...</td>\n",
              "      <td>...</td>\n",
              "      <td>...</td>\n",
              "    </tr>\n",
              "    <tr>\n",
              "      <th>360987</th>\n",
              "      <td>360987</td>\n",
              "      <td>bring-it-all-home</td>\n",
              "      <td>2012</td>\n",
              "      <td>dappy</td>\n",
              "      <td>Hip-Hop</td>\n",
              "      <td>We are , we are,\\nWe are, we are the only ones...</td>\n",
              "    </tr>\n",
              "    <tr>\n",
              "      <th>360991</th>\n",
              "      <td>360991</td>\n",
              "      <td>rockstar-bbc-live-lounge</td>\n",
              "      <td>2012</td>\n",
              "      <td>dappy</td>\n",
              "      <td>Hip-Hop</td>\n",
              "      <td>They say that I'm dangerous\\nLike everything I...</td>\n",
              "    </tr>\n",
              "    <tr>\n",
              "      <th>360997</th>\n",
              "      <td>360997</td>\n",
              "      <td>rockstar</td>\n",
              "      <td>2012</td>\n",
              "      <td>dappy</td>\n",
              "      <td>Hip-Hop</td>\n",
              "      <td>They say that I'm dangerous\\nLike everything I...</td>\n",
              "    </tr>\n",
              "    <tr>\n",
              "      <th>360998</th>\n",
              "      <td>360998</td>\n",
              "      <td>bring-it-home</td>\n",
              "      <td>2012</td>\n",
              "      <td>dappy</td>\n",
              "      <td>Hip-Hop</td>\n",
              "      <td>We are , we are,\\nWe are, we are the only ones...</td>\n",
              "    </tr>\n",
              "    <tr>\n",
              "      <th>361002</th>\n",
              "      <td>361002</td>\n",
              "      <td>no-regrets</td>\n",
              "      <td>2012</td>\n",
              "      <td>dappy</td>\n",
              "      <td>Hip-Hop</td>\n",
              "      <td>Oh oh oh oh oh oh na na na na na\\nOh oh oh oh ...</td>\n",
              "    </tr>\n",
              "  </tbody>\n",
              "</table>\n",
              "<p>1035 rows × 6 columns</p>\n",
              "</div>"
            ],
            "text/plain": [
              "         index  ...                                             lyrics\n",
              "723        723  ...  Halt die Deadline ein, so ist's fein\\nHol die ...\n",
              "728        728  ...  Halt die Deadline ein, so ist's fein\\nHol die ...\n",
              "7789      7789  ...  We'll be whoever we wanna be\\nWe'll laugh in t...\n",
              "7790      7790  ...  I don't know where we are\\nBut can you bring m...\n",
              "7791      7791  ...  We'll be whoever we wanna be\\nWe'll laugh in t...\n",
              "...        ...  ...                                                ...\n",
              "360987  360987  ...  We are , we are,\\nWe are, we are the only ones...\n",
              "360991  360991  ...  They say that I'm dangerous\\nLike everything I...\n",
              "360997  360997  ...  They say that I'm dangerous\\nLike everything I...\n",
              "360998  360998  ...  We are , we are,\\nWe are, we are the only ones...\n",
              "361002  361002  ...  Oh oh oh oh oh oh na na na na na\\nOh oh oh oh ...\n",
              "\n",
              "[1035 rows x 6 columns]"
            ]
          },
          "metadata": {
            "tags": []
          },
          "execution_count": 324
        }
      ]
    },
    {
      "cell_type": "code",
      "metadata": {
        "id": "648AuWPxe1c6",
        "colab_type": "code",
        "outputId": "f10419e6-7c75-4741-eadf-804696ccf950",
        "colab": {
          "base_uri": "https://localhost:8080/",
          "height": 34
        }
      },
      "source": [
        "# print total number of duplicates\n",
        "print('Duplicated Lyrics Count:', duplicated.sum())"
      ],
      "execution_count": 325,
      "outputs": [
        {
          "output_type": "stream",
          "text": [
            "Duplicated Lyrics Count: 578\n"
          ],
          "name": "stdout"
        }
      ]
    },
    {
      "cell_type": "markdown",
      "metadata": {
        "id": "swSthXfygQjX",
        "colab_type": "text"
      },
      "source": [
        "It appears duplicates could be live vs recorded or covers. In any case, only one copy of each song's lyrics is desired for the training set."
      ]
    },
    {
      "cell_type": "code",
      "metadata": {
        "id": "CpxerVwPgNUX",
        "colab_type": "code",
        "colab": {}
      },
      "source": [
        "# drop the duplicates from the dataframe\n",
        "latest_hiphop.drop(duplicated_lyrics.index, inplace=True)"
      ],
      "execution_count": 0,
      "outputs": []
    },
    {
      "cell_type": "code",
      "metadata": {
        "id": "HdkrQhtehLtk",
        "colab_type": "code",
        "outputId": "11f832ad-2637-4055-b732-2a06572c463a",
        "colab": {
          "base_uri": "https://localhost:8080/",
          "height": 34
        }
      },
      "source": [
        "len(latest_hiphop)"
      ],
      "execution_count": 327,
      "outputs": [
        {
          "output_type": "execute_result",
          "data": {
            "text/plain": [
              "6422"
            ]
          },
          "metadata": {
            "tags": []
          },
          "execution_count": 327
        }
      ]
    },
    {
      "cell_type": "code",
      "metadata": {
        "id": "EtqHsv4MhdIC",
        "colab_type": "code",
        "outputId": "0e8f056b-b97d-45eb-c993-4d00ac6492f2",
        "colab": {
          "base_uri": "https://localhost:8080/",
          "height": 204
        }
      },
      "source": [
        "latest_hiphop.head()"
      ],
      "execution_count": 328,
      "outputs": [
        {
          "output_type": "execute_result",
          "data": {
            "text/html": [
              "<div>\n",
              "<style scoped>\n",
              "    .dataframe tbody tr th:only-of-type {\n",
              "        vertical-align: middle;\n",
              "    }\n",
              "\n",
              "    .dataframe tbody tr th {\n",
              "        vertical-align: top;\n",
              "    }\n",
              "\n",
              "    .dataframe thead th {\n",
              "        text-align: right;\n",
              "    }\n",
              "</style>\n",
              "<table border=\"1\" class=\"dataframe\">\n",
              "  <thead>\n",
              "    <tr style=\"text-align: right;\">\n",
              "      <th></th>\n",
              "      <th>index</th>\n",
              "      <th>song</th>\n",
              "      <th>year</th>\n",
              "      <th>artist</th>\n",
              "      <th>genre</th>\n",
              "      <th>lyrics</th>\n",
              "    </tr>\n",
              "  </thead>\n",
              "  <tbody>\n",
              "    <tr>\n",
              "      <th>333</th>\n",
              "      <td>333</td>\n",
              "      <td>boyz-n-the-hood</td>\n",
              "      <td>2015</td>\n",
              "      <td>eazy-e</td>\n",
              "      <td>Hip-Hop</td>\n",
              "      <td>Hey yo man, remember that shit Eazy did a whil...</td>\n",
              "    </tr>\n",
              "    <tr>\n",
              "      <th>334</th>\n",
              "      <td>334</td>\n",
              "      <td>luv-4-dem-gangsta-z-cookin-soul-remix</td>\n",
              "      <td>2015</td>\n",
              "      <td>eazy-e</td>\n",
              "      <td>Hip-Hop</td>\n",
              "      <td>(Verse 1)\\nAw shit, let's take a trip\\nJust si...</td>\n",
              "    </tr>\n",
              "    <tr>\n",
              "      <th>714</th>\n",
              "      <td>714</td>\n",
              "      <td>der-strahl</td>\n",
              "      <td>2012</td>\n",
              "      <td>deichkind</td>\n",
              "      <td>Hip-Hop</td>\n",
              "      <td>Komm steig in das Raumschiff\\nWir bringen den ...</td>\n",
              "    </tr>\n",
              "    <tr>\n",
              "      <th>715</th>\n",
              "      <td>715</td>\n",
              "      <td>pferd-aus-glas</td>\n",
              "      <td>2012</td>\n",
              "      <td>deichkind</td>\n",
              "      <td>Hip-Hop</td>\n",
              "      <td>Ich checke meine Mail auf dem Segway\\nWas sind...</td>\n",
              "    </tr>\n",
              "    <tr>\n",
              "      <th>716</th>\n",
              "      <td>716</td>\n",
              "      <td>partnerlook</td>\n",
              "      <td>2012</td>\n",
              "      <td>deichkind</td>\n",
              "      <td>Hip-Hop</td>\n",
              "      <td>Ein Schritt vor, ein zurÃ¼ck\\nDu und ich ganz ...</td>\n",
              "    </tr>\n",
              "  </tbody>\n",
              "</table>\n",
              "</div>"
            ],
            "text/plain": [
              "     index  ...                                             lyrics\n",
              "333    333  ...  Hey yo man, remember that shit Eazy did a whil...\n",
              "334    334  ...  (Verse 1)\\nAw shit, let's take a trip\\nJust si...\n",
              "714    714  ...  Komm steig in das Raumschiff\\nWir bringen den ...\n",
              "715    715  ...  Ich checke meine Mail auf dem Segway\\nWas sind...\n",
              "716    716  ...  Ein Schritt vor, ein zurÃ¼ck\\nDu und ich ganz ...\n",
              "\n",
              "[5 rows x 6 columns]"
            ]
          },
          "metadata": {
            "tags": []
          },
          "execution_count": 328
        }
      ]
    },
    {
      "cell_type": "markdown",
      "metadata": {
        "id": "1nbiqM6OhZ9B",
        "colab_type": "text"
      },
      "source": [
        "Next, as is noticed above, it is obvious that multiple languages of lyrics are still in the dataset. As mentioned before, only english lyrics are intended to be produced by rap-bot, so only english songs are necessary for training. To determine the language of each song, a fantastic python package called [langdetect](https://pypi.org/project/langdetect/) by Nakatani Shuyo, will be used to determine the language of each song."
      ]
    },
    {
      "cell_type": "code",
      "metadata": {
        "id": "dQqzKtaOiVBj",
        "colab_type": "code",
        "colab": {}
      },
      "source": [
        "try:\n",
        "  import langdetect\n",
        "except:\n",
        "  !pip install langdetect --quiet\n",
        "  import langdetect"
      ],
      "execution_count": 0,
      "outputs": []
    },
    {
      "cell_type": "code",
      "metadata": {
        "id": "bORNK4NYhY8y",
        "colab_type": "code",
        "colab": {}
      },
      "source": [
        "# Define a function to detect the language of each song\n",
        "def detect_language(string):\n",
        "  try:\n",
        "    # use langdetect library to return a two letter\n",
        "    # indication of the text language\n",
        "    return langdetect.detect(string)\n",
        "  except:\n",
        "    # if no language can be determined, return none\n",
        "    return 'none'"
      ],
      "execution_count": 0,
      "outputs": []
    },
    {
      "cell_type": "code",
      "metadata": {
        "id": "AvVZhzU6iOzZ",
        "colab_type": "code",
        "outputId": "daa2b1d2-7e07-48d1-cd2d-ce9fd3bb4ab7",
        "colab": {
          "base_uri": "https://localhost:8080/",
          "height": 204
        }
      },
      "source": [
        "# apply the language detect function to all of the rows in the data\n",
        "latest_hiphop['language'] = latest_hiphop['lyrics'].apply(detect_language)\n",
        "latest_hiphop.head()"
      ],
      "execution_count": 331,
      "outputs": [
        {
          "output_type": "execute_result",
          "data": {
            "text/html": [
              "<div>\n",
              "<style scoped>\n",
              "    .dataframe tbody tr th:only-of-type {\n",
              "        vertical-align: middle;\n",
              "    }\n",
              "\n",
              "    .dataframe tbody tr th {\n",
              "        vertical-align: top;\n",
              "    }\n",
              "\n",
              "    .dataframe thead th {\n",
              "        text-align: right;\n",
              "    }\n",
              "</style>\n",
              "<table border=\"1\" class=\"dataframe\">\n",
              "  <thead>\n",
              "    <tr style=\"text-align: right;\">\n",
              "      <th></th>\n",
              "      <th>index</th>\n",
              "      <th>song</th>\n",
              "      <th>year</th>\n",
              "      <th>artist</th>\n",
              "      <th>genre</th>\n",
              "      <th>lyrics</th>\n",
              "      <th>language</th>\n",
              "    </tr>\n",
              "  </thead>\n",
              "  <tbody>\n",
              "    <tr>\n",
              "      <th>333</th>\n",
              "      <td>333</td>\n",
              "      <td>boyz-n-the-hood</td>\n",
              "      <td>2015</td>\n",
              "      <td>eazy-e</td>\n",
              "      <td>Hip-Hop</td>\n",
              "      <td>Hey yo man, remember that shit Eazy did a whil...</td>\n",
              "      <td>en</td>\n",
              "    </tr>\n",
              "    <tr>\n",
              "      <th>334</th>\n",
              "      <td>334</td>\n",
              "      <td>luv-4-dem-gangsta-z-cookin-soul-remix</td>\n",
              "      <td>2015</td>\n",
              "      <td>eazy-e</td>\n",
              "      <td>Hip-Hop</td>\n",
              "      <td>(Verse 1)\\nAw shit, let's take a trip\\nJust si...</td>\n",
              "      <td>en</td>\n",
              "    </tr>\n",
              "    <tr>\n",
              "      <th>714</th>\n",
              "      <td>714</td>\n",
              "      <td>der-strahl</td>\n",
              "      <td>2012</td>\n",
              "      <td>deichkind</td>\n",
              "      <td>Hip-Hop</td>\n",
              "      <td>Komm steig in das Raumschiff\\nWir bringen den ...</td>\n",
              "      <td>de</td>\n",
              "    </tr>\n",
              "    <tr>\n",
              "      <th>715</th>\n",
              "      <td>715</td>\n",
              "      <td>pferd-aus-glas</td>\n",
              "      <td>2012</td>\n",
              "      <td>deichkind</td>\n",
              "      <td>Hip-Hop</td>\n",
              "      <td>Ich checke meine Mail auf dem Segway\\nWas sind...</td>\n",
              "      <td>de</td>\n",
              "    </tr>\n",
              "    <tr>\n",
              "      <th>716</th>\n",
              "      <td>716</td>\n",
              "      <td>partnerlook</td>\n",
              "      <td>2012</td>\n",
              "      <td>deichkind</td>\n",
              "      <td>Hip-Hop</td>\n",
              "      <td>Ein Schritt vor, ein zurÃ¼ck\\nDu und ich ganz ...</td>\n",
              "      <td>de</td>\n",
              "    </tr>\n",
              "  </tbody>\n",
              "</table>\n",
              "</div>"
            ],
            "text/plain": [
              "     index  ... language\n",
              "333    333  ...       en\n",
              "334    334  ...       en\n",
              "714    714  ...       de\n",
              "715    715  ...       de\n",
              "716    716  ...       de\n",
              "\n",
              "[5 rows x 7 columns]"
            ]
          },
          "metadata": {
            "tags": []
          },
          "execution_count": 331
        }
      ]
    },
    {
      "cell_type": "code",
      "metadata": {
        "id": "WRgaWiw7jTUC",
        "colab_type": "code",
        "outputId": "2acdea14-f5b8-4e62-f918-6fbea27e22a5",
        "colab": {
          "base_uri": "https://localhost:8080/",
          "height": 419
        }
      },
      "source": [
        "# Get number of rows listed for each language\n",
        "lang_counts = latest_hiphop['language'].value_counts()\n",
        "\n",
        "# visualize language counts\n",
        "plt.figure(figsize=(10,6))\n",
        "sns.barplot(y=lang_counts.values, x=lang_counts.index)\n",
        "plt.xticks(rotation=90)\n",
        "plt.xlabel(xlabel='Language')\n",
        "plt.ylabel(ylabel='Songs Listed')\n",
        "plt.title('Song Listings per Language')\n",
        "plt.show()"
      ],
      "execution_count": 332,
      "outputs": [
        {
          "output_type": "display_data",
          "data": {
            "image/png": "[encoded data removed]",
            "text/plain": [
              "<Figure size 720x432 with 1 Axes>"
            ]
          },
          "metadata": {
            "tags": [],
            "needs_background": "light"
          }
        }
      ]
    },
    {
      "cell_type": "markdown",
      "metadata": {
        "id": "Y70d_6ZXk_uN",
        "colab_type": "text"
      },
      "source": [
        "Fortunately the overwhelming majority of songs are in the enlish language. Only select those songs..."
      ]
    },
    {
      "cell_type": "code",
      "metadata": {
        "id": "fuxUyseZk47t",
        "colab_type": "code",
        "outputId": "39b667e7-6330-4b83-eb84-3c117e00d7dc",
        "colab": {
          "base_uri": "https://localhost:8080/",
          "height": 34
        }
      },
      "source": [
        "# Isolate hiphop songs in dataframe with english lyrics\n",
        "latest_hiphop_en = latest_hiphop.loc[latest_hiphop['language'] == 'en']\n",
        "len(latest_hiphop_en)"
      ],
      "execution_count": 333,
      "outputs": [
        {
          "output_type": "execute_result",
          "data": {
            "text/plain": [
              "5712"
            ]
          },
          "metadata": {
            "tags": []
          },
          "execution_count": 333
        }
      ]
    },
    {
      "cell_type": "markdown",
      "metadata": {
        "id": "AuahlXjqlYsq",
        "colab_type": "text"
      },
      "source": [
        "Now down to 5716 songs, the desired segment of the dataset has been isolated. More rows could be dropped during the outliers stage, but this is a good idea of how large the corpus will be.\n",
        "#### Outliers"
      ]
    },
    {
      "cell_type": "markdown",
      "metadata": {
        "id": "HVsOlbKav1FZ",
        "colab_type": "text"
      },
      "source": [
        "Each song is a series of lines separated by the `\\n` character. To ensure this is consistent throughout the dataset, lines will be counted, and the average character length of each line in each song will also be counted, with the intention of providing insight into any outliers that may exist."
      ]
    },
    {
      "cell_type": "code",
      "metadata": {
        "id": "uKBWqeESvwWO",
        "colab_type": "code",
        "colab": {}
      },
      "source": [
        "# get the number of lines in each song\n",
        "latest_hiphop_en['num_lines'] = latest_hiphop_en['lyrics'].str.split('\\n').apply(len)\n",
        "# get the avg lenght of lines in each song\n",
        "latest_hiphop_en['avg_line_len'] = latest_hiphop_en['lyrics'].apply(len) / latest_hiphop_en['num_lines']"
      ],
      "execution_count": 0,
      "outputs": []
    },
    {
      "cell_type": "code",
      "metadata": {
        "id": "Vg3m1lArzH64",
        "colab_type": "code",
        "outputId": "32ea62d6-3b75-4162-c2e3-03e1cd70e311",
        "colab": {
          "base_uri": "https://localhost:8080/",
          "height": 433
        }
      },
      "source": [
        "# Visualize two boxplots, one for num_lines and the other for avg_line_len\n",
        "plt.figure(figsize=(10,3))\n",
        "sns.boxplot(latest_hiphop_en['num_lines'])\n",
        "plt.ylabel(ylabel='num_lines')\n",
        "plt.xlabel(xlabel='Count')\n",
        "plt.show()\n",
        "plt.figure(figsize=(10,3))\n",
        "sns.boxplot(latest_hiphop_en['avg_line_len'])\n",
        "plt.ylabel(ylabel='avg_line_len')\n",
        "plt.xlabel(xlabel='Length')\n",
        "plt.show()"
      ],
      "execution_count": 335,
      "outputs": [
        {
          "output_type": "display_data",
          "data": {
            "image/png": "[encoded data removed]",
            "text/plain": [
              "<Figure size 720x216 with 1 Axes>"
            ]
          },
          "metadata": {
            "tags": [],
            "needs_background": "light"
          }
        },
        {
          "output_type": "display_data",
          "data": {
            "image/png": "[encoded data removed]",
            "text/plain": [
              "<Figure size 720x216 with 1 Axes>"
            ]
          },
          "metadata": {
            "tags": [],
            "needs_background": "light"
          }
        }
      ]
    },
    {
      "cell_type": "markdown",
      "metadata": {
        "id": "UpnSGLqc0tMx",
        "colab_type": "text"
      },
      "source": [
        "The above boxplots illustrate a great many outliers, which in many cases is not a bad thing. However, it is necessary to handle. For `num_lines`, it is reasonable to assume some songs are far longer than other songs, but a song with over 1000 bars may be a bit much. That will be investigated and possibly dropped.\n",
        "\n",
        "For `avg_line_len`, high values may mean something more detrimental, like a lack or inconsistency of the `\\n` character. Those will also be investigated."
      ]
    },
    {
      "cell_type": "code",
      "metadata": {
        "id": "zl0dP9Usz64-",
        "colab_type": "code",
        "outputId": "b73421d6-b53f-4ffc-b2c0-2d2ed2900b66",
        "colab": {
          "base_uri": "https://localhost:8080/",
          "height": 1000
        }
      },
      "source": [
        "# Locate major outliers to the number of lines in each song\n",
        "num_line_outliers = latest_hiphop_en.loc[latest_hiphop_en['num_lines'] > latest_hiphop_en['num_lines'].quantile(.99)]\n",
        "num_line_outliers"
      ],
      "execution_count": 336,
      "outputs": [
        {
          "output_type": "execute_result",
          "data": {
            "text/html": [
              "<div>\n",
              "<style scoped>\n",
              "    .dataframe tbody tr th:only-of-type {\n",
              "        vertical-align: middle;\n",
              "    }\n",
              "\n",
              "    .dataframe tbody tr th {\n",
              "        vertical-align: top;\n",
              "    }\n",
              "\n",
              "    .dataframe thead th {\n",
              "        text-align: right;\n",
              "    }\n",
              "</style>\n",
              "<table border=\"1\" class=\"dataframe\">\n",
              "  <thead>\n",
              "    <tr style=\"text-align: right;\">\n",
              "      <th></th>\n",
              "      <th>index</th>\n",
              "      <th>song</th>\n",
              "      <th>year</th>\n",
              "      <th>artist</th>\n",
              "      <th>genre</th>\n",
              "      <th>lyrics</th>\n",
              "      <th>language</th>\n",
              "      <th>num_lines</th>\n",
              "      <th>avg_line_len</th>\n",
              "    </tr>\n",
              "  </thead>\n",
              "  <tbody>\n",
              "    <tr>\n",
              "      <th>18869</th>\n",
              "      <td>18869</td>\n",
              "      <td>rap-monument</td>\n",
              "      <td>2014</td>\n",
              "      <td>flatbush-zombies</td>\n",
              "      <td>Hip-Hop</td>\n",
              "      <td>RAPROCK LIT POP NEWS COUNTRY R&amp;B; HISTORY SPOR...</td>\n",
              "      <td>en</td>\n",
              "      <td>1091</td>\n",
              "      <td>38.617782</td>\n",
              "    </tr>\n",
              "    <tr>\n",
              "      <th>21878</th>\n",
              "      <td>21878</td>\n",
              "      <td>deep-sea-diver</td>\n",
              "      <td>2013</td>\n",
              "      <td>angel-haze</td>\n",
              "      <td>Hip-Hop</td>\n",
              "      <td>Rage colored lilies\\nBrave covered in pity\\nLi...</td>\n",
              "      <td>en</td>\n",
              "      <td>140</td>\n",
              "      <td>30.592857</td>\n",
              "    </tr>\n",
              "    <tr>\n",
              "      <th>39888</th>\n",
              "      <td>39888</td>\n",
              "      <td>yao-ming-remix</td>\n",
              "      <td>2012</td>\n",
              "      <td>david-banner</td>\n",
              "      <td>Hip-Hop</td>\n",
              "      <td>[Verse 1 - Chris Brown]\\nIm a king yes Im a di...</td>\n",
              "      <td>en</td>\n",
              "      <td>154</td>\n",
              "      <td>21.655844</td>\n",
              "    </tr>\n",
              "    <tr>\n",
              "      <th>40885</th>\n",
              "      <td>40885</td>\n",
              "      <td>independent-living</td>\n",
              "      <td>2012</td>\n",
              "      <td>dizzy-wright</td>\n",
              "      <td>Hip-Hop</td>\n",
              "      <td>Uh\\nIt's too easy...\\nI'm doin' good I don't n...</td>\n",
              "      <td>en</td>\n",
              "      <td>147</td>\n",
              "      <td>37.095238</td>\n",
              "    </tr>\n",
              "    <tr>\n",
              "      <th>42770</th>\n",
              "      <td>42770</td>\n",
              "      <td>bottles-and-rockin-j-s-remix</td>\n",
              "      <td>2012</td>\n",
              "      <td>game</td>\n",
              "      <td>Hip-Hop</td>\n",
              "      <td>[Dj Khaled]\\nAyo Game, what they do boy\\nIt's ...</td>\n",
              "      <td>en</td>\n",
              "      <td>167</td>\n",
              "      <td>32.586826</td>\n",
              "    </tr>\n",
              "    <tr>\n",
              "      <th>43005</th>\n",
              "      <td>43005</td>\n",
              "      <td>hit-em-hard</td>\n",
              "      <td>2014</td>\n",
              "      <td>game</td>\n",
              "      <td>Hip-Hop</td>\n",
              "      <td>I got a black mac and a six pack\\nI don't work...</td>\n",
              "      <td>en</td>\n",
              "      <td>140</td>\n",
              "      <td>34.585714</td>\n",
              "    </tr>\n",
              "    <tr>\n",
              "      <th>50813</th>\n",
              "      <td>50813</td>\n",
              "      <td>murals-changes</td>\n",
              "      <td>2016</td>\n",
              "      <td>berner</td>\n",
              "      <td>Hip-Hop</td>\n",
              "      <td>[Murals]\\n[Hook: Berner]\\n(Life)\\nI live for m...</td>\n",
              "      <td>en</td>\n",
              "      <td>169</td>\n",
              "      <td>35.751479</td>\n",
              "    </tr>\n",
              "    <tr>\n",
              "      <th>51164</th>\n",
              "      <td>51164</td>\n",
              "      <td>free-meal-horseshoe-gang-diss</td>\n",
              "      <td>2015</td>\n",
              "      <td>funk-volume</td>\n",
              "      <td>Hip-Hop</td>\n",
              "      <td>[Intro: Hopsin]\\nHorseshit Gang is amateurs\\nF...</td>\n",
              "      <td>en</td>\n",
              "      <td>161</td>\n",
              "      <td>47.055901</td>\n",
              "    </tr>\n",
              "    <tr>\n",
              "      <th>56664</th>\n",
              "      <td>56664</td>\n",
              "      <td>everybody</td>\n",
              "      <td>2013</td>\n",
              "      <td>dave-east</td>\n",
              "      <td>Hip-Hop</td>\n",
              "      <td>That's what everybody say, that's what everybo...</td>\n",
              "      <td>en</td>\n",
              "      <td>149</td>\n",
              "      <td>38.872483</td>\n",
              "    </tr>\n",
              "    <tr>\n",
              "      <th>69457</th>\n",
              "      <td>69457</td>\n",
              "      <td>lotta-that</td>\n",
              "      <td>2014</td>\n",
              "      <td>g-eazy</td>\n",
              "      <td>Hip-Hop</td>\n",
              "      <td>Talking 'bout whiskey bottles\\n(Gotta lotta lo...</td>\n",
              "      <td>en</td>\n",
              "      <td>152</td>\n",
              "      <td>35.703947</td>\n",
              "    </tr>\n",
              "    <tr>\n",
              "      <th>79900</th>\n",
              "      <td>79900</td>\n",
              "      <td>toma-remix</td>\n",
              "      <td>2016</td>\n",
              "      <td>g4-boyz</td>\n",
              "      <td>Hip-Hop</td>\n",
              "      <td>[Pre-Hook: Buggy]\\nUno dos tres\\nCuatro cinco ...</td>\n",
              "      <td>en</td>\n",
              "      <td>161</td>\n",
              "      <td>33.242236</td>\n",
              "    </tr>\n",
              "    <tr>\n",
              "      <th>82323</th>\n",
              "      <td>82323</td>\n",
              "      <td>rap-superstar</td>\n",
              "      <td>2014</td>\n",
              "      <td>cypress-hill</td>\n",
              "      <td>Hip-Hop</td>\n",
              "      <td>Most people don't see how much work is really ...</td>\n",
              "      <td>en</td>\n",
              "      <td>154</td>\n",
              "      <td>27.844156</td>\n",
              "    </tr>\n",
              "    <tr>\n",
              "      <th>100548</th>\n",
              "      <td>100548</td>\n",
              "      <td>30</td>\n",
              "      <td>2016</td>\n",
              "      <td>big-k-r-i-t</td>\n",
              "      <td>Hip-Hop</td>\n",
              "      <td>[Intro]\\nSo it don't really matter how much mo...</td>\n",
              "      <td>en</td>\n",
              "      <td>161</td>\n",
              "      <td>33.142857</td>\n",
              "    </tr>\n",
              "    <tr>\n",
              "      <th>101705</th>\n",
              "      <td>101705</td>\n",
              "      <td>pop-that</td>\n",
              "      <td>2013</td>\n",
              "      <td>french-montana</td>\n",
              "      <td>Hip-Hop</td>\n",
              "      <td>(Don't stop, pop that, don't stop)\\n(Pop that ...</td>\n",
              "      <td>en</td>\n",
              "      <td>143</td>\n",
              "      <td>35.818182</td>\n",
              "    </tr>\n",
              "    <tr>\n",
              "      <th>105297</th>\n",
              "      <td>105297</td>\n",
              "      <td>dipset-hot-97-freestyle</td>\n",
              "      <td>2013</td>\n",
              "      <td>cam-ron</td>\n",
              "      <td>Hip-Hop</td>\n",
              "      <td>[Cam'Ron]\\nNew York City, you are now tuned in...</td>\n",
              "      <td>en</td>\n",
              "      <td>261</td>\n",
              "      <td>45.126437</td>\n",
              "    </tr>\n",
              "    <tr>\n",
              "      <th>120712</th>\n",
              "      <td>120712</td>\n",
              "      <td>shabba</td>\n",
              "      <td>2016</td>\n",
              "      <td>chris-brown</td>\n",
              "      <td>Hip-Hop</td>\n",
              "      <td>Something like shabba\\nSomething like shabba\\n...</td>\n",
              "      <td>en</td>\n",
              "      <td>159</td>\n",
              "      <td>29.924528</td>\n",
              "    </tr>\n",
              "    <tr>\n",
              "      <th>120736</th>\n",
              "      <td>120736</td>\n",
              "      <td>whippin</td>\n",
              "      <td>2016</td>\n",
              "      <td>chris-brown</td>\n",
              "      <td>Hip-Hop</td>\n",
              "      <td>[Intro: Knine]\\nWhipping up some work\\nPhone g...</td>\n",
              "      <td>en</td>\n",
              "      <td>154</td>\n",
              "      <td>39.201299</td>\n",
              "    </tr>\n",
              "    <tr>\n",
              "      <th>126936</th>\n",
              "      <td>126936</td>\n",
              "      <td>instrument</td>\n",
              "      <td>2014</td>\n",
              "      <td>the-clark-sisters</td>\n",
              "      <td>Hip-Hop</td>\n",
              "      <td>Giants,\\nDo die.\\nThe bigger they are,\\nThe ha...</td>\n",
              "      <td>en</td>\n",
              "      <td>148</td>\n",
              "      <td>15.175676</td>\n",
              "    </tr>\n",
              "    <tr>\n",
              "      <th>134901</th>\n",
              "      <td>134901</td>\n",
              "      <td>today</td>\n",
              "      <td>2016</td>\n",
              "      <td>danny-brown</td>\n",
              "      <td>Hip-Hop</td>\n",
              "      <td>Watch who you 'round\\nGotta watch they mouth\\n...</td>\n",
              "      <td>en</td>\n",
              "      <td>147</td>\n",
              "      <td>21.829932</td>\n",
              "    </tr>\n",
              "    <tr>\n",
              "      <th>135826</th>\n",
              "      <td>135826</td>\n",
              "      <td>bet-cypher-2015</td>\n",
              "      <td>2015</td>\n",
              "      <td>black-thought</td>\n",
              "      <td>Hip-Hop</td>\n",
              "      <td>Lin:\\nLin-Miranda here\\nHave you not seen what...</td>\n",
              "      <td>en</td>\n",
              "      <td>139</td>\n",
              "      <td>34.827338</td>\n",
              "    </tr>\n",
              "    <tr>\n",
              "      <th>148069</th>\n",
              "      <td>148069</td>\n",
              "      <td>rip-vs-poet-laurette</td>\n",
              "      <td>2012</td>\n",
              "      <td>canibus</td>\n",
              "      <td>Hip-Hop</td>\n",
              "      <td>[Intro: 'Gladiator' sample]\\nYou have proved y...</td>\n",
              "      <td>en</td>\n",
              "      <td>139</td>\n",
              "      <td>93.870504</td>\n",
              "    </tr>\n",
              "    <tr>\n",
              "      <th>151258</th>\n",
              "      <td>151258</td>\n",
              "      <td>catch-a-body</td>\n",
              "      <td>2013</td>\n",
              "      <td>cassidy</td>\n",
              "      <td>Hip-Hop</td>\n",
              "      <td>[Intro]\\nYeah I'm about to body y'all\\nYeah, I...</td>\n",
              "      <td>en</td>\n",
              "      <td>163</td>\n",
              "      <td>45.184049</td>\n",
              "    </tr>\n",
              "    <tr>\n",
              "      <th>151342</th>\n",
              "      <td>151342</td>\n",
              "      <td>raid-meek-mill-diss</td>\n",
              "      <td>2016</td>\n",
              "      <td>cassidy</td>\n",
              "      <td>Hip-Hop</td>\n",
              "      <td>[Intro]\\nEverybody know Cassidy does what he d...</td>\n",
              "      <td>en</td>\n",
              "      <td>240</td>\n",
              "      <td>45.133333</td>\n",
              "    </tr>\n",
              "    <tr>\n",
              "      <th>152356</th>\n",
              "      <td>152356</td>\n",
              "      <td>friends</td>\n",
              "      <td>2015</td>\n",
              "      <td>damian-junior-gong-marley</td>\n",
              "      <td>Hip-Hop</td>\n",
              "      <td>These later days in Babylon\\nAs I watch your c...</td>\n",
              "      <td>en</td>\n",
              "      <td>139</td>\n",
              "      <td>25.079137</td>\n",
              "    </tr>\n",
              "    <tr>\n",
              "      <th>159084</th>\n",
              "      <td>159084</td>\n",
              "      <td>let-the-rhythm-hit-em</td>\n",
              "      <td>2014</td>\n",
              "      <td>eric-b-rakim</td>\n",
              "      <td>Hip-Hop</td>\n",
              "      <td>Let the rhythm hit 'em\\nI'm the arsenal\\nI got...</td>\n",
              "      <td>en</td>\n",
              "      <td>168</td>\n",
              "      <td>25.875000</td>\n",
              "    </tr>\n",
              "    <tr>\n",
              "      <th>163193</th>\n",
              "      <td>163193</td>\n",
              "      <td>rebirth</td>\n",
              "      <td>2013</td>\n",
              "      <td>bone-thugs</td>\n",
              "      <td>Hip-Hop</td>\n",
              "      <td>Everybody wanna sound like, sound like, sound ...</td>\n",
              "      <td>en</td>\n",
              "      <td>160</td>\n",
              "      <td>58.512500</td>\n",
              "    </tr>\n",
              "    <tr>\n",
              "      <th>170160</th>\n",
              "      <td>170160</td>\n",
              "      <td>100-racks</td>\n",
              "      <td>2016</td>\n",
              "      <td>future</td>\n",
              "      <td>Hip-Hop</td>\n",
              "      <td>[DJ Esco &amp; Future:]\\nSummer 16! Yeah!\\nFreeban...</td>\n",
              "      <td>en</td>\n",
              "      <td>161</td>\n",
              "      <td>33.279503</td>\n",
              "    </tr>\n",
              "    <tr>\n",
              "      <th>170189</th>\n",
              "      <td>170189</td>\n",
              "      <td>3500</td>\n",
              "      <td>2015</td>\n",
              "      <td>future</td>\n",
              "      <td>Hip-Hop</td>\n",
              "      <td>Bandana wrapped-wrapped 'round your head\\nThe ...</td>\n",
              "      <td>en</td>\n",
              "      <td>161</td>\n",
              "      <td>36.223602</td>\n",
              "    </tr>\n",
              "    <tr>\n",
              "      <th>170226</th>\n",
              "      <td>170226</td>\n",
              "      <td>codeine-crazy</td>\n",
              "      <td>2014</td>\n",
              "      <td>future</td>\n",
              "      <td>Hip-Hop</td>\n",
              "      <td>Codeine crazy\\nYeah\\nPour that bubbly, pour th...</td>\n",
              "      <td>en</td>\n",
              "      <td>148</td>\n",
              "      <td>34.479730</td>\n",
              "    </tr>\n",
              "    <tr>\n",
              "      <th>170229</th>\n",
              "      <td>170229</td>\n",
              "      <td>move-that-dope-key-wane-remix</td>\n",
              "      <td>2014</td>\n",
              "      <td>future</td>\n",
              "      <td>Hip-Hop</td>\n",
              "      <td>Real dope dealer forreal!\\nHaha! Hahaha\\nYoung...</td>\n",
              "      <td>en</td>\n",
              "      <td>156</td>\n",
              "      <td>37.910256</td>\n",
              "    </tr>\n",
              "    <tr>\n",
              "      <th>172649</th>\n",
              "      <td>172649</td>\n",
              "      <td>you-had-too-much-to-drink</td>\n",
              "      <td>2014</td>\n",
              "      <td>epmd</td>\n",
              "      <td>Hip-Hop</td>\n",
              "      <td>Aiyyo whassup E man?\\nYo coolin PMD\\nTrue true...</td>\n",
              "      <td>en</td>\n",
              "      <td>189</td>\n",
              "      <td>31.137566</td>\n",
              "    </tr>\n",
              "    <tr>\n",
              "      <th>191363</th>\n",
              "      <td>191363</td>\n",
              "      <td>w-r-o-h</td>\n",
              "      <td>2014</td>\n",
              "      <td>ab-soul</td>\n",
              "      <td>Hip-Hop</td>\n",
              "      <td>All my life\\nAll my life\\nI say all my life, a...</td>\n",
              "      <td>en</td>\n",
              "      <td>341</td>\n",
              "      <td>45.932551</td>\n",
              "    </tr>\n",
              "    <tr>\n",
              "      <th>209620</th>\n",
              "      <td>209620</td>\n",
              "      <td>da-day</td>\n",
              "      <td>2016</td>\n",
              "      <td>desiigner</td>\n",
              "      <td>Hip-Hop</td>\n",
              "      <td>I don't know what I'mma do today\\nI don't know...</td>\n",
              "      <td>en</td>\n",
              "      <td>192</td>\n",
              "      <td>37.161458</td>\n",
              "    </tr>\n",
              "    <tr>\n",
              "      <th>224020</th>\n",
              "      <td>224020</td>\n",
              "      <td>don-t-wanna-trusta-the-llama-song</td>\n",
              "      <td>2013</td>\n",
              "      <td>chynaman</td>\n",
              "      <td>Hip-Hop</td>\n",
              "      <td>Remix\\nIts ya boy\\nChChChChynaman\\nMr. Go Get ...</td>\n",
              "      <td>en</td>\n",
              "      <td>155</td>\n",
              "      <td>18.800000</td>\n",
              "    </tr>\n",
              "    <tr>\n",
              "      <th>232407</th>\n",
              "      <td>232407</td>\n",
              "      <td>red-pill</td>\n",
              "      <td>2016</td>\n",
              "      <td>ghetts</td>\n",
              "      <td>Hip-Hop</td>\n",
              "      <td>[Ghetts]\\nI ain't got tats on my skin\\nBut I g...</td>\n",
              "      <td>en</td>\n",
              "      <td>140</td>\n",
              "      <td>34.264286</td>\n",
              "    </tr>\n",
              "    <tr>\n",
              "      <th>246773</th>\n",
              "      <td>246773</td>\n",
              "      <td>got-it-all</td>\n",
              "      <td>2012</td>\n",
              "      <td>eve</td>\n",
              "      <td>Hip-Hop</td>\n",
              "      <td>Eve:\\nCome on, huh\\nCome on, yo, yo, yo\\nSome ...</td>\n",
              "      <td>en</td>\n",
              "      <td>167</td>\n",
              "      <td>27.293413</td>\n",
              "    </tr>\n",
              "    <tr>\n",
              "      <th>261941</th>\n",
              "      <td>261941</td>\n",
              "      <td>wassup</td>\n",
              "      <td>2012</td>\n",
              "      <td>audio-push</td>\n",
              "      <td>Hip-Hop</td>\n",
              "      <td>(Pricetag)\\nOne time.. Look\\nI pull up\\nDrop t...</td>\n",
              "      <td>en</td>\n",
              "      <td>153</td>\n",
              "      <td>20.483660</td>\n",
              "    </tr>\n",
              "    <tr>\n",
              "      <th>261969</th>\n",
              "      <td>261969</td>\n",
              "      <td>heavy</td>\n",
              "      <td>2015</td>\n",
              "      <td>audio-push</td>\n",
              "      <td>Hip-Hop</td>\n",
              "      <td>Aw, man man man man\\nWe 'bout to go on tour\\nT...</td>\n",
              "      <td>en</td>\n",
              "      <td>157</td>\n",
              "      <td>37.821656</td>\n",
              "    </tr>\n",
              "    <tr>\n",
              "      <th>272893</th>\n",
              "      <td>272893</td>\n",
              "      <td>bullshit</td>\n",
              "      <td>2013</td>\n",
              "      <td>akala</td>\n",
              "      <td>Hip-Hop</td>\n",
              "      <td>[Verse 1]\\nThey rob the third world of every c...</td>\n",
              "      <td>en</td>\n",
              "      <td>157</td>\n",
              "      <td>23.904459</td>\n",
              "    </tr>\n",
              "    <tr>\n",
              "      <th>278120</th>\n",
              "      <td>278120</td>\n",
              "      <td>all-i-think-about</td>\n",
              "      <td>2015</td>\n",
              "      <td>bad-meets-evil</td>\n",
              "      <td>Hip-Hop</td>\n",
              "      <td>From the moment I go to bed 'till I wake up\\nA...</td>\n",
              "      <td>en</td>\n",
              "      <td>178</td>\n",
              "      <td>46.528090</td>\n",
              "    </tr>\n",
              "    <tr>\n",
              "      <th>278122</th>\n",
              "      <td>278122</td>\n",
              "      <td>vegas</td>\n",
              "      <td>2014</td>\n",
              "      <td>bad-meets-evil</td>\n",
              "      <td>Hip-Hop</td>\n",
              "      <td>Got a shit-eatin' grin\\nBitch, show me them it...</td>\n",
              "      <td>en</td>\n",
              "      <td>169</td>\n",
              "      <td>42.183432</td>\n",
              "    </tr>\n",
              "    <tr>\n",
              "      <th>292203</th>\n",
              "      <td>292203</td>\n",
              "      <td>i-think-im-in-love</td>\n",
              "      <td>2012</td>\n",
              "      <td>chamillionaire</td>\n",
              "      <td>Hip-Hop</td>\n",
              "      <td>mo money mo\\nu bring me trou-\\nmo money mo\\nu ...</td>\n",
              "      <td>en</td>\n",
              "      <td>144</td>\n",
              "      <td>34.881944</td>\n",
              "    </tr>\n",
              "    <tr>\n",
              "      <th>313168</th>\n",
              "      <td>313168</td>\n",
              "      <td>bet-shady-2-0-cypher</td>\n",
              "      <td>2013</td>\n",
              "      <td>eminem</td>\n",
              "      <td>Hip-Hop</td>\n",
              "      <td>[Intro: Eminem]\\nWelcome to Detroit\\nThis is t...</td>\n",
              "      <td>en</td>\n",
              "      <td>197</td>\n",
              "      <td>45.299492</td>\n",
              "    </tr>\n",
              "    <tr>\n",
              "      <th>313172</th>\n",
              "      <td>313172</td>\n",
              "      <td>rap-god</td>\n",
              "      <td>2013</td>\n",
              "      <td>eminem</td>\n",
              "      <td>Hip-Hop</td>\n",
              "      <td>Look, I was gonna go easy on you and not to hu...</td>\n",
              "      <td>en</td>\n",
              "      <td>149</td>\n",
              "      <td>52.644295</td>\n",
              "    </tr>\n",
              "    <tr>\n",
              "      <th>313181</th>\n",
              "      <td>313181</td>\n",
              "      <td>bad-guy</td>\n",
              "      <td>2013</td>\n",
              "      <td>eminem</td>\n",
              "      <td>Hip-Hop</td>\n",
              "      <td>It's like I'm in the dirt, digging up old hurt...</td>\n",
              "      <td>en</td>\n",
              "      <td>157</td>\n",
              "      <td>45.452229</td>\n",
              "    </tr>\n",
              "    <tr>\n",
              "      <th>313182</th>\n",
              "      <td>313182</td>\n",
              "      <td>baby</td>\n",
              "      <td>2013</td>\n",
              "      <td>eminem</td>\n",
              "      <td>Hip-Hop</td>\n",
              "      <td>One thousand different houses and munchausen\\n...</td>\n",
              "      <td>en</td>\n",
              "      <td>152</td>\n",
              "      <td>34.144737</td>\n",
              "    </tr>\n",
              "    <tr>\n",
              "      <th>313207</th>\n",
              "      <td>313207</td>\n",
              "      <td>westwood-freestyle-2010</td>\n",
              "      <td>2013</td>\n",
              "      <td>eminem</td>\n",
              "      <td>Hip-Hop</td>\n",
              "      <td>[Verse 1: Mr. Porter]\\nWelcome to the ill worl...</td>\n",
              "      <td>en</td>\n",
              "      <td>161</td>\n",
              "      <td>48.770186</td>\n",
              "    </tr>\n",
              "    <tr>\n",
              "      <th>313507</th>\n",
              "      <td>313507</td>\n",
              "      <td>campaign-speech</td>\n",
              "      <td>2016</td>\n",
              "      <td>eminem</td>\n",
              "      <td>Hip-Hop</td>\n",
              "      <td>Jumped out of the second floor of a record sto...</td>\n",
              "      <td>en</td>\n",
              "      <td>186</td>\n",
              "      <td>44.134409</td>\n",
              "    </tr>\n",
              "    <tr>\n",
              "      <th>313577</th>\n",
              "      <td>313577</td>\n",
              "      <td>detroit-vs-everybody</td>\n",
              "      <td>2014</td>\n",
              "      <td>eminem</td>\n",
              "      <td>Hip-Hop</td>\n",
              "      <td>Tell 'em if they want it, they can come get th...</td>\n",
              "      <td>en</td>\n",
              "      <td>144</td>\n",
              "      <td>49.326389</td>\n",
              "    </tr>\n",
              "    <tr>\n",
              "      <th>322386</th>\n",
              "      <td>322386</td>\n",
              "      <td>fire-in-the-booth-part-2</td>\n",
              "      <td>2015</td>\n",
              "      <td>chip</td>\n",
              "      <td>Hip-Hop</td>\n",
              "      <td>[Instrumental 1]\\nI know you man just might ru...</td>\n",
              "      <td>en</td>\n",
              "      <td>176</td>\n",
              "      <td>34.170455</td>\n",
              "    </tr>\n",
              "    <tr>\n",
              "      <th>335289</th>\n",
              "      <td>335289</td>\n",
              "      <td>bowser</td>\n",
              "      <td>2012</td>\n",
              "      <td>chris-webby</td>\n",
              "      <td>Hip-Hop</td>\n",
              "      <td>All you motherfuckers\\nTurn it up let it (boun...</td>\n",
              "      <td>en</td>\n",
              "      <td>147</td>\n",
              "      <td>27.272109</td>\n",
              "    </tr>\n",
              "    <tr>\n",
              "      <th>343258</th>\n",
              "      <td>343258</td>\n",
              "      <td>earthquake</td>\n",
              "      <td>2016</td>\n",
              "      <td>b-o-b</td>\n",
              "      <td>Hip-Hop</td>\n",
              "      <td>Born into competition\\nWith a feeling that som...</td>\n",
              "      <td>en</td>\n",
              "      <td>147</td>\n",
              "      <td>35.693878</td>\n",
              "    </tr>\n",
              "    <tr>\n",
              "      <th>346761</th>\n",
              "      <td>346761</td>\n",
              "      <td>ask-me-words</td>\n",
              "      <td>2013</td>\n",
              "      <td>childish-gambino</td>\n",
              "      <td>Hip-Hop</td>\n",
              "      <td>@DC26\\n1. Which track had the most interesting...</td>\n",
              "      <td>en</td>\n",
              "      <td>181</td>\n",
              "      <td>61.220994</td>\n",
              "    </tr>\n",
              "    <tr>\n",
              "      <th>346764</th>\n",
              "      <td>346764</td>\n",
              "      <td>because-the-internet-screenplay-part-2</td>\n",
              "      <td>2013</td>\n",
              "      <td>childish-gambino</td>\n",
              "      <td>Hip-Hop</td>\n",
              "      <td>CUT TO:\\n*******[PLAY SONG \"DIAL UP\" AT THIS P...</td>\n",
              "      <td>en</td>\n",
              "      <td>351</td>\n",
              "      <td>66.575499</td>\n",
              "    </tr>\n",
              "    <tr>\n",
              "      <th>346767</th>\n",
              "      <td>346767</td>\n",
              "      <td>because-the-internet-screenplay-part-4</td>\n",
              "      <td>2013</td>\n",
              "      <td>childish-gambino</td>\n",
              "      <td>Hip-Hop</td>\n",
              "      <td>[VISUAL PLAYING \"DEATH BY NUMBERS\"]\\n*******[P...</td>\n",
              "      <td>en</td>\n",
              "      <td>250</td>\n",
              "      <td>60.024000</td>\n",
              "    </tr>\n",
              "    <tr>\n",
              "      <th>360364</th>\n",
              "      <td>360364</td>\n",
              "      <td>armageddon</td>\n",
              "      <td>2012</td>\n",
              "      <td>da-grym-reefer</td>\n",
              "      <td>Hip-Hop</td>\n",
              "      <td>Swift as the wind\\nQuiet as the forest\\nConque...</td>\n",
              "      <td>en</td>\n",
              "      <td>166</td>\n",
              "      <td>22.301205</td>\n",
              "    </tr>\n",
              "  </tbody>\n",
              "</table>\n",
              "</div>"
            ],
            "text/plain": [
              "         index                                    song  ...  num_lines avg_line_len\n",
              "18869    18869                            rap-monument  ...       1091    38.617782\n",
              "21878    21878                          deep-sea-diver  ...        140    30.592857\n",
              "39888    39888                          yao-ming-remix  ...        154    21.655844\n",
              "40885    40885                      independent-living  ...        147    37.095238\n",
              "42770    42770            bottles-and-rockin-j-s-remix  ...        167    32.586826\n",
              "43005    43005                             hit-em-hard  ...        140    34.585714\n",
              "50813    50813                          murals-changes  ...        169    35.751479\n",
              "51164    51164           free-meal-horseshoe-gang-diss  ...        161    47.055901\n",
              "56664    56664                               everybody  ...        149    38.872483\n",
              "69457    69457                              lotta-that  ...        152    35.703947\n",
              "79900    79900                              toma-remix  ...        161    33.242236\n",
              "82323    82323                           rap-superstar  ...        154    27.844156\n",
              "100548  100548                                      30  ...        161    33.142857\n",
              "101705  101705                                pop-that  ...        143    35.818182\n",
              "105297  105297                 dipset-hot-97-freestyle  ...        261    45.126437\n",
              "120712  120712                                  shabba  ...        159    29.924528\n",
              "120736  120736                                 whippin  ...        154    39.201299\n",
              "126936  126936                              instrument  ...        148    15.175676\n",
              "134901  134901                                   today  ...        147    21.829932\n",
              "135826  135826                         bet-cypher-2015  ...        139    34.827338\n",
              "148069  148069                    rip-vs-poet-laurette  ...        139    93.870504\n",
              "151258  151258                            catch-a-body  ...        163    45.184049\n",
              "151342  151342                     raid-meek-mill-diss  ...        240    45.133333\n",
              "152356  152356                                 friends  ...        139    25.079137\n",
              "159084  159084                   let-the-rhythm-hit-em  ...        168    25.875000\n",
              "163193  163193                                 rebirth  ...        160    58.512500\n",
              "170160  170160                               100-racks  ...        161    33.279503\n",
              "170189  170189                                    3500  ...        161    36.223602\n",
              "170226  170226                           codeine-crazy  ...        148    34.479730\n",
              "170229  170229           move-that-dope-key-wane-remix  ...        156    37.910256\n",
              "172649  172649               you-had-too-much-to-drink  ...        189    31.137566\n",
              "191363  191363                                 w-r-o-h  ...        341    45.932551\n",
              "209620  209620                                  da-day  ...        192    37.161458\n",
              "224020  224020       don-t-wanna-trusta-the-llama-song  ...        155    18.800000\n",
              "232407  232407                                red-pill  ...        140    34.264286\n",
              "246773  246773                              got-it-all  ...        167    27.293413\n",
              "261941  261941                                  wassup  ...        153    20.483660\n",
              "261969  261969                                   heavy  ...        157    37.821656\n",
              "272893  272893                                bullshit  ...        157    23.904459\n",
              "278120  278120                       all-i-think-about  ...        178    46.528090\n",
              "278122  278122                                   vegas  ...        169    42.183432\n",
              "292203  292203                      i-think-im-in-love  ...        144    34.881944\n",
              "313168  313168                    bet-shady-2-0-cypher  ...        197    45.299492\n",
              "313172  313172                                 rap-god  ...        149    52.644295\n",
              "313181  313181                                 bad-guy  ...        157    45.452229\n",
              "313182  313182                                    baby  ...        152    34.144737\n",
              "313207  313207                 westwood-freestyle-2010  ...        161    48.770186\n",
              "313507  313507                         campaign-speech  ...        186    44.134409\n",
              "313577  313577                    detroit-vs-everybody  ...        144    49.326389\n",
              "322386  322386                fire-in-the-booth-part-2  ...        176    34.170455\n",
              "335289  335289                                  bowser  ...        147    27.272109\n",
              "343258  343258                              earthquake  ...        147    35.693878\n",
              "346761  346761                            ask-me-words  ...        181    61.220994\n",
              "346764  346764  because-the-internet-screenplay-part-2  ...        351    66.575499\n",
              "346767  346767  because-the-internet-screenplay-part-4  ...        250    60.024000\n",
              "360364  360364                              armageddon  ...        166    22.301205\n",
              "\n",
              "[56 rows x 9 columns]"
            ]
          },
          "metadata": {
            "tags": []
          },
          "execution_count": 336
        }
      ]
    },
    {
      "cell_type": "code",
      "metadata": {
        "id": "mn5dYtLs2-xT",
        "colab_type": "code",
        "outputId": "d88b7753-a8d1-4793-d115-0f7a32acdc01",
        "colab": {
          "base_uri": "https://localhost:8080/",
          "height": 1000
        }
      },
      "source": [
        "# Locate major outliers to the average length of each line in each song\n",
        "avg_line_len_outliers = latest_hiphop_en.loc[latest_hiphop_en['avg_line_len'] > latest_hiphop_en['avg_line_len'].quantile(.99)]\n",
        "avg_line_len_outliers"
      ],
      "execution_count": 337,
      "outputs": [
        {
          "output_type": "execute_result",
          "data": {
            "text/html": [
              "<div>\n",
              "<style scoped>\n",
              "    .dataframe tbody tr th:only-of-type {\n",
              "        vertical-align: middle;\n",
              "    }\n",
              "\n",
              "    .dataframe tbody tr th {\n",
              "        vertical-align: top;\n",
              "    }\n",
              "\n",
              "    .dataframe thead th {\n",
              "        text-align: right;\n",
              "    }\n",
              "</style>\n",
              "<table border=\"1\" class=\"dataframe\">\n",
              "  <thead>\n",
              "    <tr style=\"text-align: right;\">\n",
              "      <th></th>\n",
              "      <th>index</th>\n",
              "      <th>song</th>\n",
              "      <th>year</th>\n",
              "      <th>artist</th>\n",
              "      <th>genre</th>\n",
              "      <th>lyrics</th>\n",
              "      <th>language</th>\n",
              "      <th>num_lines</th>\n",
              "      <th>avg_line_len</th>\n",
              "    </tr>\n",
              "  </thead>\n",
              "  <tbody>\n",
              "    <tr>\n",
              "      <th>16435</th>\n",
              "      <td>16435</td>\n",
              "      <td>pncintlofwgkta-faturing-tyler-the-creator-domo...</td>\n",
              "      <td>2012</td>\n",
              "      <td>casey-veggies</td>\n",
              "      <td>Hip-Hop</td>\n",
              "      <td>i lock this house this is my electronic via fr...</td>\n",
              "      <td>en</td>\n",
              "      <td>1</td>\n",
              "      <td>130.000000</td>\n",
              "    </tr>\n",
              "    <tr>\n",
              "      <th>21897</th>\n",
              "      <td>21897</td>\n",
              "      <td>live-it-up-practice</td>\n",
              "      <td>2012</td>\n",
              "      <td>angel-haze</td>\n",
              "      <td>Hip-Hop</td>\n",
              "      <td>Verse1\\tHeart Broken too often love wasted no ...</td>\n",
              "      <td>en</td>\n",
              "      <td>1</td>\n",
              "      <td>3093.000000</td>\n",
              "    </tr>\n",
              "    <tr>\n",
              "      <th>27131</th>\n",
              "      <td>27131</td>\n",
              "      <td>broken-glass</td>\n",
              "      <td>2012</td>\n",
              "      <td>grandmaster-flash</td>\n",
              "      <td>Hip-Hop</td>\n",
              "      <td>Broken glass everywhere dont push me cuz am cl...</td>\n",
              "      <td>en</td>\n",
              "      <td>1</td>\n",
              "      <td>91.000000</td>\n",
              "    </tr>\n",
              "    <tr>\n",
              "      <th>27934</th>\n",
              "      <td>27934</td>\n",
              "      <td>lies</td>\n",
              "      <td>2012</td>\n",
              "      <td>big-l</td>\n",
              "      <td>Hip-Hop</td>\n",
              "      <td>Contradiction is a word you no to well dont lo...</td>\n",
              "      <td>en</td>\n",
              "      <td>1</td>\n",
              "      <td>126.000000</td>\n",
              "    </tr>\n",
              "    <tr>\n",
              "      <th>30545</th>\n",
              "      <td>30545</td>\n",
              "      <td>wowzers-freestyle</td>\n",
              "      <td>2013</td>\n",
              "      <td>fat-trel</td>\n",
              "      <td>Hip-Hop</td>\n",
              "      <td>My dick a bazooka my house aint a safe my dick...</td>\n",
              "      <td>en</td>\n",
              "      <td>2</td>\n",
              "      <td>1129.500000</td>\n",
              "    </tr>\n",
              "    <tr>\n",
              "      <th>42775</th>\n",
              "      <td>42775</td>\n",
              "      <td>god-speed</td>\n",
              "      <td>2012</td>\n",
              "      <td>game</td>\n",
              "      <td>Hip-Hop</td>\n",
              "      <td>When you hear that sound, you already know wha...</td>\n",
              "      <td>en</td>\n",
              "      <td>47</td>\n",
              "      <td>91.361702</td>\n",
              "    </tr>\n",
              "    <tr>\n",
              "      <th>42783</th>\n",
              "      <td>42783</td>\n",
              "      <td>i-don-t-like</td>\n",
              "      <td>2012</td>\n",
              "      <td>game</td>\n",
              "      <td>Hip-Hop</td>\n",
              "      <td>The Game ft. Kanye West, Pusha T, Chief Keef, ...</td>\n",
              "      <td>en</td>\n",
              "      <td>1</td>\n",
              "      <td>80.000000</td>\n",
              "    </tr>\n",
              "    <tr>\n",
              "      <th>50783</th>\n",
              "      <td>50783</td>\n",
              "      <td>shut-up</td>\n",
              "      <td>2012</td>\n",
              "      <td>berner</td>\n",
              "      <td>Hip-Hop</td>\n",
              "      <td>Shut Up x4\\nAll that talking ain't making no b...</td>\n",
              "      <td>en</td>\n",
              "      <td>17</td>\n",
              "      <td>171.941176</td>\n",
              "    </tr>\n",
              "    <tr>\n",
              "      <th>51163</th>\n",
              "      <td>51163</td>\n",
              "      <td>fv-2013</td>\n",
              "      <td>2013</td>\n",
              "      <td>funk-volume</td>\n",
              "      <td>Hip-Hop</td>\n",
              "      <td>Hook:\\nFinna throw the whole game outta focus ...</td>\n",
              "      <td>en</td>\n",
              "      <td>15</td>\n",
              "      <td>313.666667</td>\n",
              "    </tr>\n",
              "    <tr>\n",
              "      <th>54313</th>\n",
              "      <td>54313</td>\n",
              "      <td>in-the-ghetto</td>\n",
              "      <td>2012</td>\n",
              "      <td>e-40</td>\n",
              "      <td>Hip-Hop</td>\n",
              "      <td>(E40) GHE TTO pissed stained mattress on the f...</td>\n",
              "      <td>en</td>\n",
              "      <td>1</td>\n",
              "      <td>867.000000</td>\n",
              "    </tr>\n",
              "    <tr>\n",
              "      <th>54350</th>\n",
              "      <td>54350</td>\n",
              "      <td>zombie</td>\n",
              "      <td>2012</td>\n",
              "      <td>e-40</td>\n",
              "      <td>Hip-Hop</td>\n",
              "      <td>If you're zombie, [x7:] If you're zombie, mons...</td>\n",
              "      <td>en</td>\n",
              "      <td>7</td>\n",
              "      <td>376.571429</td>\n",
              "    </tr>\n",
              "    <tr>\n",
              "      <th>58357</th>\n",
              "      <td>58357</td>\n",
              "      <td>light-skinned-hoes</td>\n",
              "      <td>2012</td>\n",
              "      <td>chip-tha-ripper</td>\n",
              "      <td>Hip-Hop</td>\n",
              "      <td>Ass Titties two asses four titties\\nAss Tittie...</td>\n",
              "      <td>en</td>\n",
              "      <td>10</td>\n",
              "      <td>190.900000</td>\n",
              "    </tr>\n",
              "    <tr>\n",
              "      <th>61458</th>\n",
              "      <td>61458</td>\n",
              "      <td>yellow-cane</td>\n",
              "      <td>2013</td>\n",
              "      <td>b-breaks</td>\n",
              "      <td>Hip-Hop</td>\n",
              "      <td>O on nights like theses I keep falling to my k...</td>\n",
              "      <td>en</td>\n",
              "      <td>1</td>\n",
              "      <td>92.000000</td>\n",
              "    </tr>\n",
              "    <tr>\n",
              "      <th>63109</th>\n",
              "      <td>63109</td>\n",
              "      <td>love-sosa-remix</td>\n",
              "      <td>2012</td>\n",
              "      <td>fred-the-godson</td>\n",
              "      <td>Hip-Hop</td>\n",
              "      <td>They Love That Sosa Every Gram move by my chau...</td>\n",
              "      <td>en</td>\n",
              "      <td>1</td>\n",
              "      <td>642.000000</td>\n",
              "    </tr>\n",
              "    <tr>\n",
              "      <th>64197</th>\n",
              "      <td>64197</td>\n",
              "      <td>get-it-poppin</td>\n",
              "      <td>2013</td>\n",
              "      <td>big-tuck</td>\n",
              "      <td>Hip-Hop</td>\n",
              "      <td>Chorus: Talkin ' but ya aint sayin shit, i don...</td>\n",
              "      <td>en</td>\n",
              "      <td>4</td>\n",
              "      <td>689.000000</td>\n",
              "    </tr>\n",
              "    <tr>\n",
              "      <th>74337</th>\n",
              "      <td>74337</td>\n",
              "      <td>shut-up</td>\n",
              "      <td>2012</td>\n",
              "      <td>don-trip</td>\n",
              "      <td>Hip-Hop</td>\n",
              "      <td>Down the highway in the rented Acura, bricks i...</td>\n",
              "      <td>en</td>\n",
              "      <td>1</td>\n",
              "      <td>3235.000000</td>\n",
              "    </tr>\n",
              "    <tr>\n",
              "      <th>80091</th>\n",
              "      <td>80091</td>\n",
              "      <td>carnivores</td>\n",
              "      <td>2012</td>\n",
              "      <td>circle-of-tyrants</td>\n",
              "      <td>Hip-Hop</td>\n",
              "      <td>*sample* \"I'm not gonna hurt you, I'm just gon...</td>\n",
              "      <td>en</td>\n",
              "      <td>10</td>\n",
              "      <td>349.200000</td>\n",
              "    </tr>\n",
              "    <tr>\n",
              "      <th>87428</th>\n",
              "      <td>87428</td>\n",
              "      <td>elephant-in-the-room</td>\n",
              "      <td>2013</td>\n",
              "      <td>gemstones</td>\n",
              "      <td>Hip-Hop</td>\n",
              "      <td>INTRO: {Boy Talking}\\nI had a dream that one d...</td>\n",
              "      <td>en</td>\n",
              "      <td>40</td>\n",
              "      <td>98.300000</td>\n",
              "    </tr>\n",
              "    <tr>\n",
              "      <th>101799</th>\n",
              "      <td>101799</td>\n",
              "      <td>dueces</td>\n",
              "      <td>2012</td>\n",
              "      <td>french-montana</td>\n",
              "      <td>Hip-Hop</td>\n",
              "      <td>I aint fucking wid you bird, i need a bitch li...</td>\n",
              "      <td>en</td>\n",
              "      <td>7</td>\n",
              "      <td>298.714286</td>\n",
              "    </tr>\n",
              "    <tr>\n",
              "      <th>103450</th>\n",
              "      <td>103450</td>\n",
              "      <td>rowdy-a-tribute</td>\n",
              "      <td>2012</td>\n",
              "      <td>a-b</td>\n",
              "      <td>Hip-Hop</td>\n",
              "      <td>NOVEMBER 27 Its a sad day\\na tragic accident o...</td>\n",
              "      <td>en</td>\n",
              "      <td>17</td>\n",
              "      <td>81.529412</td>\n",
              "    </tr>\n",
              "    <tr>\n",
              "      <th>120599</th>\n",
              "      <td>120599</td>\n",
              "      <td>love-it</td>\n",
              "      <td>2012</td>\n",
              "      <td>chris-brown</td>\n",
              "      <td>Hip-Hop</td>\n",
              "      <td>i wanna go cause there is no other way to be w...</td>\n",
              "      <td>en</td>\n",
              "      <td>1</td>\n",
              "      <td>146.000000</td>\n",
              "    </tr>\n",
              "    <tr>\n",
              "      <th>123738</th>\n",
              "      <td>123738</td>\n",
              "      <td>guess-whos-bizzack</td>\n",
              "      <td>2012</td>\n",
              "      <td>fabolous</td>\n",
              "      <td>Hip-Hop</td>\n",
              "      <td>I made some changes in my life don't regret no...</td>\n",
              "      <td>en</td>\n",
              "      <td>10</td>\n",
              "      <td>235.800000</td>\n",
              "    </tr>\n",
              "    <tr>\n",
              "      <th>126178</th>\n",
              "      <td>126178</td>\n",
              "      <td>love-that-bitch</td>\n",
              "      <td>2012</td>\n",
              "      <td>dmx</td>\n",
              "      <td>Hip-Hop</td>\n",
              "      <td>Aye see this the shit I be talking bout, you k...</td>\n",
              "      <td>en</td>\n",
              "      <td>32</td>\n",
              "      <td>98.500000</td>\n",
              "    </tr>\n",
              "    <tr>\n",
              "      <th>126993</th>\n",
              "      <td>126993</td>\n",
              "      <td>all-day</td>\n",
              "      <td>2012</td>\n",
              "      <td>2pac</td>\n",
              "      <td>Hip-Hop</td>\n",
              "      <td>multiple gun shots burnin turnin rappers 2 vic...</td>\n",
              "      <td>en</td>\n",
              "      <td>1</td>\n",
              "      <td>176.000000</td>\n",
              "    </tr>\n",
              "    <tr>\n",
              "      <th>148069</th>\n",
              "      <td>148069</td>\n",
              "      <td>rip-vs-poet-laurette</td>\n",
              "      <td>2012</td>\n",
              "      <td>canibus</td>\n",
              "      <td>Hip-Hop</td>\n",
              "      <td>[Intro: 'Gladiator' sample]\\nYou have proved y...</td>\n",
              "      <td>en</td>\n",
              "      <td>139</td>\n",
              "      <td>93.870504</td>\n",
              "    </tr>\n",
              "    <tr>\n",
              "      <th>151992</th>\n",
              "      <td>151992</td>\n",
              "      <td>story-by-young-jeezy</td>\n",
              "      <td>2012</td>\n",
              "      <td>big-sean</td>\n",
              "      <td>Hip-Hop</td>\n",
              "      <td>Yea, you know what this is, nigga. You know wh...</td>\n",
              "      <td>en</td>\n",
              "      <td>2</td>\n",
              "      <td>164.500000</td>\n",
              "    </tr>\n",
              "    <tr>\n",
              "      <th>154892</th>\n",
              "      <td>154892</td>\n",
              "      <td>lord-its-in-your-hand</td>\n",
              "      <td>2012</td>\n",
              "      <td>az</td>\n",
              "      <td>Hip-Hop</td>\n",
              "      <td>theres been times when i i felton down but i d...</td>\n",
              "      <td>en</td>\n",
              "      <td>1</td>\n",
              "      <td>82.000000</td>\n",
              "    </tr>\n",
              "    <tr>\n",
              "      <th>167256</th>\n",
              "      <td>167256</td>\n",
              "      <td>cinos-lighthouse-zone</td>\n",
              "      <td>2013</td>\n",
              "      <td>cinos</td>\n",
              "      <td>Hip-Hop</td>\n",
              "      <td>the light feels warm, im attracted to its pres...</td>\n",
              "      <td>en</td>\n",
              "      <td>3</td>\n",
              "      <td>689.000000</td>\n",
              "    </tr>\n",
              "    <tr>\n",
              "      <th>170093</th>\n",
              "      <td>170093</td>\n",
              "      <td>my-ho-2</td>\n",
              "      <td>2012</td>\n",
              "      <td>future</td>\n",
              "      <td>Hip-Hop</td>\n",
              "      <td>Thats my ho thats yo ho 2\\nThats my ho (6x)\\nI...</td>\n",
              "      <td>en</td>\n",
              "      <td>12</td>\n",
              "      <td>135.500000</td>\n",
              "    </tr>\n",
              "    <tr>\n",
              "      <th>170118</th>\n",
              "      <td>170118</td>\n",
              "      <td>transform</td>\n",
              "      <td>2012</td>\n",
              "      <td>future</td>\n",
              "      <td>Hip-Hop</td>\n",
              "      <td>my cook up game crazy, my hustle game amazin. ...</td>\n",
              "      <td>en</td>\n",
              "      <td>1</td>\n",
              "      <td>197.000000</td>\n",
              "    </tr>\n",
              "    <tr>\n",
              "      <th>175002</th>\n",
              "      <td>175002</td>\n",
              "      <td>gopher-guts</td>\n",
              "      <td>2012</td>\n",
              "      <td>aesop-rock</td>\n",
              "      <td>Hip-Hop</td>\n",
              "      <td>Greasy Grimy Gopher Guts;Explain Poolside; 0 f...</td>\n",
              "      <td>en</td>\n",
              "      <td>35</td>\n",
              "      <td>86.028571</td>\n",
              "    </tr>\n",
              "    <tr>\n",
              "      <th>175003</th>\n",
              "      <td>175003</td>\n",
              "      <td>racing-stripes</td>\n",
              "      <td>2012</td>\n",
              "      <td>aesop-rock</td>\n",
              "      <td>Hip-Hop</td>\n",
              "      <td>There is a bowl cut template mapped with a bil...</td>\n",
              "      <td>en</td>\n",
              "      <td>8</td>\n",
              "      <td>299.750000</td>\n",
              "    </tr>\n",
              "    <tr>\n",
              "      <th>182936</th>\n",
              "      <td>182936</td>\n",
              "      <td>trend-setter</td>\n",
              "      <td>2012</td>\n",
              "      <td>brandon-vee</td>\n",
              "      <td>Hip-Hop</td>\n",
              "      <td>Intro: We trendsetters man with this industry ...</td>\n",
              "      <td>en</td>\n",
              "      <td>7</td>\n",
              "      <td>478.428571</td>\n",
              "    </tr>\n",
              "    <tr>\n",
              "      <th>182939</th>\n",
              "      <td>182939</td>\n",
              "      <td>call-me</td>\n",
              "      <td>2012</td>\n",
              "      <td>brandon-vee</td>\n",
              "      <td>Hip-Hop</td>\n",
              "      <td>Chorus Baby call me on the late night Baby can...</td>\n",
              "      <td>en</td>\n",
              "      <td>4</td>\n",
              "      <td>498.750000</td>\n",
              "    </tr>\n",
              "    <tr>\n",
              "      <th>182969</th>\n",
              "      <td>182969</td>\n",
              "      <td>the-one</td>\n",
              "      <td>2012</td>\n",
              "      <td>g-o-o-d-music</td>\n",
              "      <td>Hip-Hop</td>\n",
              "      <td>(\"Hook\" Marsha Ambrosius)\\nThe storm is on the...</td>\n",
              "      <td>en</td>\n",
              "      <td>14</td>\n",
              "      <td>191.714286</td>\n",
              "    </tr>\n",
              "    <tr>\n",
              "      <th>191333</th>\n",
              "      <td>191333</td>\n",
              "      <td>montreality-interview-2013</td>\n",
              "      <td>2013</td>\n",
              "      <td>ab-soul</td>\n",
              "      <td>Hip-Hop</td>\n",
              "      <td>[Intro]\\nYo, yo, it's Ab-Soul the Black Lip Pa...</td>\n",
              "      <td>en</td>\n",
              "      <td>39</td>\n",
              "      <td>243.769231</td>\n",
              "    </tr>\n",
              "    <tr>\n",
              "      <th>191850</th>\n",
              "      <td>191850</td>\n",
              "      <td>dirty-money</td>\n",
              "      <td>2012</td>\n",
              "      <td>french-montana-coke-boys</td>\n",
              "      <td>Hip-Hop</td>\n",
              "      <td>I make dirty money or I stay like some ones ha...</td>\n",
              "      <td>en</td>\n",
              "      <td>1</td>\n",
              "      <td>134.000000</td>\n",
              "    </tr>\n",
              "    <tr>\n",
              "      <th>192829</th>\n",
              "      <td>192829</td>\n",
              "      <td>pressure-3</td>\n",
              "      <td>2012</td>\n",
              "      <td>flawless-real-talk</td>\n",
              "      <td>Hip-Hop</td>\n",
              "      <td>You'll never see the pain I hide behind a flip...</td>\n",
              "      <td>en</td>\n",
              "      <td>16</td>\n",
              "      <td>166.875000</td>\n",
              "    </tr>\n",
              "    <tr>\n",
              "      <th>225928</th>\n",
              "      <td>225928</td>\n",
              "      <td>trust-none</td>\n",
              "      <td>2012</td>\n",
              "      <td>chief-keef</td>\n",
              "      <td>Hip-Hop</td>\n",
              "      <td>[Chorus]\\nTrust None, Bitch I Dont. Bitches On...</td>\n",
              "      <td>en</td>\n",
              "      <td>7</td>\n",
              "      <td>147.142857</td>\n",
              "    </tr>\n",
              "    <tr>\n",
              "      <th>238377</th>\n",
              "      <td>238377</td>\n",
              "      <td>jump-rope</td>\n",
              "      <td>2012</td>\n",
              "      <td>the-cool-kids</td>\n",
              "      <td>Hip-Hop</td>\n",
              "      <td>Chorus\\nIt's whatever however we say they go. ...</td>\n",
              "      <td>en</td>\n",
              "      <td>14</td>\n",
              "      <td>177.857143</td>\n",
              "    </tr>\n",
              "    <tr>\n",
              "      <th>242782</th>\n",
              "      <td>242782</td>\n",
              "      <td>we-buy-gold</td>\n",
              "      <td>2012</td>\n",
              "      <td>eightball-mjg</td>\n",
              "      <td>Hip-Hop</td>\n",
              "      <td>Eightball &amp; MJG Eightball &amp; MJG Eightball &amp; MJ...</td>\n",
              "      <td>en</td>\n",
              "      <td>1</td>\n",
              "      <td>79.000000</td>\n",
              "    </tr>\n",
              "    <tr>\n",
              "      <th>247076</th>\n",
              "      <td>247076</td>\n",
              "      <td>bootleg</td>\n",
              "      <td>2012</td>\n",
              "      <td>dayton-family</td>\n",
              "      <td>Hip-Hop</td>\n",
              "      <td>white navaitor eight twelves on cromes. you ca...</td>\n",
              "      <td>en</td>\n",
              "      <td>1</td>\n",
              "      <td>99.000000</td>\n",
              "    </tr>\n",
              "    <tr>\n",
              "      <th>249548</th>\n",
              "      <td>249548</td>\n",
              "      <td>boxframe-cadillac</td>\n",
              "      <td>2012</td>\n",
              "      <td>freddie-gibbs</td>\n",
              "      <td>Hip-Hop</td>\n",
              "      <td>got this dro that im blowin got me rollin slow...</td>\n",
              "      <td>en</td>\n",
              "      <td>1</td>\n",
              "      <td>114.000000</td>\n",
              "    </tr>\n",
              "    <tr>\n",
              "      <th>258082</th>\n",
              "      <td>258082</td>\n",
              "      <td>best-i-ve-never-had</td>\n",
              "      <td>2012</td>\n",
              "      <td>drake</td>\n",
              "      <td>Hip-Hop</td>\n",
              "      <td>chillin with no make on thats when your the pr...</td>\n",
              "      <td>en</td>\n",
              "      <td>1</td>\n",
              "      <td>84.000000</td>\n",
              "    </tr>\n",
              "    <tr>\n",
              "      <th>266417</th>\n",
              "      <td>266417</td>\n",
              "      <td>silent-art-child</td>\n",
              "      <td>2012</td>\n",
              "      <td>chino-xl</td>\n",
              "      <td>Hip-Hop</td>\n",
              "      <td>Intro (Jaharia): I don't know whether it was t...</td>\n",
              "      <td>en</td>\n",
              "      <td>7</td>\n",
              "      <td>257.142857</td>\n",
              "    </tr>\n",
              "    <tr>\n",
              "      <th>286981</th>\n",
              "      <td>286981</td>\n",
              "      <td>we-going-hard</td>\n",
              "      <td>2012</td>\n",
              "      <td>bow-wow</td>\n",
              "      <td>Hip-Hop</td>\n",
              "      <td>(Ace Hood)rnAce Hood!rnWhat's crackin' nigga?r...</td>\n",
              "      <td>en</td>\n",
              "      <td>1</td>\n",
              "      <td>1895.000000</td>\n",
              "    </tr>\n",
              "    <tr>\n",
              "      <th>299034</th>\n",
              "      <td>299034</td>\n",
              "      <td>brand-new</td>\n",
              "      <td>2012</td>\n",
              "      <td>dj-paul</td>\n",
              "      <td>Hip-Hop</td>\n",
              "      <td>(Brand New, Brand New, Here we go)\\n{DJ Paul}\\...</td>\n",
              "      <td>en</td>\n",
              "      <td>11</td>\n",
              "      <td>109.272727</td>\n",
              "    </tr>\n",
              "    <tr>\n",
              "      <th>307719</th>\n",
              "      <td>307719</td>\n",
              "      <td>by-no-means</td>\n",
              "      <td>2012</td>\n",
              "      <td>eppic</td>\n",
              "      <td>Hip-Hop</td>\n",
              "      <td>Verse 1:\\nWould you prefer me philosophical or...</td>\n",
              "      <td>en</td>\n",
              "      <td>10</td>\n",
              "      <td>208.500000</td>\n",
              "    </tr>\n",
              "    <tr>\n",
              "      <th>313173</th>\n",
              "      <td>313173</td>\n",
              "      <td>zane-lowe-bbc-radio-interview-part-1</td>\n",
              "      <td>2013</td>\n",
              "      <td>eminem</td>\n",
              "      <td>Hip-Hop</td>\n",
              "      <td>Zane Lowe: Welcome back to Radio One, Maida Va...</td>\n",
              "      <td>en</td>\n",
              "      <td>38</td>\n",
              "      <td>268.736842</td>\n",
              "    </tr>\n",
              "    <tr>\n",
              "      <th>313186</th>\n",
              "      <td>313186</td>\n",
              "      <td>zane-lowe-bbc-radio-interview-part-2</td>\n",
              "      <td>2013</td>\n",
              "      <td>eminem</td>\n",
              "      <td>Hip-Hop</td>\n",
              "      <td>[Snippet from \"Brainless\"]\\n\"Who can say for s...</td>\n",
              "      <td>en</td>\n",
              "      <td>80</td>\n",
              "      <td>149.950000</td>\n",
              "    </tr>\n",
              "    <tr>\n",
              "      <th>316019</th>\n",
              "      <td>316019</td>\n",
              "      <td>burn</td>\n",
              "      <td>2012</td>\n",
              "      <td>diggy-simmons</td>\n",
              "      <td>Hip-Hop</td>\n",
              "      <td>diggy !]\\nstay fresh , you can smell it on me....</td>\n",
              "      <td>en</td>\n",
              "      <td>17</td>\n",
              "      <td>119.764706</td>\n",
              "    </tr>\n",
              "    <tr>\n",
              "      <th>339986</th>\n",
              "      <td>339986</td>\n",
              "      <td>call-me</td>\n",
              "      <td>2012</td>\n",
              "      <td>chingy</td>\n",
              "      <td>Hip-Hop</td>\n",
              "      <td>call me if ya need some loven for the night ca...</td>\n",
              "      <td>en</td>\n",
              "      <td>1</td>\n",
              "      <td>141.000000</td>\n",
              "    </tr>\n",
              "    <tr>\n",
              "      <th>343158</th>\n",
              "      <td>343158</td>\n",
              "      <td>fucked-up</td>\n",
              "      <td>2012</td>\n",
              "      <td>b-o-b</td>\n",
              "      <td>Hip-Hop</td>\n",
              "      <td>FUCKED UP RONNIE\\nyou're fucked up ronnie you'...</td>\n",
              "      <td>en</td>\n",
              "      <td>2</td>\n",
              "      <td>178.500000</td>\n",
              "    </tr>\n",
              "    <tr>\n",
              "      <th>346741</th>\n",
              "      <td>346741</td>\n",
              "      <td>because-the-internet-screenplay-part-3</td>\n",
              "      <td>2013</td>\n",
              "      <td>childish-gambino</td>\n",
              "      <td>Hip-Hop</td>\n",
              "      <td>*******[PLAY SECRET TRACK 9 1/2 [CODED]Â NOW]...</td>\n",
              "      <td>en</td>\n",
              "      <td>71</td>\n",
              "      <td>99.830986</td>\n",
              "    </tr>\n",
              "    <tr>\n",
              "      <th>346751</th>\n",
              "      <td>346751</td>\n",
              "      <td>because-the-internet-screenplay-part-5</td>\n",
              "      <td>2013</td>\n",
              "      <td>childish-gambino</td>\n",
              "      <td>Hip-Hop</td>\n",
              "      <td>*******[PLAY SONG \"PINK TOES\" AT THIS POINT]**...</td>\n",
              "      <td>en</td>\n",
              "      <td>99</td>\n",
              "      <td>77.060606</td>\n",
              "    </tr>\n",
              "    <tr>\n",
              "      <th>346790</th>\n",
              "      <td>346790</td>\n",
              "      <td>i-it-all-starts-with-that-power-and-camp</td>\n",
              "      <td>2013</td>\n",
              "      <td>childish-gambino</td>\n",
              "      <td>Hip-Hop</td>\n",
              "      <td>This world Donald has talked about creating wa...</td>\n",
              "      <td>en</td>\n",
              "      <td>12</td>\n",
              "      <td>193.916667</td>\n",
              "    </tr>\n",
              "    <tr>\n",
              "      <th>353893</th>\n",
              "      <td>353893</td>\n",
              "      <td>street-money</td>\n",
              "      <td>2012</td>\n",
              "      <td>daz-dillinger</td>\n",
              "      <td>Hip-Hop</td>\n",
              "      <td>To the adult world the casual violonce of gang...</td>\n",
              "      <td>en</td>\n",
              "      <td>13</td>\n",
              "      <td>132.153846</td>\n",
              "    </tr>\n",
              "    <tr>\n",
              "      <th>360754</th>\n",
              "      <td>360754</td>\n",
              "      <td>hands-on-the-wheel</td>\n",
              "      <td>2012</td>\n",
              "      <td>emilio-rojas</td>\n",
              "      <td>Hip-Hop</td>\n",
              "      <td>Crush a bit, little bit, roll it up, take a hi...</td>\n",
              "      <td>en</td>\n",
              "      <td>33</td>\n",
              "      <td>76.060606</td>\n",
              "    </tr>\n",
              "  </tbody>\n",
              "</table>\n",
              "</div>"
            ],
            "text/plain": [
              "         index  ... avg_line_len\n",
              "16435    16435  ...   130.000000\n",
              "21897    21897  ...  3093.000000\n",
              "27131    27131  ...    91.000000\n",
              "27934    27934  ...   126.000000\n",
              "30545    30545  ...  1129.500000\n",
              "42775    42775  ...    91.361702\n",
              "42783    42783  ...    80.000000\n",
              "50783    50783  ...   171.941176\n",
              "51163    51163  ...   313.666667\n",
              "54313    54313  ...   867.000000\n",
              "54350    54350  ...   376.571429\n",
              "58357    58357  ...   190.900000\n",
              "61458    61458  ...    92.000000\n",
              "63109    63109  ...   642.000000\n",
              "64197    64197  ...   689.000000\n",
              "74337    74337  ...  3235.000000\n",
              "80091    80091  ...   349.200000\n",
              "87428    87428  ...    98.300000\n",
              "101799  101799  ...   298.714286\n",
              "103450  103450  ...    81.529412\n",
              "120599  120599  ...   146.000000\n",
              "123738  123738  ...   235.800000\n",
              "126178  126178  ...    98.500000\n",
              "126993  126993  ...   176.000000\n",
              "148069  148069  ...    93.870504\n",
              "151992  151992  ...   164.500000\n",
              "154892  154892  ...    82.000000\n",
              "167256  167256  ...   689.000000\n",
              "170093  170093  ...   135.500000\n",
              "170118  170118  ...   197.000000\n",
              "175002  175002  ...    86.028571\n",
              "175003  175003  ...   299.750000\n",
              "182936  182936  ...   478.428571\n",
              "182939  182939  ...   498.750000\n",
              "182969  182969  ...   191.714286\n",
              "191333  191333  ...   243.769231\n",
              "191850  191850  ...   134.000000\n",
              "192829  192829  ...   166.875000\n",
              "225928  225928  ...   147.142857\n",
              "238377  238377  ...   177.857143\n",
              "242782  242782  ...    79.000000\n",
              "247076  247076  ...    99.000000\n",
              "249548  249548  ...   114.000000\n",
              "258082  258082  ...    84.000000\n",
              "266417  266417  ...   257.142857\n",
              "286981  286981  ...  1895.000000\n",
              "299034  299034  ...   109.272727\n",
              "307719  307719  ...   208.500000\n",
              "313173  313173  ...   268.736842\n",
              "313186  313186  ...   149.950000\n",
              "316019  316019  ...   119.764706\n",
              "339986  339986  ...   141.000000\n",
              "343158  343158  ...   178.500000\n",
              "346741  346741  ...    99.830986\n",
              "346751  346751  ...    77.060606\n",
              "346790  346790  ...   193.916667\n",
              "353893  353893  ...   132.153846\n",
              "360754  360754  ...    76.060606\n",
              "\n",
              "[58 rows x 9 columns]"
            ]
          },
          "metadata": {
            "tags": []
          },
          "execution_count": 337
        }
      ]
    },
    {
      "cell_type": "markdown",
      "metadata": {
        "id": "sdn3TxA64BB3",
        "colab_type": "text"
      },
      "source": [
        "The investigation certainly revealed some weird instances. Take fore example, `childish-gamibino`'s `because-the-internt-screenplay-part-3`. As odd as these are, and with the time contraint of this project, the course of action here is to drop the outlying rows."
      ]
    },
    {
      "cell_type": "code",
      "metadata": {
        "id": "VQXZniZj4ANB",
        "colab_type": "code",
        "outputId": "d0d1ec52-51af-46ea-faba-c8ff89f24a6f",
        "colab": {
          "base_uri": "https://localhost:8080/",
          "height": 34
        }
      },
      "source": [
        "# merge outliers together to create a drop mask\n",
        "outliers = num_line_outliers.merge(avg_line_len_outliers, how='outer')\n",
        "\n",
        "\n",
        "# drop outliers from dataset\n",
        "latest_hiphop_en.drop(outliers['index'], axis=0, inplace=True)\n",
        "\n",
        "len(latest_hiphop_en)"
      ],
      "execution_count": 338,
      "outputs": [
        {
          "output_type": "execute_result",
          "data": {
            "text/plain": [
              "5599"
            ]
          },
          "metadata": {
            "tags": []
          },
          "execution_count": 338
        }
      ]
    },
    {
      "cell_type": "code",
      "metadata": {
        "id": "3aTckLC27QvJ",
        "colab_type": "code",
        "outputId": "ec1ac53a-0293-4dee-84c6-e1d025aa4e3e",
        "colab": {
          "base_uri": "https://localhost:8080/",
          "height": 297
        }
      },
      "source": [
        "latest_hiphop_en.describe()"
      ],
      "execution_count": 339,
      "outputs": [
        {
          "output_type": "execute_result",
          "data": {
            "text/html": [
              "<div>\n",
              "<style scoped>\n",
              "    .dataframe tbody tr th:only-of-type {\n",
              "        vertical-align: middle;\n",
              "    }\n",
              "\n",
              "    .dataframe tbody tr th {\n",
              "        vertical-align: top;\n",
              "    }\n",
              "\n",
              "    .dataframe thead th {\n",
              "        text-align: right;\n",
              "    }\n",
              "</style>\n",
              "<table border=\"1\" class=\"dataframe\">\n",
              "  <thead>\n",
              "    <tr style=\"text-align: right;\">\n",
              "      <th></th>\n",
              "      <th>index</th>\n",
              "      <th>year</th>\n",
              "      <th>num_lines</th>\n",
              "      <th>avg_line_len</th>\n",
              "    </tr>\n",
              "  </thead>\n",
              "  <tbody>\n",
              "    <tr>\n",
              "      <th>count</th>\n",
              "      <td>5599.000000</td>\n",
              "      <td>5599.00000</td>\n",
              "      <td>5599.000000</td>\n",
              "      <td>5599.000000</td>\n",
              "    </tr>\n",
              "    <tr>\n",
              "      <th>mean</th>\n",
              "      <td>177783.014645</td>\n",
              "      <td>2013.87980</td>\n",
              "      <td>58.004644</td>\n",
              "      <td>38.007544</td>\n",
              "    </tr>\n",
              "    <tr>\n",
              "      <th>std</th>\n",
              "      <td>104887.811420</td>\n",
              "      <td>1.48928</td>\n",
              "      <td>26.810257</td>\n",
              "      <td>8.324248</td>\n",
              "    </tr>\n",
              "    <tr>\n",
              "      <th>min</th>\n",
              "      <td>333.000000</td>\n",
              "      <td>2012.00000</td>\n",
              "      <td>1.000000</td>\n",
              "      <td>9.266667</td>\n",
              "    </tr>\n",
              "    <tr>\n",
              "      <th>25%</th>\n",
              "      <td>98904.500000</td>\n",
              "      <td>2012.00000</td>\n",
              "      <td>41.000000</td>\n",
              "      <td>32.493420</td>\n",
              "    </tr>\n",
              "    <tr>\n",
              "      <th>50%</th>\n",
              "      <td>170107.000000</td>\n",
              "      <td>2014.00000</td>\n",
              "      <td>57.000000</td>\n",
              "      <td>38.135135</td>\n",
              "    </tr>\n",
              "    <tr>\n",
              "      <th>75%</th>\n",
              "      <td>258844.500000</td>\n",
              "      <td>2015.00000</td>\n",
              "      <td>75.000000</td>\n",
              "      <td>43.403125</td>\n",
              "    </tr>\n",
              "    <tr>\n",
              "      <th>max</th>\n",
              "      <td>362156.000000</td>\n",
              "      <td>2016.00000</td>\n",
              "      <td>138.000000</td>\n",
              "      <td>76.000000</td>\n",
              "    </tr>\n",
              "  </tbody>\n",
              "</table>\n",
              "</div>"
            ],
            "text/plain": [
              "               index        year    num_lines  avg_line_len\n",
              "count    5599.000000  5599.00000  5599.000000   5599.000000\n",
              "mean   177783.014645  2013.87980    58.004644     38.007544\n",
              "std    104887.811420     1.48928    26.810257      8.324248\n",
              "min       333.000000  2012.00000     1.000000      9.266667\n",
              "25%     98904.500000  2012.00000    41.000000     32.493420\n",
              "50%    170107.000000  2014.00000    57.000000     38.135135\n",
              "75%    258844.500000  2015.00000    75.000000     43.403125\n",
              "max    362156.000000  2016.00000   138.000000     76.000000"
            ]
          },
          "metadata": {
            "tags": []
          },
          "execution_count": 339
        }
      ]
    },
    {
      "cell_type": "markdown",
      "metadata": {
        "id": "qrLsplQD6rQ9",
        "colab_type": "text"
      },
      "source": [
        "The verdict is in! The rap-bots dataframe containing the cleaned dataset is 5603 songs long, each released between 2012 and 2016, with an average number of 58 bars per song and 36 characters per line.\n",
        "\n",
        "### Processing"
      ]
    },
    {
      "cell_type": "markdown",
      "metadata": {
        "id": "OsOevhqq-6Z5",
        "colab_type": "text"
      },
      "source": [
        "#### Regex\n",
        "The first thing to do in the processing step is remove instances of Verse/Chorus, etc and replace the `/t` characters with spaces. Given more time, a much more in depth processing effort would be made, but since the deadline is so soon, this will be the extent of the pre-spacy processing."
      ]
    },
    {
      "cell_type": "code",
      "metadata": {
        "id": "y1zfeTs_3igr",
        "colab_type": "code",
        "colab": {}
      },
      "source": [
        "# Use regex to clean line/chorus/verse indicators from lyrics\n",
        "latest_hiphop_en['lyrics'] = latest_hiphop_en['lyrics'].str.replace('\\([^)]*\\)|\\[[^]]*\\]|\\{[^]]*\\}|Verse|Chorus|Intro', '', regex=True)\n",
        "# Replace '\\t' char with ' '\n",
        "latest_hiphop_en['lyrics'] = latest_hiphop_en['lyrics'].str.replace('\\t', ' ')"
      ],
      "execution_count": 0,
      "outputs": []
    },
    {
      "cell_type": "markdown",
      "metadata": {
        "id": "aM3tlSoj9wOb",
        "colab_type": "text"
      },
      "source": [
        "#### Spacy\n",
        "The NLP library I want to use to clean the dataset is the Spacy model, which has production-level speeds and capabilities."
      ]
    },
    {
      "cell_type": "code",
      "metadata": {
        "id": "f_TkIGbA9q4v",
        "colab_type": "code",
        "outputId": "70726272-2e62-46c9-a7ce-9ed47fb8054f",
        "colab": {
          "base_uri": "https://localhost:8080/",
          "height": 51
        }
      },
      "source": [
        "import spacy\n",
        "!python -m spacy download en_core_web_sm --quiet\n",
        "nlp = spacy.load('en_core_web_sm')"
      ],
      "execution_count": 341,
      "outputs": [
        {
          "output_type": "stream",
          "text": [
            "\u001b[38;5;2m✔ Download and installation successful\u001b[0m\n",
            "You can now load the model via spacy.load('en_core_web_sm')\n"
          ],
          "name": "stdout"
        }
      ]
    },
    {
      "cell_type": "markdown",
      "metadata": {
        "id": "-w9Q0_Cx-L4M",
        "colab_type": "text"
      },
      "source": [
        "Now to define the processing function. The first thing I want to do is take advantage of Spacy's processing to rid each song of punctuation, numbers, and empty strings. The second thing rap bot needs as far as processing goes is a little funny and requires some extra explanation.\n",
        "\n",
        "### Reverse the input!\n",
        "\n",
        "Two major, unique challenges present themselves in the generation of rap lyrics: rhyming and syllables. While both will be handled in the generation side, each will rhyming does demand specific processing steps. The traditional structure of a rap contains bars of text that END with words that rhyme with words in the next line. To ensure that the rhymes exist, one could naturally presume that they want to be chosen manually and fed to the model to generate the rest of the lines, but how does one get earlier output in a sentence from later input? Don't NLP models work the other way around?\n",
        "\n",
        "Flip the sentences around. The RNN model to be used only knows english because it is trained to understand relationships with its inputs. **If it is trained to understand english backwards, it will return english backwards.** Then a simple function can reverse the output to be readable by humans again!"
      ]
    },
    {
      "cell_type": "code",
      "metadata": {
        "id": "BjI9I5NM-A5c",
        "colab_type": "code",
        "colab": {}
      },
      "source": [
        "# define a function that will process songs\n",
        "# with spacy, then reverse them on the word\n",
        "# level\n",
        "def process_rev_word(song):\n",
        "# Split song by newline\n",
        "  lines = song.split('\\n')\n",
        "  rev_bars = ''\n",
        "  for line in lines:\n",
        "    # Process line\n",
        "    spacy_line = nlp(line)\n",
        "    # Clean out punctuatin and numbers\n",
        "    rev_line = ' '.join([token.text.lower() for token in spacy_line\n",
        "                if not token.is_punct\n",
        "                and token.pos_ != 'NUM'\n",
        "                and token.text != ''][::-1])\n",
        "    # Reverse each line and join it to the beginning\n",
        "    # of the rest of the song\n",
        "    rev_bars = '\\n'.join([rev_line, rev_bars])\n",
        "  return rev_bars"
      ],
      "execution_count": 0,
      "outputs": []
    },
    {
      "cell_type": "code",
      "metadata": {
        "id": "6yWx7jOUA-92",
        "colab_type": "code",
        "outputId": "649892ca-6a27-4e66-f8c9-fc1cf6c0ff50",
        "colab": {
          "base_uri": "https://localhost:8080/",
          "height": 54
        }
      },
      "source": [
        "# acquire a test song\n",
        "song_1 = latest_hiphop_en.iloc[1]['lyrics']\n",
        "# display the song in its pre-processed state\n",
        "song_1"
      ],
      "execution_count": 343,
      "outputs": [
        {
          "output_type": "execute_result",
          "data": {
            "text/plain": [
              "\"\\nAw shit, let's take a trip\\nJust sit back and light a spliff to this and don't step\\nOn a funky-ass track jump back\\nStrapped with a gat and a sack and a 7-8 flak\\nCome clean, gangsta lean, I got green\\nBut I serve dubs like it ain't no thing\\nI hang with OG niggas don't set trip\\nOr you might get a slug in your fuckin back\\nI don't slack when it come to street\\nI kick real g shit to a gangsta beat\\nIt's so sweet, when you got money to spend\\nI got a cool-ass tilt and a fly-ass Benz\\nI make ends, spend my dough on no ho\\nThat's how it is, nad that's how it goes\\nAct like ya know when I creep real slow\\nGivin love to them niggas that I know is real g's\\n\\nIf you got love for them gangstas\\nLet me hear you one time if you down for the crime \\nIf you got love for them hustlas\\nLet me hear you say hooo if you makin straight dough \\nIf you got love for them playas\\nlet me hear you say ooooh, ladies we want you \\nIf you got love for them straight g's\\nLet me hear you motherfuckers just scream \\n\\nThe Ruthless network, drive-by expert\\nStraight outta Compton, kickin up dust\\nThe Ruthless network, drive-by expert\\nStraight outta Compton...\\n\\nDump dump on a nigga with a quickness\\nAnd they got no cure for this sickness\\nI get paid for the way that I kick this\\nLike a g-ster, an OG-ster \\nA real nigga named Eazy\\nAnd I live my life straight crazy\\nDon't need no punk niggas payin me\\nAnd broke groupie-ass bitches don't faze me\\nI take two step back and release myself\\nTo put platinum-ass cuts on the record shelf\\nI don't brag, but i tell it like it straight-up is\\nBefore you do a record, nigga, handle your business\\nAnd don't get caught slippin on the under\\nOr you might wonder \\nI call a spade a spade and get paid\\nG's show the way, so i give love to 'em\\n\\nIf you got love for them gangstas\\nLet me hear you one time if you down for the crime \\nIf you got love for them hustlas\\nLet me hear you say hooo if you makin straight dough \\nIf you got love for them playas\\nlet me hear you say ooooh, ladies we want you \\nIf you got love for them straight g's\\nLet me hear you motherfuckers just scream \\n\\nE-A-Z-why, must I\\nchase the cat and be a dog, a straight-up hog\\nI leapfrog to the sound of a gangsta beat\\nSo I can hear my shit bumpin on a Compton street\\nThat OG, see-are-I-P and S, G and S\\nHip-Hop thugsta, so quick to rush ya\\nStraight to the dirt, fool I do work\\nNobody move, nobody get hurt\\nThat's how it is when it come to me\\nCause I'm the long dick bust-a-nut nigga named Eazy\\nBitches can't see me, hos say I'm crazy\\nBut I don't think so, cause I'm just loco\\nI gives a fuck about a skanless bitch\\nlet me hit it one time if you suck this dick\\nI don't trip, gives my dough to no ho\\nThat's how it is, but I gives love to ya\\n\\nIf you got love for them gangstas\\nLet me hear you one time if you down for the crime \\nIf you got love for them hustlas\\nLet me hear you say hooo if you makin straight dough \\nIf you got love for them playas\\nlet me hear you say ooooh, ladies we want you \\nIf you got love for them straight g's\\nLet me hear you motherfuckers just scream  \""
            ]
          },
          "metadata": {
            "tags": []
          },
          "execution_count": 343
        }
      ]
    },
    {
      "cell_type": "code",
      "metadata": {
        "id": "1F7-yY0eBIRI",
        "colab_type": "code",
        "outputId": "69ee81f5-a6da-4bce-f714-17f9361186ce",
        "colab": {
          "base_uri": "https://localhost:8080/",
          "height": 54
        }
      },
      "source": [
        "# display the processed song\n",
        "process_rev_word(song_1)"
      ],
      "execution_count": 344,
      "outputs": [
        {
          "output_type": "execute_result",
          "data": {
            "text/plain": [
              "\"  scream just motherfuckers you hear me let\\n's g straight them for love got you if\\nyou want we ladies ooooh say you hear me let\\nplayas them for love got you if\\ndough straight makin you if hooo say you hear me let\\nhustlas them for love got you if\\ncrime the for down you if time you hear me let\\ngangstas them for love got you if\\n\\nya to love gives i but is it how 's that\\nho no to dough my gives trip n't do i\\ndick this suck you if time it hit me let\\nbitch skanless a about fuck a gives i\\nloco just 'm i cause so think n't do i but\\ncrazy 'm i say hos me see n't ca bitches\\neazy named nigga nut a bust dick long the 'm i cause\\nme to come it when is it how 's that\\nhurt get nobody move nobody\\nwork do i fool dirt the to straight\\nya rush to quick so thugsta hop hip\\ns and g s and p i are see og that\\nstreet compton a on bumpin shit my hear can i so\\nbeat gangsta a of sound the to leapfrog i\\nhog up straight a dog a be and cat the chase\\ni must why z a e\\n\\nscream just motherfuckers you hear me let\\n's g straight them for love got you if\\nyou want we ladies ooooh say you hear me let\\nplayas them for love got you if\\ndough straight makin you if hooo say you hear me let\\nhustlas them for love got you if\\ncrime the for down you if time you hear me let\\ngangstas them for love got you if\\n\\n'em to love give i so way the show 's g\\npaid get and spade a spade a call i\\nwonder might you or\\nunder the on slippin caught get n't do and\\nbusiness your handle nigga record a do you before\\nis up straight it like it tell i but brag n't do i\\nshelf record the on cuts ass platinum put to\\nmyself release and back step take i\\nme faze n't do bitches ass groupie broke and\\nme payin niggas punk no need n't do\\ncrazy straight life my live i and\\neazy named nigga real a\\nster og an ster g a like\\nthis kick i that way the for paid get i\\nsickness this for cure no got they and\\nquickness a with nigga a on dump dump\\n\\ncompton outta straight\\nexpert by drive network ruthless the\\ndust up kickin compton outta straight\\nexpert by drive network ruthless the\\n\\nscream just motherfuckers you hear me let\\n's g straight them for love got you if\\nyou want we ladies ooooh say you hear me let\\nplayas them for love got you if\\ndough straight makin you if hooo say you hear me let\\nhustlas them for love got you if\\ncrime the for down you if time you hear me let\\ngangstas them for love got you if\\n\\n's g real is know i that niggas them to love givin\\nslow real creep i when know ya like act\\ngoes it how 's that nad is it how 's that\\nho no on dough my spend ends make i\\nbenz ass fly a and tilt ass cool a got i\\nspend to money got you when sweet so 's it\\nbeat gangsta a to shit g real kick i\\nstreet to come it when slack n't do i\\nback fuckin your in slug a get might you or\\ntrip set n't do niggas og with hang i\\nthing no n't ai it like dubs serve i but\\ngreen got i lean gangsta clean come\\nflak a and sack a and gat a with strapped\\nback jump track ass funky a on\\nstep n't do and this to spliff a light and back sit just\\ntrip a take 's let shit aw\\n\\n\""
            ]
          },
          "metadata": {
            "tags": []
          },
          "execution_count": 344
        }
      ]
    },
    {
      "cell_type": "markdown",
      "metadata": {
        "id": "OuG0RsKBB6aV",
        "colab_type": "text"
      },
      "source": [
        "The processing words as expected, completely reversing a song. This means songs will be fed to the model from end to finish, word by word, and produced by the model in the same fashion."
      ]
    },
    {
      "cell_type": "code",
      "metadata": {
        "id": "D3ntpInhB6As",
        "colab_type": "code",
        "colab": {}
      },
      "source": [
        "# processs the dataframe\n",
        "latest_hiphop_en['processed_rev_word'] = latest_hiphop_en['lyrics'].apply(process_rev_word)"
      ],
      "execution_count": 0,
      "outputs": []
    },
    {
      "cell_type": "code",
      "metadata": {
        "id": "PSnsxJfSE3re",
        "colab_type": "code",
        "colab": {}
      },
      "source": [
        "latest_hiphop_en.head(5)"
      ],
      "execution_count": 0,
      "outputs": []
    },
    {
      "cell_type": "markdown",
      "metadata": {
        "id": "TQNqaer4EX-C",
        "colab_type": "text"
      },
      "source": [
        "#### Save processed data\n",
        "Now that that is done, the processed data will be saved to a local folder to allow it to be accessible again without having to repeat the cleaning process\n"
      ]
    },
    {
      "cell_type": "code",
      "metadata": {
        "id": "Crs6OHuDBWPx",
        "colab_type": "code",
        "colab": {}
      },
      "source": [
        "latest_hiphop_en.to_csv(CSV_PROCESSED_PATH, index=False, encoding='utf-8')"
      ],
      "execution_count": 0,
      "outputs": []
    },
    {
      "cell_type": "markdown",
      "metadata": {
        "id": "3s_rVHtAFfl1",
        "colab_type": "text"
      },
      "source": [
        "## Training\n",
        "With processed data, the rap bot model is ready to be defined and trained."
      ]
    },
    {
      "cell_type": "markdown",
      "metadata": {
        "id": "36JxpxIuVXcf",
        "colab_type": "text"
      },
      "source": [
        "### Vectorizing and Sequentializing\n",
        "Before training the model, the text data must be turned into something a machine can understand"
      ]
    },
    {
      "cell_type": "code",
      "metadata": {
        "id": "0byjzlTQFsO-",
        "colab_type": "code",
        "colab": {}
      },
      "source": [
        "import numpy as np\n",
        "import pandas as pd\n",
        "import tensorflow as tf\n",
        "import warnings\n",
        "warnings.filterwarnings('ignore')"
      ],
      "execution_count": 0,
      "outputs": []
    },
    {
      "cell_type": "code",
      "metadata": {
        "id": "INu8j4TgFxBH",
        "colab_type": "code",
        "outputId": "5a2aa90e-3f08-4a32-fd4d-6659e6f14862",
        "colab": {
          "base_uri": "https://localhost:8080/",
          "height": 289
        }
      },
      "source": [
        "# Read input from storage\n",
        "CSV_PROCESSED_PATH = '/content/drive/My Drive/Thinkful/nlp/data/380000-lyrics-from-metrolyrics/lyrics_input.csv'\n",
        "raps = pd.read_csv(CSV_PROCESSED_PATH)\n",
        "raps.head()"
      ],
      "execution_count": 76,
      "outputs": [
        {
          "output_type": "execute_result",
          "data": {
            "text/html": [
              "<div>\n",
              "<style scoped>\n",
              "    .dataframe tbody tr th:only-of-type {\n",
              "        vertical-align: middle;\n",
              "    }\n",
              "\n",
              "    .dataframe tbody tr th {\n",
              "        vertical-align: top;\n",
              "    }\n",
              "\n",
              "    .dataframe thead th {\n",
              "        text-align: right;\n",
              "    }\n",
              "</style>\n",
              "<table border=\"1\" class=\"dataframe\">\n",
              "  <thead>\n",
              "    <tr style=\"text-align: right;\">\n",
              "      <th></th>\n",
              "      <th>index</th>\n",
              "      <th>song</th>\n",
              "      <th>year</th>\n",
              "      <th>artist</th>\n",
              "      <th>genre</th>\n",
              "      <th>lyrics</th>\n",
              "      <th>language</th>\n",
              "      <th>num_lines</th>\n",
              "      <th>avg_line_len</th>\n",
              "      <th>processed_rev_word</th>\n",
              "    </tr>\n",
              "  </thead>\n",
              "  <tbody>\n",
              "    <tr>\n",
              "      <th>0</th>\n",
              "      <td>333</td>\n",
              "      <td>boyz-n-the-hood</td>\n",
              "      <td>2015</td>\n",
              "      <td>eazy-e</td>\n",
              "      <td>Hip-Hop</td>\n",
              "      <td>Hey yo man, remember that shit Eazy did a whil...</td>\n",
              "      <td>en</td>\n",
              "      <td>98</td>\n",
              "      <td>40.826531</td>\n",
              "      <td>shit sayin n't ai i cuz boy me quote n't do\\nl...</td>\n",
              "    </tr>\n",
              "    <tr>\n",
              "      <th>1</th>\n",
              "      <td>334</td>\n",
              "      <td>luv-4-dem-gangsta-z-cookin-soul-remix</td>\n",
              "      <td>2015</td>\n",
              "      <td>eazy-e</td>\n",
              "      <td>Hip-Hop</td>\n",
              "      <td>\\nAw shit, let's take a trip\\nJust sit back an...</td>\n",
              "      <td>en</td>\n",
              "      <td>83</td>\n",
              "      <td>40.132530</td>\n",
              "      <td>scream just motherfuckers you hear me let\\n'...</td>\n",
              "    </tr>\n",
              "    <tr>\n",
              "      <th>2</th>\n",
              "      <td>2510</td>\n",
              "      <td>whole-thang</td>\n",
              "      <td>2012</td>\n",
              "      <td>2win</td>\n",
              "      <td>Hip-Hop</td>\n",
              "      <td>2Win Ft. 2 Chainz &amp; Young Jeezy - Whole Thang\\...</td>\n",
              "      <td>en</td>\n",
              "      <td>2</td>\n",
              "      <td>45.500000</td>\n",
              "      <td>thang whole jeezy young chainz ft\\nthang whole...</td>\n",
              "    </tr>\n",
              "    <tr>\n",
              "      <th>3</th>\n",
              "      <td>2811</td>\n",
              "      <td>one-in-a-million</td>\n",
              "      <td>2013</td>\n",
              "      <td>down-with-webster</td>\n",
              "      <td>Hip-Hop</td>\n",
              "      <td>I'm feeling like I'm one in a million,\\nI'm th...</td>\n",
              "      <td>en</td>\n",
              "      <td>49</td>\n",
              "      <td>38.938776</td>\n",
              "      <td>a in 'm i like feeling 'm i\\n\\n\\na in 'm i lik...</td>\n",
              "    </tr>\n",
              "    <tr>\n",
              "      <th>4</th>\n",
              "      <td>2812</td>\n",
              "      <td>chills</td>\n",
              "      <td>2013</td>\n",
              "      <td>down-with-webster</td>\n",
              "      <td>Hip-Hop</td>\n",
              "      <td>I fell, like soldiers on the front line.\\nUnde...</td>\n",
              "      <td>en</td>\n",
              "      <td>51</td>\n",
              "      <td>38.725490</td>\n",
              "      <td>you from came they\\ncold the from come n't did...</td>\n",
              "    </tr>\n",
              "  </tbody>\n",
              "</table>\n",
              "</div>"
            ],
            "text/plain": [
              "   index  ...                                 processed_rev_word\n",
              "0    333  ...  shit sayin n't ai i cuz boy me quote n't do\\nl...\n",
              "1    334  ...    scream just motherfuckers you hear me let\\n'...\n",
              "2   2510  ...  thang whole jeezy young chainz ft\\nthang whole...\n",
              "3   2811  ...  a in 'm i like feeling 'm i\\n\\n\\na in 'm i lik...\n",
              "4   2812  ...  you from came they\\ncold the from come n't did...\n",
              "\n",
              "[5 rows x 10 columns]"
            ]
          },
          "metadata": {
            "tags": []
          },
          "execution_count": 76
        }
      ]
    },
    {
      "cell_type": "markdown",
      "metadata": {
        "id": "GFs7BXFJGtZJ",
        "colab_type": "text"
      },
      "source": [
        "#### One big rap\n",
        "The input will be trained word by word to understand how raps function. Like a book could be fed in character by character, even though it could be split by chapters, so will the data be fed in, word by word, while it could be separable by song. In other words, the input data will be a concatenated sample of raps.\n"
      ]
    },
    {
      "cell_type": "code",
      "metadata": {
        "id": "vXGVLPf9GAqH",
        "colab_type": "code",
        "colab": {}
      },
      "source": [
        "# concatenate a sample of raps into an \n",
        "# input rap\n",
        "SAMPLE_SIZE = 300\n",
        "train_input = raps.sample(SAMPLE_SIZE)['processed_rev_word'].sum()"
      ],
      "execution_count": 0,
      "outputs": []
    },
    {
      "cell_type": "code",
      "metadata": {
        "id": "oVMCznSVH-bg",
        "colab_type": "code",
        "outputId": "cfe78775-d63c-49f1-a651-13d16c40a4e4",
        "colab": {
          "base_uri": "https://localhost:8080/",
          "height": 34
        }
      },
      "source": [
        "# Determine number of words in corpus\n",
        "num_words = len(train_input.split())\n",
        "print('Number of words:', num_words)"
      ],
      "execution_count": 78,
      "outputs": [
        {
          "output_type": "stream",
          "text": [
            "Number of words: 131650\n"
          ],
          "name": "stdout"
        }
      ]
    },
    {
      "cell_type": "code",
      "metadata": {
        "id": "0DJsZ4cgIVz2",
        "colab_type": "code",
        "outputId": "00da943c-90a1-408f-b7ce-da0c61a1f490",
        "colab": {
          "base_uri": "https://localhost:8080/",
          "height": 34
        }
      },
      "source": [
        "# Create the vocabulary and determine the\n",
        "# length of that\n",
        "vocab = sorted(set(train_input.split()))\n",
        "vocab_len = len(vocab)\n",
        "print('Number of unique words:', vocab_len)"
      ],
      "execution_count": 79,
      "outputs": [
        {
          "output_type": "stream",
          "text": [
            "Number of unique words: 9727\n"
          ],
          "name": "stdout"
        }
      ]
    },
    {
      "cell_type": "markdown",
      "metadata": {
        "id": "aB7jcU19JLk9",
        "colab_type": "text"
      },
      "source": [
        "#### Vectorize the text\n",
        "Before training, the rap needs to be mapped to numerical representation. Since we are doing this from a word-to-word level, each unique word will have its own numerical representation. Much of this training strategy was modified from a char-by-char model from [this TensorFlow tutorial](https://www.tensorflow.org/tutorials/text/text_generation)"
      ]
    },
    {
      "cell_type": "code",
      "metadata": {
        "id": "OV7rSv5aIs0Q",
        "colab_type": "code",
        "colab": {}
      },
      "source": [
        "# Create a mapping from unique words to indices\n",
        "word2idx = {u:i for i, u in enumerate(vocab)}\n",
        "# Create a mapping from indices to unique words\n",
        "idx2word = np.array(vocab)\n",
        "\n",
        "# map input to array of integers\n",
        "text_as_int = np.array([word2idx[c] for c in train_input.split()])"
      ],
      "execution_count": 0,
      "outputs": []
    },
    {
      "cell_type": "code",
      "metadata": {
        "id": "AyunNpSiLMlZ",
        "colab_type": "code",
        "outputId": "577f0ce2-c6e5-4ac5-9c4e-9a6e76b70617",
        "colab": {
          "base_uri": "https://localhost:8080/",
          "height": 34
        }
      },
      "source": [
        "# Show how the first 5 characters from the text are mapped to integers\n",
        "print ('{} ---- characters mapped to int ---- > {}'.format(repr(train_input.split()[:5]), text_as_int[:13]))"
      ],
      "execution_count": 81,
      "outputs": [
        {
          "output_type": "stream",
          "text": [
            "['that', 'like', 'dance', 'to', 'want'] ---- characters mapped to int ---- > [8630 4965 2174 8768 9320 4247 5960 8630 4965 2174 8768 9320 4247]\n"
          ],
          "name": "stdout"
        }
      ]
    },
    {
      "cell_type": "markdown",
      "metadata": {
        "id": "9iKwr8clNJzF",
        "colab_type": "text"
      },
      "source": [
        "#### Create Training Dataset\n",
        "The RNN model to be used takes in a sequence of words and predicts what the next most probable word will be. But right now, the input data `text_as_int` is simply a long string of numerical words. How can one turn that into sequences to train the model on with prdiction labels (since this is of course a **supervised learning** model)? Tensorflow provides a wonderful `tf.data.Dataset.from_tensor_slices` function to automate just that.\n"
      ]
    },
    {
      "cell_type": "code",
      "metadata": {
        "id": "AYRqOcXUMjJb",
        "colab_type": "code",
        "outputId": "a289fe87-94ba-4889-c68b-195a406a9a17",
        "colab": {
          "base_uri": "https://localhost:8080/",
          "height": 102
        }
      },
      "source": [
        "# The maximum length sentence we want for a single input in characters\n",
        "seq_length = 8\n",
        "examples_per_epoch = len(train_input.split())//(seq_length+1)\n",
        "\n",
        "# Create training examples / targets\n",
        "word_dataset = tf.data.Dataset.from_tensor_slices(text_as_int)\n",
        "\n",
        "# preview 5 examples of values in dataset\n",
        "for i in word_dataset.take(5):\n",
        "  print(idx2word[i.numpy()])"
      ],
      "execution_count": 82,
      "outputs": [
        {
          "output_type": "stream",
          "text": [
            "that\n",
            "like\n",
            "dance\n",
            "to\n",
            "want\n"
          ],
          "name": "stdout"
        }
      ]
    },
    {
      "cell_type": "markdown",
      "metadata": {
        "id": "K8K6zDh6Pd77",
        "colab_type": "text"
      },
      "source": [
        "Now the `batch` method converts data values in `word_dataset` to sequences of the desired size."
      ]
    },
    {
      "cell_type": "code",
      "metadata": {
        "id": "OkPeafEYNEoF",
        "colab_type": "code",
        "outputId": "e81034fb-43c8-4801-9637-1a3613fb6042",
        "colab": {
          "base_uri": "https://localhost:8080/",
          "height": 102
        }
      },
      "source": [
        "# Create sequences from the dataset using the \n",
        "# batch method\n",
        "sequences = word_dataset.batch(seq_length+1, drop_remainder=True)\n",
        "\n",
        "# view a few sequences\n",
        "for item in sequences.take(5):\n",
        "  print(repr(' '.join(idx2word[item.numpy()])))"
      ],
      "execution_count": 83,
      "outputs": [
        {
          "output_type": "stream",
          "text": [
            "'that like dance to want i oooh that like'\n",
            "'dance to want i last time night that make'\n",
            "\"'s let past stumbling me got you back memory\"\n",
            "'my need i roll the on stomach my feel'\n",
            "'i control outta me got you control outta me'\n"
          ],
          "name": "stdout"
        }
      ]
    },
    {
      "cell_type": "markdown",
      "metadata": {
        "id": "YBdLat39QDG9",
        "colab_type": "text"
      },
      "source": [
        "For each sequence, create input-output variables but shifting each sequence by one. Those input-output sequences are what will go in the input dataset"
      ]
    },
    {
      "cell_type": "code",
      "metadata": {
        "id": "g3JotXV4NEli",
        "colab_type": "code",
        "outputId": "80d126dd-2bcc-4593-fd1c-6786489671b5",
        "colab": {
          "base_uri": "https://localhost:8080/",
          "height": 68
        }
      },
      "source": [
        "# Define a function that takes in a sequence and turns\n",
        "# it into input-output sequence pairs\n",
        "def split_input_target(chunk):\n",
        "    input_text = chunk[:-1]\n",
        "    target_text = chunk[1:]\n",
        "    return input_text, target_text\n",
        "\n",
        "# Fill dataset with input-output sequences\n",
        "dataset = sequences.map(split_input_target)\n",
        "\n",
        "# Print example input and output string\n",
        "for input_example, target_example in  dataset.take(1):\n",
        "  print ('Input data: ', repr(' '.join(idx2word[input_example.numpy()])))\n",
        "  print ('Target data:', repr(' '.join(idx2word[target_example.numpy()])))\n",
        "dataset"
      ],
      "execution_count": 84,
      "outputs": [
        {
          "output_type": "stream",
          "text": [
            "Input data:  'that like dance to want i oooh that'\n",
            "Target data: 'like dance to want i oooh that like'\n"
          ],
          "name": "stdout"
        },
        {
          "output_type": "execute_result",
          "data": {
            "text/plain": [
              "<MapDataset shapes: ((8,), (8,)), types: (tf.int64, tf.int64)>"
            ]
          },
          "metadata": {
            "tags": []
          },
          "execution_count": 84
        }
      ]
    },
    {
      "cell_type": "markdown",
      "metadata": {
        "id": "F9TrHnQiRo43",
        "colab_type": "text"
      },
      "source": [
        "In these vectors, each index is a time step. So at time step 0, the input 'man' will predict the output 'better' (which will eventually be reversed after generation, and be read \"better man\"). Since the model is RNN, it will consider the previous step in its prediction."
      ]
    },
    {
      "cell_type": "code",
      "metadata": {
        "id": "FxFAOPz9NEhg",
        "colab_type": "code",
        "outputId": "1374117b-049c-4d54-b1ab-dbf4d69436d7",
        "colab": {
          "base_uri": "https://localhost:8080/",
          "height": 272
        }
      },
      "source": [
        "# Print an example of how the model predicts the next word\n",
        "for i, (input_idx, target_idx) in enumerate(zip(input_example[:5], target_example[:5])):\n",
        "    print(\"Step {:4d}\".format(i))\n",
        "    print(\"  input: {} ({:s})\".format(input_idx, repr(idx2word[input_idx])))\n",
        "    print(\"  expected output: {} ({:s})\".format(target_idx, repr(idx2word[target_idx])))"
      ],
      "execution_count": 85,
      "outputs": [
        {
          "output_type": "stream",
          "text": [
            "Step    0\n",
            "  input: 8630 ('that')\n",
            "  expected output: 4965 ('like')\n",
            "Step    1\n",
            "  input: 4965 ('like')\n",
            "  expected output: 2174 ('dance')\n",
            "Step    2\n",
            "  input: 2174 ('dance')\n",
            "  expected output: 8768 ('to')\n",
            "Step    3\n",
            "  input: 8768 ('to')\n",
            "  expected output: 9320 ('want')\n",
            "Step    4\n",
            "  input: 9320 ('want')\n",
            "  expected output: 4247 ('i')\n"
          ],
          "name": "stdout"
        }
      ]
    },
    {
      "cell_type": "markdown",
      "metadata": {
        "id": "jWljoUS9Sipw",
        "colab_type": "text"
      },
      "source": [
        "#### Create Training Batches\n",
        "Use the `tf.data` method to split text into manageable sequences. Then use the `.shuffle` method to shuffle the data around in batches"
      ]
    },
    {
      "cell_type": "code",
      "metadata": {
        "id": "xXIbCp9gNEd7",
        "colab_type": "code",
        "outputId": "978b86b7-ebcd-4f99-903f-71965ca079d1",
        "colab": {
          "base_uri": "https://localhost:8080/",
          "height": 34
        }
      },
      "source": [
        "# Batch size\n",
        "BATCH_SIZE = 64\n",
        "\n",
        "# Buffer size to shuffle the dataset\n",
        "# (TF data is designed to work with possibly infinite sequences,\n",
        "# so it doesn't attempt to shuffle the entire sequence in memory. Instead,\n",
        "# it maintains a buffer in which it shuffles elements).\n",
        "BUFFER_SIZE = 10000\n",
        "\n",
        "dataset = dataset.shuffle(BUFFER_SIZE).batch(BATCH_SIZE, drop_remainder=True)\n",
        "\n",
        "dataset"
      ],
      "execution_count": 86,
      "outputs": [
        {
          "output_type": "execute_result",
          "data": {
            "text/plain": [
              "<BatchDataset shapes: ((64, 8), (64, 8)), types: (tf.int64, tf.int64)>"
            ]
          },
          "metadata": {
            "tags": []
          },
          "execution_count": 86
        }
      ]
    },
    {
      "cell_type": "markdown",
      "metadata": {
        "id": "pw0OmkOnTLTQ",
        "colab_type": "text"
      },
      "source": [
        "### Build the Model\n",
        "Use `tf.keras.Sequential` to define the model. For this simple example three layers are used to define the model:\n",
        "\n",
        "* `tf.keras.layers.Embedding`: The input layer. A trainable lookup table that will map the numbers of each character to a vector with `embedding_dim` dimensions;\n",
        "* `tf.keras.layers.GRU`: A type of RNN with size `units=rnn_units` (can also use a LSTM layer here, will be testing both)\n",
        "* `tf.keras.layers.Dense`: The output layer, with `vocab_size` outputs."
      ]
    },
    {
      "cell_type": "markdown",
      "metadata": {
        "id": "bgKHcn2wWrEc",
        "colab_type": "text"
      },
      "source": [
        "#### Model Definition"
      ]
    },
    {
      "cell_type": "code",
      "metadata": {
        "id": "8bTxfqVJTLrV",
        "colab_type": "code",
        "colab": {}
      },
      "source": [
        "# Length of the vocabulary in chars\n",
        "vocab_size = len(vocab)\n",
        "\n",
        "# The embedding dimension\n",
        "embedding_dim = 256\n",
        "\n",
        "# Number of RNN units\n",
        "rnn_units = 1024"
      ],
      "execution_count": 0,
      "outputs": []
    },
    {
      "cell_type": "code",
      "metadata": {
        "id": "DytLGI02TMCw",
        "colab_type": "code",
        "colab": {}
      },
      "source": [
        "# Define a function to build a model\n",
        "def build_model(vocab_size, embedding_dim, rnn_units, batch_size, rnn_type='gru'):\n",
        "  # define the sequential model type\n",
        "  model = tf.keras.Sequential()\n",
        "  # Input layer -> embedding\n",
        "  \n",
        "  model.add(tf.keras.layers.Embedding(vocab_size, embedding_dim,\n",
        "                            batch_input_shape=[batch_size, None]))\n",
        "  # GRU layer -> This is the RNN part of the model\n",
        "  if rnn_type == 'gru':\n",
        "    model.add(tf.keras.layers.GRU(rnn_units,\n",
        "                      return_sequences=True,\n",
        "                      stateful=True,\n",
        "                      recurrent_initializer='glorot_uniform'))\n",
        "  elif rnn_type == 'lstm':\n",
        "    model.add(tf.keras.layers.LSTM(rnn_units,\n",
        "                      return_sequences=True,\n",
        "                      stateful=True,\n",
        "                      recurrent_initializer='glorot_uniform'))\n",
        "  else:\n",
        "    raise KeyError('rnn_type', rnn_type, 'not acceptable. Must be \\'gru\\' or\\'lstm\\'')\n",
        "  # Output layer -> Dense layer at size of vocab\n",
        "  # predicts the next word each iteration.\n",
        "  model.add(tf.keras.layers.Dense(vocab_size))\n",
        "\n",
        "  # return built model\n",
        "  return model"
      ],
      "execution_count": 0,
      "outputs": []
    },
    {
      "cell_type": "code",
      "metadata": {
        "id": "VPi7H4QETLos",
        "colab_type": "code",
        "colab": {}
      },
      "source": [
        "# Build the model\n",
        "model = build_model(\n",
        "  vocab_size = len(vocab),\n",
        "  embedding_dim=embedding_dim,\n",
        "  rnn_units=rnn_units,\n",
        "  batch_size=BATCH_SIZE)"
      ],
      "execution_count": 0,
      "outputs": []
    },
    {
      "cell_type": "markdown",
      "metadata": {
        "id": "gQV6iNlyUPc_",
        "colab_type": "text"
      },
      "source": [
        "For each word the model looks up the embedding, runs the GRU one timestep with the embedding as input, and applies the dense layer to generate predictions for the log-likelihood of the next word.\n",
        "\n",
        "This image comes from the same tensorflow tutorial, and shows an example of a character-by-character model. The same thought applies to this model, but replace chars with words.\n",
        "\n",
        "![GRU Example Model](https://www.tensorflow.org/tutorials/text/images/text_generation_training.png)"
      ]
    },
    {
      "cell_type": "markdown",
      "metadata": {
        "id": "Py40SVIiV3lw",
        "colab_type": "text"
      },
      "source": [
        "Now that the model is generated, ensure that the model will behave correctly. "
      ]
    },
    {
      "cell_type": "code",
      "metadata": {
        "id": "SaYueQUTUQVM",
        "colab_type": "code",
        "outputId": "b1c92765-633d-44d0-f8f9-4da2dd85108a",
        "colab": {
          "base_uri": "https://localhost:8080/",
          "height": 34
        }
      },
      "source": [
        "# Generate an example prediction on an untrained model\n",
        "for input_example_batch, target_example_batch in dataset.take(1):\n",
        "  example_batch_predictions = model(input_example_batch)\n",
        "  # Check the shape of the dataset\n",
        "  print(example_batch_predictions.shape, \"# (batch_size, sequence_length, vocab_size)\")"
      ],
      "execution_count": 90,
      "outputs": [
        {
          "output_type": "stream",
          "text": [
            "(64, 8, 9727) # (batch_size, sequence_length, vocab_size)\n"
          ],
          "name": "stdout"
        }
      ]
    },
    {
      "cell_type": "markdown",
      "metadata": {
        "id": "Koi6pDi7WOkx",
        "colab_type": "text"
      },
      "source": [
        "Note that while the input length is `8` above, any size input can be used (Including, hypothetically, one word that rhymes with another word)."
      ]
    },
    {
      "cell_type": "code",
      "metadata": {
        "id": "JeBZYSvcURW8",
        "colab_type": "code",
        "outputId": "c860c18a-091d-42af-af07-ffb58e022b1d",
        "colab": {
          "base_uri": "https://localhost:8080/",
          "height": 255
        }
      },
      "source": [
        "# Preview the untrained model summary\n",
        "model.summary()"
      ],
      "execution_count": 91,
      "outputs": [
        {
          "output_type": "stream",
          "text": [
            "Model: \"sequential_6\"\n",
            "_________________________________________________________________\n",
            "Layer (type)                 Output Shape              Param #   \n",
            "=================================================================\n",
            "embedding_6 (Embedding)      (64, None, 256)           2490112   \n",
            "_________________________________________________________________\n",
            "gru_4 (GRU)                  (64, None, 1024)          3938304   \n",
            "_________________________________________________________________\n",
            "dense_6 (Dense)              (64, None, 9727)          9970175   \n",
            "=================================================================\n",
            "Total params: 16,398,591\n",
            "Trainable params: 16,398,591\n",
            "Non-trainable params: 0\n",
            "_________________________________________________________________\n"
          ],
          "name": "stdout"
        }
      ]
    },
    {
      "cell_type": "markdown",
      "metadata": {
        "id": "abbO3xvrX2_R",
        "colab_type": "text"
      },
      "source": [
        "### Train the Model\n",
        "Now that the model has been defined, it is time to compile it and train it on the dataset."
      ]
    },
    {
      "cell_type": "markdown",
      "metadata": {
        "id": "ac9Pob1SYIE6",
        "colab_type": "text"
      },
      "source": [
        "#### Loss Function\n",
        "For any deep learnign model to work, it has to optimize for the least loss. The loss function to be used for this is a specific version of the `categorical_crossentropy` function from TensorFlow. "
      ]
    },
    {
      "cell_type": "code",
      "metadata": {
        "id": "pvq1rBElX2sN",
        "colab_type": "code",
        "outputId": "6399586c-dbd0-4fae-f939-7e89b7b376df",
        "colab": {
          "base_uri": "https://localhost:8080/",
          "height": 51
        }
      },
      "source": [
        "# Define the loss function (specify from_logits = true)\n",
        "def loss(labels, logits):\n",
        "  return tf.keras.losses.sparse_categorical_crossentropy(labels, logits, from_logits=True)\n",
        "\n",
        "# Print an example of a calculated loss using\n",
        "# the specified function\n",
        "example_batch_loss  = loss(target_example_batch, example_batch_predictions)\n",
        "print(\"Prediction shape: \", example_batch_predictions.shape, \" # (batch_size, sequence_length, vocab_size)\")\n",
        "print(\"scalar_loss:      \", example_batch_loss.numpy().mean())"
      ],
      "execution_count": 92,
      "outputs": [
        {
          "output_type": "stream",
          "text": [
            "Prediction shape:  (64, 8, 9727)  # (batch_size, sequence_length, vocab_size)\n",
            "scalar_loss:       9.182534\n"
          ],
          "name": "stdout"
        }
      ]
    },
    {
      "cell_type": "markdown",
      "metadata": {
        "id": "k86o8g20Y5-_",
        "colab_type": "text"
      },
      "source": [
        "#### Optimizer\n",
        "For this model, the adam optimizer and the rmsprop optimizers will be used. both are proven optimizers, and choosing between them is a matter of hyperparameter tuning"
      ]
    },
    {
      "cell_type": "code",
      "metadata": {
        "id": "h-JzHZMeUQ_q",
        "colab_type": "code",
        "colab": {}
      },
      "source": [
        "model.compile(optimizer='adam', loss=loss)"
      ],
      "execution_count": 0,
      "outputs": []
    },
    {
      "cell_type": "code",
      "metadata": {
        "id": "NFvyV3X2cRlj",
        "colab_type": "code",
        "colab": {}
      },
      "source": [
        "import os\n",
        "# Directory where the checkpoints will be saved\n",
        "checkpoint_dir = './training_checkpoints'\n",
        "# Name of the checkpoint files\n",
        "checkpoint_prefix = os.path.join(checkpoint_dir, \"ckpt_{epoch}\")\n",
        "\n",
        "checkpoint_callback=tf.keras.callbacks.ModelCheckpoint(\n",
        "    filepath=checkpoint_prefix,\n",
        "    save_weights_only=True)"
      ],
      "execution_count": 0,
      "outputs": []
    },
    {
      "cell_type": "markdown",
      "metadata": {
        "id": "ziMMM5wYaS_u",
        "colab_type": "text"
      },
      "source": [
        "#### Execute Training\n",
        "Set Epoch and fit the model with the dataset, epochs"
      ]
    },
    {
      "cell_type": "code",
      "metadata": {
        "id": "XG2ryB5jaiO_",
        "colab_type": "code",
        "colab": {}
      },
      "source": [
        "EPOCHS = 20"
      ],
      "execution_count": 0,
      "outputs": []
    },
    {
      "cell_type": "code",
      "metadata": {
        "id": "yqVaVBpyaiBR",
        "colab_type": "code",
        "outputId": "b1a7865d-b739-424e-9895-6bd8d253a2e3",
        "colab": {
          "base_uri": "https://localhost:8080/",
          "height": 1000
        }
      },
      "source": [
        "# Train model and save training data in the history variable\n",
        "history = model.fit(dataset, epochs=EPOCHS, callbacks=[checkpoint_callback])"
      ],
      "execution_count": 96,
      "outputs": [
        {
          "output_type": "stream",
          "text": [
            "Epoch 1/20\n",
            "WARNING:tensorflow:Unresolved object in checkpoint: (root).optimizer\n",
            "WARNING:tensorflow:Unresolved object in checkpoint: (root).optimizer.iter\n",
            "WARNING:tensorflow:Unresolved object in checkpoint: (root).optimizer.beta_1\n",
            "WARNING:tensorflow:Unresolved object in checkpoint: (root).optimizer.beta_2\n",
            "WARNING:tensorflow:Unresolved object in checkpoint: (root).optimizer.decay\n",
            "WARNING:tensorflow:Unresolved object in checkpoint: (root).optimizer.learning_rate\n",
            "WARNING:tensorflow:Unresolved object in checkpoint: (root).optimizer's state 'm' for (root).layer_with_weights-0.embeddings\n",
            "WARNING:tensorflow:Unresolved object in checkpoint: (root).optimizer's state 'm' for (root).layer_with_weights-2.kernel\n",
            "WARNING:tensorflow:Unresolved object in checkpoint: (root).optimizer's state 'm' for (root).layer_with_weights-2.bias\n",
            "WARNING:tensorflow:Unresolved object in checkpoint: (root).optimizer's state 'm' for (root).layer_with_weights-1.cell.kernel\n",
            "WARNING:tensorflow:Unresolved object in checkpoint: (root).optimizer's state 'm' for (root).layer_with_weights-1.cell.recurrent_kernel\n",
            "WARNING:tensorflow:Unresolved object in checkpoint: (root).optimizer's state 'm' for (root).layer_with_weights-1.cell.bias\n",
            "WARNING:tensorflow:Unresolved object in checkpoint: (root).optimizer's state 'v' for (root).layer_with_weights-0.embeddings\n",
            "WARNING:tensorflow:Unresolved object in checkpoint: (root).optimizer's state 'v' for (root).layer_with_weights-2.kernel\n",
            "WARNING:tensorflow:Unresolved object in checkpoint: (root).optimizer's state 'v' for (root).layer_with_weights-2.bias\n",
            "WARNING:tensorflow:Unresolved object in checkpoint: (root).optimizer's state 'v' for (root).layer_with_weights-1.cell.kernel\n",
            "WARNING:tensorflow:Unresolved object in checkpoint: (root).optimizer's state 'v' for (root).layer_with_weights-1.cell.recurrent_kernel\n",
            "WARNING:tensorflow:Unresolved object in checkpoint: (root).optimizer's state 'v' for (root).layer_with_weights-1.cell.bias\n",
            "WARNING:tensorflow:A checkpoint was restored (e.g. tf.train.Checkpoint.restore or tf.keras.Model.load_weights) but not all checkpointed values were used. See above for specific issues. Use expect_partial() on the load status object, e.g. tf.train.Checkpoint.restore(...).expect_partial(), to silence these warnings, or use assert_consumed() to make the check explicit. See https://www.tensorflow.org/guide/checkpoint#loading_mechanics for details.\n",
            "228/228 [==============================] - 7s 31ms/step - loss: 6.3321\n",
            "Epoch 2/20\n",
            "228/228 [==============================] - 7s 31ms/step - loss: 5.4192\n",
            "Epoch 3/20\n",
            "228/228 [==============================] - 7s 30ms/step - loss: 4.8798\n",
            "Epoch 4/20\n",
            "228/228 [==============================] - 7s 31ms/step - loss: 4.3278\n",
            "Epoch 5/20\n",
            "228/228 [==============================] - 7s 31ms/step - loss: 3.7799\n",
            "Epoch 6/20\n",
            "228/228 [==============================] - 7s 31ms/step - loss: 3.2943\n",
            "Epoch 7/20\n",
            "228/228 [==============================] - 7s 31ms/step - loss: 2.8908\n",
            "Epoch 8/20\n",
            "228/228 [==============================] - 7s 32ms/step - loss: 2.5607\n",
            "Epoch 9/20\n",
            "228/228 [==============================] - 7s 31ms/step - loss: 2.2918\n",
            "Epoch 10/20\n",
            "228/228 [==============================] - 7s 30ms/step - loss: 2.0684\n",
            "Epoch 11/20\n",
            "228/228 [==============================] - 7s 31ms/step - loss: 1.9008\n",
            "Epoch 12/20\n",
            "228/228 [==============================] - 7s 30ms/step - loss: 1.7493\n",
            "Epoch 13/20\n",
            "228/228 [==============================] - 7s 31ms/step - loss: 1.6409\n",
            "Epoch 14/20\n",
            "228/228 [==============================] - 7s 30ms/step - loss: 1.5507\n",
            "Epoch 15/20\n",
            "228/228 [==============================] - 7s 30ms/step - loss: 1.4780\n",
            "Epoch 16/20\n",
            "228/228 [==============================] - 7s 31ms/step - loss: 1.4109\n",
            "Epoch 17/20\n",
            "228/228 [==============================] - 7s 31ms/step - loss: 1.3704\n",
            "Epoch 18/20\n",
            "228/228 [==============================] - 7s 31ms/step - loss: 1.3249\n",
            "Epoch 19/20\n",
            "228/228 [==============================] - 7s 30ms/step - loss: 1.2935\n",
            "Epoch 20/20\n",
            "228/228 [==============================] - 7s 30ms/step - loss: 1.2628\n"
          ],
          "name": "stdout"
        }
      ]
    },
    {
      "cell_type": "code",
      "metadata": {
        "id": "DFB6mD-8a0Z-",
        "colab_type": "code",
        "outputId": "49914c12-2736-4b54-9b20-203878a63617",
        "colab": {
          "base_uri": "https://localhost:8080/",
          "height": 357
        }
      },
      "source": [
        "history.history"
      ],
      "execution_count": 97,
      "outputs": [
        {
          "output_type": "execute_result",
          "data": {
            "text/plain": [
              "{'loss': [6.332096576690674,\n",
              "  5.419155597686768,\n",
              "  4.8797502517700195,\n",
              "  4.327816486358643,\n",
              "  3.779920816421509,\n",
              "  3.294306993484497,\n",
              "  2.8908402919769287,\n",
              "  2.5606842041015625,\n",
              "  2.291783571243286,\n",
              "  2.0684120655059814,\n",
              "  1.9008183479309082,\n",
              "  1.749255895614624,\n",
              "  1.6408991813659668,\n",
              "  1.5506528615951538,\n",
              "  1.4780288934707642,\n",
              "  1.410888671875,\n",
              "  1.3704454898834229,\n",
              "  1.3249448537826538,\n",
              "  1.2935116291046143,\n",
              "  1.2627800703048706]}"
            ]
          },
          "metadata": {
            "tags": []
          },
          "execution_count": 97
        }
      ]
    },
    {
      "cell_type": "markdown",
      "metadata": {
        "id": "nrbfzC9Bcm6K",
        "colab_type": "text"
      },
      "source": [
        "## Text Generation\n",
        "Time for RapBot to *spit bars*\n"
      ]
    },
    {
      "cell_type": "markdown",
      "metadata": {
        "id": "TAc7KyF2c9vw",
        "colab_type": "text"
      },
      "source": [
        "### Restore last checkpoint\n",
        "To keep this prediction step simple, use a batch size of 1.\n",
        "\n",
        "Because of the way the RNN state is passed from timestep to timestep, the model only accepts a fixed batch size once built.\n",
        "\n",
        "To run the model with a different batch_size, model needs to be rebuilt and weights restored from the checkpoint."
      ]
    },
    {
      "cell_type": "code",
      "metadata": {
        "id": "TQY97s-Dc8-J",
        "colab_type": "code",
        "outputId": "dd30baee-e08f-4895-a574-322235a02c30",
        "colab": {
          "base_uri": "https://localhost:8080/",
          "height": 34
        }
      },
      "source": [
        "# restore last checkpoint\n",
        "tf.train.latest_checkpoint(checkpoint_dir)"
      ],
      "execution_count": 98,
      "outputs": [
        {
          "output_type": "execute_result",
          "data": {
            "text/plain": [
              "'./training_checkpoints/ckpt_20'"
            ]
          },
          "metadata": {
            "tags": []
          },
          "execution_count": 98
        }
      ]
    },
    {
      "cell_type": "code",
      "metadata": {
        "id": "9buUD9T4dUUC",
        "colab_type": "code",
        "colab": {}
      },
      "source": [
        "# Rebuild model from checkpoint weights but with only\n",
        "# batchsize = 1\n",
        "model = build_model(vocab_size, embedding_dim, rnn_units, batch_size=1)\n",
        "model.load_weights(tf.train.latest_checkpoint(checkpoint_dir))\n",
        "model.build(tf.TensorShape([1, None]))"
      ],
      "execution_count": 0,
      "outputs": []
    },
    {
      "cell_type": "code",
      "metadata": {
        "id": "aVgk2MXKdULQ",
        "colab_type": "code",
        "outputId": "806fec91-80b9-4128-92e7-1830e0ee4a37",
        "colab": {
          "base_uri": "https://localhost:8080/",
          "height": 255
        }
      },
      "source": [
        "model.summary()"
      ],
      "execution_count": 100,
      "outputs": [
        {
          "output_type": "stream",
          "text": [
            "Model: \"sequential_7\"\n",
            "_________________________________________________________________\n",
            "Layer (type)                 Output Shape              Param #   \n",
            "=================================================================\n",
            "embedding_7 (Embedding)      (1, None, 256)            2490112   \n",
            "_________________________________________________________________\n",
            "gru_5 (GRU)                  (1, None, 1024)           3938304   \n",
            "_________________________________________________________________\n",
            "dense_7 (Dense)              (1, None, 9727)           9970175   \n",
            "=================================================================\n",
            "Total params: 16,398,591\n",
            "Trainable params: 16,398,591\n",
            "Non-trainable params: 0\n",
            "_________________________________________________________________\n"
          ],
          "name": "stdout"
        }
      ]
    },
    {
      "cell_type": "markdown",
      "metadata": {
        "id": "Gr-gKVXgfMk9",
        "colab_type": "text"
      },
      "source": [
        "### Define Prediction Loop\n",
        "![To generate text the model's output is fed back to the input](https://www.tensorflow.org/tutorials/text/images/text_generation_sampling.png)\n",
        "For each bar:\n",
        ">- Start by choosing a start string, initializing the RNN state and setting the syllable range you want each bar to be within.\n",
        ">- Get prediction distribution of next word using the start string and RNN state\n",
        ">- Then use a categorical distribution to calculate the index of the predicted word, and use that word as the next input\n",
        ">- The RNN state returned by the model is fed back into the model so that it now has more context than just the subsequent inputs.\n",
        ">\n",
        ">Then once that is done:\n",
        "\n",
        "- Find a word in the vocabulary that rhymes with the word you started with and repeat the process for a second bar\n",
        "- Group the two bars together, one right after the other. Note that at this point, they are still backwards, as in the start word is the last word in the song and the rhyme is the last word in the second to last line. \n",
        "- While the generated text is still backwards, grab the last word and use it as the starting string to simply predict one word: the next rhyme. This makes it so there is at least some coherence from rhyming pair to rhyming pair, even though there isn't much between the rhyming pair\n",
        "-Repeat the whole process until the desired number of bars is reached\n",
        "\n",
        "\n"
      ]
    },
    {
      "cell_type": "markdown",
      "metadata": {
        "id": "g6D4LRGZiJoE",
        "colab_type": "text"
      },
      "source": [
        "#### Syllables\n",
        "To obtain syllable counts from words, the `phoneme-groups-with-syllables` json dataset found on `docmarionum1`'s github will serve as the dictionary of words. When a word isn't found, the quick solution (again owed to the time constraint) is to round the division of the length of a word to the nearest whole number."
      ]
    },
    {
      "cell_type": "code",
      "metadata": {
        "id": "4nSGRxdxdUA2",
        "colab_type": "code",
        "colab": {}
      },
      "source": [
        "# define the url from which to obtain the \n",
        "# phoneme dictionary json object\n",
        "phoneme_url = 'https://raw.githubusercontent.com/docmarionum1/haiku/master/phoneme-groups-with-syllables.json'"
      ],
      "execution_count": 0,
      "outputs": []
    },
    {
      "cell_type": "code",
      "metadata": {
        "id": "3GLuIwjpktF4",
        "colab_type": "code",
        "colab": {}
      },
      "source": [
        "import requests\n",
        "import json\n",
        "import random\n",
        "import re"
      ],
      "execution_count": 0,
      "outputs": []
    },
    {
      "cell_type": "code",
      "metadata": {
        "id": "oAbcpZC-j0vb",
        "colab_type": "code",
        "colab": {}
      },
      "source": [
        "# Define an empty dict called dictionary\n",
        "dictionary = {}\n",
        "# Get the poneme dictionary response\n",
        "f = requests.get(phoneme_url)\n",
        "# Parse through the lines in the response text\n",
        "for l in f.text.split('\\n'):\n",
        "  # Ignore empty lines\n",
        "  if l == '':\n",
        "    continue\n",
        "  # Otherwise, convert the json string to a dict\n",
        "  j = json.loads(l)\n",
        "  # append the keyword and syllable count for each word\n",
        "  # to the dictionary (ignoring uncommon single letter words)\n",
        "  if len(j['word']) > 1 or j['word'] in ['A', 'I', 'O']:\n",
        "    dictionary[j['word']] = len(j['syllables'])\n",
        "\n",
        "# Create a pandas dataframe out of the dictionary\n",
        "dict_df = pd.DataFrame.from_records([(k, dictionary[k]) for k in dictionary])\n",
        "# Limit the dataframe by words with <= 7 syllables\n",
        "dict_df = dict_df[dict_df[1] <= 7]"
      ],
      "execution_count": 0,
      "outputs": []
    },
    {
      "cell_type": "code",
      "metadata": {
        "id": "BUPnZtrUkhog",
        "colab_type": "code",
        "outputId": "3c645465-f7d3-458f-fe0c-f1c52522ceca",
        "colab": {
          "base_uri": "https://localhost:8080/",
          "height": 204
        }
      },
      "source": [
        "# Preview a random sample of the syllables df\n",
        "dict_df.sample(5)"
      ],
      "execution_count": 104,
      "outputs": [
        {
          "output_type": "execute_result",
          "data": {
            "text/html": [
              "<div>\n",
              "<style scoped>\n",
              "    .dataframe tbody tr th:only-of-type {\n",
              "        vertical-align: middle;\n",
              "    }\n",
              "\n",
              "    .dataframe tbody tr th {\n",
              "        vertical-align: top;\n",
              "    }\n",
              "\n",
              "    .dataframe thead th {\n",
              "        text-align: right;\n",
              "    }\n",
              "</style>\n",
              "<table border=\"1\" class=\"dataframe\">\n",
              "  <thead>\n",
              "    <tr style=\"text-align: right;\">\n",
              "      <th></th>\n",
              "      <th>0</th>\n",
              "      <th>1</th>\n",
              "    </tr>\n",
              "  </thead>\n",
              "  <tbody>\n",
              "    <tr>\n",
              "      <th>94442</th>\n",
              "      <td>PRIVATES</td>\n",
              "      <td>2</td>\n",
              "    </tr>\n",
              "    <tr>\n",
              "      <th>124085</th>\n",
              "      <td>UNISYS'</td>\n",
              "      <td>3</td>\n",
              "    </tr>\n",
              "    <tr>\n",
              "      <th>27835</th>\n",
              "      <td>DAHLE</td>\n",
              "      <td>2</td>\n",
              "    </tr>\n",
              "    <tr>\n",
              "      <th>112806</th>\n",
              "      <td>SPINDLER</td>\n",
              "      <td>3</td>\n",
              "    </tr>\n",
              "    <tr>\n",
              "      <th>48065</th>\n",
              "      <td>GLOBULAR</td>\n",
              "      <td>3</td>\n",
              "    </tr>\n",
              "  </tbody>\n",
              "</table>\n",
              "</div>"
            ],
            "text/plain": [
              "               0  1\n",
              "94442   PRIVATES  2\n",
              "124085   UNISYS'  3\n",
              "27835      DAHLE  2\n",
              "112806  SPINDLER  3\n",
              "48065   GLOBULAR  3"
            ]
          },
          "metadata": {
            "tags": []
          },
          "execution_count": 104
        }
      ]
    },
    {
      "cell_type": "code",
      "metadata": {
        "id": "UP3ZJaHykwTD",
        "colab_type": "code",
        "outputId": "8709683f-daef-44e0-fd4f-a8fdd4531fc3",
        "colab": {
          "base_uri": "https://localhost:8080/",
          "height": 51
        }
      },
      "source": [
        "# define a function to get syllables for any sentence\n",
        "def get_syllables(sent, sylls_df=dict_df):\n",
        "  # split the sentence into words\n",
        "  words = sent.split()\n",
        "  # initialize the count variable\n",
        "  syllables = 0\n",
        "  # iterate through each word\n",
        "  for word in words:\n",
        "    # convert string to uppercased key-form\n",
        "    syl_key = ''.join(re.findall('[A-z]', word)).upper()\n",
        "    # get the syllable value at that key\n",
        "    sylls = sylls_df.loc[sylls_df[0] == syl_key][1].values\n",
        "    # If syllables found\n",
        "    if len(sylls) > 0:\n",
        "      # evaluate the syllable (stored in list)\n",
        "      num = sylls[0]\n",
        "    # word not found case\n",
        "    else:\n",
        "      # Avg word syllable length is 3, so divide word\n",
        "      # length by 3 and round to nearest whold number\n",
        "      num = int(len(word) / 3 + .5)\n",
        "    # increment total syllable count\n",
        "    syllables += num\n",
        "  return syllables\n",
        "\n",
        "# preview example\n",
        "print('ridiculous', get_syllables('ridiculous'))\n",
        "print('rap bot', get_syllables('rap bot'))"
      ],
      "execution_count": 105,
      "outputs": [
        {
          "output_type": "stream",
          "text": [
            "ridiculous 4\n",
            "rap bot 2\n"
          ],
          "name": "stdout"
        }
      ]
    },
    {
      "cell_type": "markdown",
      "metadata": {
        "id": "YWx84Sgxl4_q",
        "colab_type": "text"
      },
      "source": [
        "#### Rhymes\n",
        "To accomplish rhyming for this project, jameswenzel's [Phyme](https://github.com/jameswenzel/Phyme) dictionary for song lyrics is very helpful. Using it, one can generate 'slant rhymes' (`help` with `belt`) or exact rhymes (`rhyme` with `time`). Both slant and exact rhymes are found for the start word, then compared with the vocabulary. The randomly selected first word that is found in both is used as the rhyme to go. "
      ]
    },
    {
      "cell_type": "code",
      "metadata": {
        "id": "PlmFD95AM7eQ",
        "colab_type": "code",
        "colab": {}
      },
      "source": [
        "!pip install phyme --quiet\n",
        "from Phyme import Phyme\n",
        "ph = Phyme()"
      ],
      "execution_count": 0,
      "outputs": []
    },
    {
      "cell_type": "markdown",
      "metadata": {
        "id": "C7z6TFL9ob4E",
        "colab_type": "text"
      },
      "source": [
        "When one of the `get_something_rhyme` methods are called, a dictionary is returned, organizing each rhyme by the amount of syllables in each. At this stage, the syllable count doesn't matter as much, each will need to be concatted into one large list."
      ]
    },
    {
      "cell_type": "code",
      "metadata": {
        "id": "Q95HcivSoAaJ",
        "colab_type": "code",
        "colab": {}
      },
      "source": [
        "# Define a function that returns a list of rhymes\n",
        "# that exist in a given vocabulary\n",
        "def get_rhymes(word, vocabulary=vocab):\n",
        "  rhymes = []\n",
        "  # Handle empty input\n",
        "  if word == '':\n",
        "    return rhymes\n",
        "  try:\n",
        "    # Get slant rhymes\n",
        "    fam_rhymes = ph.get_family_rhymes(word)\n",
        "    # For each syllable count\n",
        "    for key in fam_rhymes:\n",
        "      # Parse through rhymes and add matches to \n",
        "      # big rhymes list\n",
        "      rhymes += [re.sub('\\([0-9]\\)','', r) for r in fam_rhymes[key] if r not in rhymes \n",
        "                                                                        and r in vocab \n",
        "                                                                        and len(r)> 1\n",
        "                                                                        and r != word]\n",
        "    # Same but for perfect rhymes\n",
        "    perf_rhymes = ph.get_perfect_rhymes(word)\n",
        "    for key in perf_rhymes:\n",
        "      rhymes += [re.sub('\\([0-9]\\)','', r) for r in perf_rhymes[key] if r not in rhymes \n",
        "                                                                        and r in vocab \n",
        "                                                                        and len(r) > 1\n",
        "                                                                        and r != word]  \n",
        "    return rhymes\n",
        "  # If there is an error querying rhyme with word\n",
        "  except KeyError:\n",
        "    return rhymes"
      ],
      "execution_count": 0,
      "outputs": []
    },
    {
      "cell_type": "code",
      "metadata": {
        "id": "csederg3pfH4",
        "colab_type": "code",
        "outputId": "fa21a5c8-86b7-4830-ca3a-c94ff6f7e22b",
        "colab": {
          "base_uri": "https://localhost:8080/",
          "height": 442
        }
      },
      "source": [
        "get_rhymes('time')"
      ],
      "execution_count": 108,
      "outputs": [
        {
          "output_type": "execute_result",
          "data": {
            "text/plain": [
              "['mine',\n",
              " 'crime',\n",
              " 'fine',\n",
              " 'grime',\n",
              " 'shine',\n",
              " 'line',\n",
              " 'rhyme',\n",
              " 'prime',\n",
              " 'whine',\n",
              " 'pine',\n",
              " 'lime',\n",
              " 'dine',\n",
              " 'wine',\n",
              " 'sign',\n",
              " 'climb',\n",
              " 'nine',\n",
              " 'shyne',\n",
              " 'dime',\n",
              " 'recline',\n",
              " 'design',\n",
              " 'define',\n",
              " 'decline',\n",
              " 'aline',\n",
              " 'supine',\n",
              " 'redefine']"
            ]
          },
          "metadata": {
            "tags": []
          },
          "execution_count": 108
        }
      ]
    },
    {
      "cell_type": "markdown",
      "metadata": {
        "id": "yMDHWzwDqchB",
        "colab_type": "text"
      },
      "source": [
        "#### Generate Lyrics\n",
        "This is where the indented part of the prediction loop definition above comes into play. This is the per-line text generation function."
      ]
    },
    {
      "cell_type": "code",
      "metadata": {
        "id": "2BHP8kROK8qn",
        "colab_type": "code",
        "colab": {}
      },
      "source": [
        "# Define a function to ensure the first user\n",
        "# input word is in the corpus\n",
        "def ensure_input(start_sent, vocab=vocab):\n",
        "  usable = True\n",
        "  for word in start_sent.split():\n",
        "    if word not in vocab:\n",
        "      print(word.upper(), 'not in vocabulary. Try another start word')\n",
        "      usable = False\n",
        "  return usable"
      ],
      "execution_count": 0,
      "outputs": []
    },
    {
      "cell_type": "code",
      "metadata": {
        "id": "OaaDE7NHWI9R",
        "colab_type": "code",
        "colab": {
          "base_uri": "https://localhost:8080/",
          "height": 34
        },
        "outputId": "776e1f4b-7a51-4a35-d286-d9ac48286588"
      },
      "source": [
        "# Define the function that generates the next\n",
        "# word in the sequence\n",
        "def generate_word(model, start_sent, temperature=1.0, vocab=vocab):\n",
        "   # evaluate start string to numbers (vectorizing)\n",
        "  input_eval = [word2idx[w] for w in start_sent.split()]\n",
        "  input_eval = tf.expand_dims(input_eval, 0)\n",
        "\n",
        "  # Here batch size == 1\n",
        "  model.reset_states()\n",
        "\n",
        "  # make predictions\n",
        "  predictions = model(input_eval)\n",
        "\n",
        "  # remove the batch dimension\n",
        "  predictions = tf.squeeze(predictions, 0)\n",
        "\n",
        "  # using a categorical distribution to predict the \n",
        "  # word returned by the model\n",
        "  predictions = predictions / temperature\n",
        "  predicted_id = tf.random.categorical(predictions, num_samples=1)[-1,0].numpy()\n",
        "\n",
        "  # get the string form of the predicted word\n",
        "  predicted_word = idx2word[predicted_id]\n",
        "\n",
        "  return predicted_word\n",
        "\n",
        "generate_word(model, 'hey')"
      ],
      "execution_count": 110,
      "outputs": [
        {
          "output_type": "execute_result",
          "data": {
            "text/plain": [
              "'cabeza'"
            ]
          },
          "metadata": {
            "tags": []
          },
          "execution_count": 110
        }
      ]
    },
    {
      "cell_type": "code",
      "metadata": {
        "id": "tDOu31TY7oRb",
        "colab_type": "code",
        "colab": {}
      },
      "source": [
        "def generate_line(model, start_sent, sylls_range=(8,14), sub_sent = '', sylls_df=dict_df, temperature=1.0, vocab=vocab):\n",
        "  # Generate text using the learned model\n",
        "  \n",
        "  # initialize a max_sylls variable for the line\n",
        "  # it is a random int within sylls_range\n",
        "  max_sylls = random.randint(*sylls_range)\n",
        "  # get total current number of syllables so far\n",
        "  # subtract syllables for subsent (used to augment\n",
        "  # prediction cohesiveness, but not intended to be\n",
        "  # in the model)\n",
        "  curr_sylls = get_syllables(start_sent, sylls_df) - get_syllables(sub_sent, sylls_df)\n",
        "  \n",
        "  # empty list to store results\n",
        "  text_generated = []\n",
        "\n",
        "  # evaluate start string to numbers (vectorizing)\n",
        "  input_eval = [word2idx[w] for w in start_sent.split()]\n",
        "  input_eval = tf.expand_dims(input_eval, 0)\n",
        "\n",
        "  # Low temperatures results in more predictable text.\n",
        "  # Higher temperatures results in more surprising text.\n",
        "  # Experiment to find the best setting.\n",
        "  temperature = temperature\n",
        "\n",
        "  # Here batch size == 1\n",
        "  model.reset_states()\n",
        "  # While the text to be generated has less than\n",
        "  # the desired amount of syllables\n",
        "  while curr_sylls < max_sylls:\n",
        "    # make predictions\n",
        "    predictions = model(input_eval)\n",
        "\n",
        "    # remove the batch dimension\n",
        "    predictions = tf.squeeze(predictions, 0)\n",
        "\n",
        "    # using a categorical distribution to predict the \n",
        "    # word returned by the model\n",
        "    predictions = predictions / temperature\n",
        "    predicted_id = tf.random.categorical(predictions, num_samples=1)[-1,0].numpy()\n",
        "\n",
        "    # We pass the predicted character as the next input to the model\n",
        "    # along with the previous hidden state\n",
        "    input_eval = tf.expand_dims([predicted_id], 0)\n",
        "\n",
        "    # get the string form of the predicted word\n",
        "    predicted_word = idx2word[predicted_id]\n",
        "\n",
        "    #increment curr_sylls by the predicted word's sylls\n",
        "    curr_sylls += get_syllables(predicted_word)\n",
        "\n",
        "    # append predicted word to generated text\n",
        "    text_generated.append(predicted_word)\n",
        "  \n",
        "  # remove sub_sent from start_sent\n",
        "  start_word = start_sent.replace(sub_sent, '').strip()\n",
        "\n",
        "  # add the start sent to the predicted words\n",
        "  return ' '.join([start_word, ' '.join(text_generated)])"
      ],
      "execution_count": 0,
      "outputs": []
    },
    {
      "cell_type": "code",
      "metadata": {
        "id": "ICxpGPbHLL4E",
        "colab_type": "code",
        "colab": {
          "base_uri": "https://localhost:8080/",
          "height": 85
        },
        "outputId": "3fd64750-0f69-4e1f-93f3-c7a4eeac6ef8"
      },
      "source": [
        "# Test it out\n",
        "print(ensure_input('corpus'))\n",
        "print(ensure_input('next'))\n",
        "print(generate_line(model, 'next'))"
      ],
      "execution_count": 112,
      "outputs": [
        {
          "output_type": "stream",
          "text": [
            "CORPUS not in vocabulary. Try another start word\n",
            "False\n",
            "True\n",
            "next tony nigga want i whenever but you\n"
          ],
          "name": "stdout"
        }
      ]
    },
    {
      "cell_type": "markdown",
      "metadata": {
        "id": "xQSYogaQg3Fx",
        "colab_type": "text"
      },
      "source": [
        "#### Generate Rhyming Lines\n",
        "Now that lines can be generated, a function must be defined that generates two or more rhyming lines"
      ]
    },
    {
      "cell_type": "code",
      "metadata": {
        "id": "_Gv-AarbHiZV",
        "colab_type": "code",
        "colab": {
          "base_uri": "https://localhost:8080/",
          "height": 51
        },
        "outputId": "45fb3cfa-b817-4042-b339-9de61e9c24b6"
      },
      "source": [
        "def make_rhyming_lines(model, start_sent, sylls_range=(8,14), num_rhyme_lines=2, sub_sent='', sylls_df=dict_df, temperature=1.0, vocab=vocab):\n",
        "  # initialize a list to store each rhyming line in\n",
        "  lines = []\n",
        "  # given the first start and sub_sent, make the first line\n",
        "  sent = generate_line(model, start_sent, sylls_range, sub_sent, sylls_df, temperature, vocab)\n",
        "  lines.append(sent)\n",
        "\n",
        "  # remove the sub_sent from the start_word\n",
        "  start_word = start_sent.replace(sub_sent, '').strip()\n",
        "  # get a randomized list of rhymes for the start word\n",
        "  rhymes = get_rhymes(start_word, vocab)\n",
        "  random.shuffle(rhymes)\n",
        "\n",
        "  # While the number of generated lines is less than \n",
        "  # the max number of rhyming lines inputed\n",
        "  # and while there are still unvisited rhymes left\n",
        "  while len(lines) < num_rhyme_lines and len(rhymes) > 0:\n",
        "    # set a sub_sentence from the previous line\n",
        "    curr_sub_sent = lines[len(lines)-1]\n",
        "    # pop a rhyme from the randomized list\n",
        "    r = rhymes.pop()\n",
        "    # join the rhyme and sub_sentence -> get more context\n",
        "    curr_start_sent = ' '.join([r, curr_sub_sent])\n",
        "    # generate a line with the context of the previous line\n",
        "    # and the current input of the rhyming word\n",
        "    sent = generate_line(model, curr_start_sent, sylls_range, curr_sub_sent, sylls_df, temperature, vocab)\n",
        "    # append the generated line to the lines\n",
        "    lines.append(sent)\n",
        "\n",
        "  return lines\n",
        "\n",
        "rev_bars = '\\n'.join(make_rhyming_lines(model, 'think'))\n",
        "print(rev_bars)"
      ],
      "execution_count": 113,
      "outputs": [
        {
          "output_type": "stream",
          "text": [
            "think others us let to used i girl white lil the\n",
            "rethink for myself do 'll i know hulksters\n"
          ],
          "name": "stdout"
        }
      ]
    },
    {
      "cell_type": "markdown",
      "metadata": {
        "id": "tYuVmJ6es_EV",
        "colab_type": "text"
      },
      "source": [
        "#### Generate Song\n",
        "Now that rhyming lines can be generated, a function must be defined that generates two or more rhyming lines, then more groups of rhyming lines, until the total number of lines adds up to the user specified number of total lines."
      ]
    },
    {
      "cell_type": "code",
      "metadata": {
        "id": "mJsg41yHMtoZ",
        "colab_type": "code",
        "colab": {
          "base_uri": "https://localhost:8080/",
          "height": 34
        },
        "outputId": "ab0d6295-99c1-4bcd-e67e-94b009438de0"
      },
      "source": [
        "def make_song(model, start_sent, sylls_range=(8,14), num_rhyme_lines=2, num_total_lines=4, sub_sent='', sylls_df=dict_df, temperature=1.0, vocab=vocab):\n",
        "  # initialize an empty list of total lines\n",
        "  total_lines = []\n",
        "  \n",
        "  # generate the first rhyming group\n",
        "  rhyme_group = make_rhyming_lines(model, start_sent, sylls_range, num_rhyme_lines, sub_sent, sylls_df, temperature, vocab)\n",
        "  total_lines += rhyme_group\n",
        "\n",
        "  while len(total_lines) < num_total_lines:\n",
        "    # set the sub sentence to the previous line\n",
        "    curr_sub_sent = total_lines[len(total_lines)-1]\n",
        "    # get a start word using the sub sentence\n",
        "    start_word = generate_word(model, curr_sub_sent, temperature, vocab)\n",
        "    # join start word and sub_sent together -> get more context\n",
        "    curr_start_sent = ' '.join([start_word, curr_sub_sent])\n",
        "    # generate a rhyming group with the context of the previous line\n",
        "    # and the current input of the start word\n",
        "    rhyme_group = make_rhyming_lines(model, curr_start_sent, sylls_range, num_rhyme_lines, curr_sub_sent, sylls_df, temperature, vocab)\n",
        "    # append the generated rhyming group to the lines\n",
        "    total_lines += rhyme_group\n",
        "\n",
        "  return '\\n'.join(total_lines)\n",
        "\n",
        "make_song(model, 'think')"
      ],
      "execution_count": 114,
      "outputs": [
        {
          "output_type": "execute_result",
          "data": {
            "text/plain": [
              "\"think i nigga dying worth was it hope i shit\\nclink that dawg my eyes your open he girl some need i\\npart course my all brainless going 's she\\nsmart up way my dig to want i hell\""
            ]
          },
          "metadata": {
            "tags": []
          },
          "execution_count": 114
        }
      ]
    },
    {
      "cell_type": "markdown",
      "metadata": {
        "id": "v7fbo3clrE7Q",
        "colab_type": "text"
      },
      "source": [
        "#### Reverse Functions\n",
        "Since the model spits out reverse lines, sentences and songs ought to be reversed back to human readable text eventually"
      ]
    },
    {
      "cell_type": "code",
      "metadata": {
        "id": "M3yElpGUq2kw",
        "colab_type": "code",
        "colab": {}
      },
      "source": [
        "# Define a function to reverse sentences\n",
        "def reverse_sentence(sentence):\n",
        "  return ' '.join(sentence.split(' ')[::-1])\n",
        "\n",
        "# Define a function to reverse a song\n",
        "def reverse_song(song):\n",
        "  fw_lines = ''\n",
        "  # split song into lines\n",
        "  lines = song.split('\\n')\n",
        "  # iterate through lines from end to beginning\n",
        "  for line in lines[::-1]:\n",
        "    # reverse each line\n",
        "    fw_line = reverse_sentence(line)\n",
        "    # append the lines to the fw_lines string\n",
        "    fw_lines = f'{fw_lines}\\n{fw_line}'\n",
        "  return fw_lines"
      ],
      "execution_count": 0,
      "outputs": []
    },
    {
      "cell_type": "code",
      "metadata": {
        "id": "zrTOaHDHsSyB",
        "colab_type": "code",
        "outputId": "7f05b9b3-4de5-4619-8999-956ae41e80c1",
        "colab": {
          "base_uri": "https://localhost:8080/",
          "height": 51
        }
      },
      "source": [
        "# Try reversing the example line\n",
        "print(reverse_song('The cat ate the dog'))"
      ],
      "execution_count": 116,
      "outputs": [
        {
          "output_type": "stream",
          "text": [
            "\n",
            "dog the ate cat The\n"
          ],
          "name": "stdout"
        }
      ]
    },
    {
      "cell_type": "markdown",
      "metadata": {
        "id": "PeQkc4m3hfXj",
        "colab_type": "text"
      },
      "source": [
        "### Spit Bars!\n",
        "Now that the model is proven to work, raps can be generated on the fly with a trained model. Specifications to change would be `sylls_range`, `num_rhyming_lines`, `num_total_lines`. `temperature` and of course `start_sent`.\n",
        "\n",
        "Temperature is a fun one, because it is what allows the model to increase it's level of creativity by growing or shrinking the relative distance between predicted words."
      ]
    },
    {
      "cell_type": "code",
      "metadata": {
        "id": "8bBm-LdvifG7",
        "colab_type": "code",
        "colab": {
          "base_uri": "https://localhost:8080/",
          "height": 34
        },
        "outputId": "b58d5261-aa7a-457a-ab40-e0d3cfaaa83c"
      },
      "source": [
        "START = 'that'\n",
        "ensure_input(START)"
      ],
      "execution_count": 117,
      "outputs": [
        {
          "output_type": "execute_result",
          "data": {
            "text/plain": [
              "True"
            ]
          },
          "metadata": {
            "tags": []
          },
          "execution_count": 117
        }
      ]
    },
    {
      "cell_type": "code",
      "metadata": {
        "id": "C7C9oUurtWtk",
        "colab_type": "code",
        "outputId": "b5f41180-2e45-4597-9467-0e548fac7597",
        "colab": {
          "base_uri": "https://localhost:8080/",
          "height": 187
        }
      },
      "source": [
        "example_rap = make_song(model, START, num_total_lines=8)\n",
        "print(reverse_song(example_rap))"
      ],
      "execution_count": 118,
      "outputs": [
        {
          "output_type": "stream",
          "text": [
            "\n",
            "real money is hard a fucking slice\n",
            "example i came up on cause what it i get the life life\n",
            "the life is so exciting digress\n",
            "the life the life the life is so exciting it 's 's\n",
            "beach weather over do i can feel shit but she listened\n",
            "nookie made lots of coffee and and\n",
            "you know and you know and you know yeah\n",
            "and you know and you down yeah you nack\n",
            "'ve got rolled up in your head in check back yuh lap that\n"
          ],
          "name": "stdout"
        }
      ]
    },
    {
      "cell_type": "code",
      "metadata": {
        "id": "kYQkRB8i3OEo",
        "colab_type": "code",
        "colab": {
          "base_uri": "https://localhost:8080/",
          "height": 34
        },
        "outputId": "52ce8960-c4cb-4360-cd81-326496ce0f99"
      },
      "source": [
        "START = 'next'\n",
        "ensure_input(START)"
      ],
      "execution_count": 119,
      "outputs": [
        {
          "output_type": "execute_result",
          "data": {
            "text/plain": [
              "True"
            ]
          },
          "metadata": {
            "tags": []
          },
          "execution_count": 119
        }
      ]
    },
    {
      "cell_type": "code",
      "metadata": {
        "id": "XzGyA8LNjnhQ",
        "colab_type": "code",
        "colab": {
          "base_uri": "https://localhost:8080/",
          "height": 170
        },
        "outputId": "f45b8447-448e-46b8-c7d8-f5419cffbed2"
      },
      "source": [
        "example_rap = make_song(model, START, num_total_lines=8)\n",
        "print(reverse_song(example_rap))"
      ],
      "execution_count": 120,
      "outputs": [
        {
          "output_type": "stream",
          "text": [
            "\n",
            "boulevard swang trunk still bangin screens trust\n",
            "still hangin old habits die hard just\n",
            "ai n't my luck hello friday i 've been row\n",
            "waiting for you for a long time today i could do know\n",
            "you looking better than the face on the same nina\n",
            "forty operation kick call me the the\n",
            "way that it 's a chance what 's your name what 's your text\n",
            "number sexy face like info equation kurt next\n"
          ],
          "name": "stdout"
        }
      ]
    },
    {
      "cell_type": "markdown",
      "metadata": {
        "id": "M4S5Mqzlk3an",
        "colab_type": "text"
      },
      "source": [
        "## Model Comparison\n",
        "Now that a functional rap generator can work, generate multiple models using the model creation function to tune the best one. The inputs that change the model include different RNN layer types and optimizers, yielding 4 options:"
      ]
    },
    {
      "cell_type": "markdown",
      "metadata": {
        "id": "bVFQh1pXlPwj",
        "colab_type": "text"
      },
      "source": [
        "### Option 1: GRU with ADAM\n",
        "This is the first model we made. Recall the history and training stats for the model. The training time for each epoch was `52`-`53` seconds"
      ]
    },
    {
      "cell_type": "code",
      "metadata": {
        "id": "q_PM6WT3mIwu",
        "colab_type": "code",
        "colab": {}
      },
      "source": [
        "import seaborn as sns\n",
        "import matplotlib.pyplot as plt"
      ],
      "execution_count": 0,
      "outputs": []
    },
    {
      "cell_type": "code",
      "metadata": {
        "id": "92JXlxJnlOC7",
        "colab_type": "code",
        "colab": {}
      },
      "source": [
        "histories = [{'model': 1,\n",
        "              'history': history.history,\n",
        "              'optimizer': 'adam',\n",
        "              'rnn_type': 'gru'}]"
      ],
      "execution_count": 0,
      "outputs": []
    },
    {
      "cell_type": "markdown",
      "metadata": {
        "id": "Cte8dedBqze9",
        "colab_type": "text"
      },
      "source": [
        "### Option 2: GRU with RMSprop\n",
        "This model uses the same RNN layer as before, but is now optimized on an RMSProp optimizer, which is slightly simpler than ADAM."
      ]
    },
    {
      "cell_type": "code",
      "metadata": {
        "id": "ZzFyWppgrFYJ",
        "colab_type": "code",
        "colab": {
          "base_uri": "https://localhost:8080/",
          "height": 697
        },
        "outputId": "04610398-92cd-4855-fc22-d8f1f07835e6"
      },
      "source": [
        "# Build the model like before, but add the rnn_type into the model\n",
        "model2 = build_model(\n",
        "  vocab_size = len(vocab),\n",
        "  embedding_dim=embedding_dim,\n",
        "  rnn_units=rnn_units,\n",
        "  batch_size=BATCH_SIZE,\n",
        "  rnn_type='gru')\n",
        "\n",
        "# Compile the model with the new optimizer\n",
        "model2.compile(optimizer='rmsprop', loss=loss)\n",
        "\n",
        "# Train model and save training data in the history variable\n",
        "history2 = model2.fit(dataset, epochs=EPOCHS, callbacks=[checkpoint_callback])\n",
        "\n",
        "# load the histories dict with the history\n",
        "histories.append({'model': 2,\n",
        "                  'history': history2.history,\n",
        "                  'optimizer': 'rmsprop',\n",
        "                  'rnn_type': 'gru'})"
      ],
      "execution_count": 123,
      "outputs": [
        {
          "output_type": "stream",
          "text": [
            "Epoch 1/20\n",
            "228/228 [==============================] - 5s 21ms/step - loss: 6.2502\n",
            "Epoch 2/20\n",
            "228/228 [==============================] - 5s 21ms/step - loss: 5.6335\n",
            "Epoch 3/20\n",
            "228/228 [==============================] - 5s 21ms/step - loss: 5.3736\n",
            "Epoch 4/20\n",
            "228/228 [==============================] - 5s 21ms/step - loss: 5.1373\n",
            "Epoch 5/20\n",
            "228/228 [==============================] - 5s 21ms/step - loss: 4.9022\n",
            "Epoch 6/20\n",
            "228/228 [==============================] - 5s 21ms/step - loss: 4.6564\n",
            "Epoch 7/20\n",
            "228/228 [==============================] - 5s 23ms/step - loss: 4.4127\n",
            "Epoch 8/20\n",
            "228/228 [==============================] - 5s 20ms/step - loss: 4.1783\n",
            "Epoch 9/20\n",
            "228/228 [==============================] - 5s 21ms/step - loss: 3.9537\n",
            "Epoch 10/20\n",
            "228/228 [==============================] - 5s 21ms/step - loss: 3.7441\n",
            "Epoch 11/20\n",
            "228/228 [==============================] - 5s 23ms/step - loss: 3.5507\n",
            "Epoch 12/20\n",
            "228/228 [==============================] - 5s 20ms/step - loss: 3.3719\n",
            "Epoch 13/20\n",
            "228/228 [==============================] - 5s 21ms/step - loss: 3.2104\n",
            "Epoch 14/20\n",
            "228/228 [==============================] - 5s 20ms/step - loss: 3.0615\n",
            "Epoch 15/20\n",
            "228/228 [==============================] - 5s 21ms/step - loss: 2.9289\n",
            "Epoch 16/20\n",
            "228/228 [==============================] - 5s 21ms/step - loss: 2.8267\n",
            "Epoch 17/20\n",
            "228/228 [==============================] - 5s 22ms/step - loss: 2.7277\n",
            "Epoch 18/20\n",
            "228/228 [==============================] - 5s 21ms/step - loss: 2.6479\n",
            "Epoch 19/20\n",
            "228/228 [==============================] - 5s 21ms/step - loss: 2.5699\n",
            "Epoch 20/20\n",
            "228/228 [==============================] - 5s 21ms/step - loss: 2.5037\n"
          ],
          "name": "stdout"
        }
      ]
    },
    {
      "cell_type": "code",
      "metadata": {
        "id": "Nqtq3dC7s3Rr",
        "colab_type": "code",
        "colab": {
          "base_uri": "https://localhost:8080/",
          "height": 34
        },
        "outputId": "f9356f3a-c261-4c88-8e60-cffa33a49522"
      },
      "source": [
        "START = 'next'\n",
        "ensure_input(START)"
      ],
      "execution_count": 124,
      "outputs": [
        {
          "output_type": "execute_result",
          "data": {
            "text/plain": [
              "True"
            ]
          },
          "metadata": {
            "tags": []
          },
          "execution_count": 124
        }
      ]
    },
    {
      "cell_type": "code",
      "metadata": {
        "id": "D6CuGd5CtCfm",
        "colab_type": "code",
        "colab": {
          "base_uri": "https://localhost:8080/",
          "height": 170
        },
        "outputId": "285be95f-838e-4040-fe33-b7f23f53c77d"
      },
      "source": [
        "# restore last checkpoint\n",
        "tf.train.latest_checkpoint(checkpoint_dir)\n",
        "\n",
        "# Rebuild model from checkpoint weights but with only\n",
        "# batchsize = 1\n",
        "model2 = build_model(vocab_size, embedding_dim, rnn_units, batch_size=1)\n",
        "model2.load_weights(tf.train.latest_checkpoint(checkpoint_dir))\n",
        "model2.build(tf.TensorShape([1, None]))\n",
        "\n",
        "# Print out an example rap\n",
        "example_rap = make_song(model2, START, num_total_lines=8)\n",
        "print(reverse_song(example_rap))"
      ],
      "execution_count": 125,
      "outputs": [
        {
          "output_type": "stream",
          "text": [
            "\n",
            "when i 'm a-1 rant forty packaging wings\n",
            "drip write of look good so get it shoot your ass things\n",
            "like crossin pattern 's crazy shit tag\n",
            "gifted in a river dolla progress you niggas mad\n",
            "who fucking shit everybody still wednesday hi and come\n",
            "the music got a soldier from from\n",
            "yup to flow we left turn y how text\n",
            "did i turn mine like a game got ta come and take it next\n"
          ],
          "name": "stdout"
        }
      ]
    },
    {
      "cell_type": "markdown",
      "metadata": {
        "id": "bLNZezEwtJke",
        "colab_type": "text"
      },
      "source": [
        "### Option 3: LSTM with ADAM\n",
        "Back to the Adam optimizer, this time use an LSTM layer. LSTMS, along with the state from the previous cell also have a second cell state, determined by the gates within each cell, that it can pass information through."
      ]
    },
    {
      "cell_type": "code",
      "metadata": {
        "id": "6PyT-wrXuI0C",
        "colab_type": "code",
        "colab": {
          "base_uri": "https://localhost:8080/",
          "height": 697
        },
        "outputId": "74e5cb48-4ce4-4a9a-dcec-e32330b36bf4"
      },
      "source": [
        "# Build the model like before, but add the rnn_type into the model\n",
        "model3 = build_model(\n",
        "  vocab_size = len(vocab),\n",
        "  embedding_dim=embedding_dim,\n",
        "  rnn_units=rnn_units,\n",
        "  batch_size=BATCH_SIZE,\n",
        "  rnn_type='lstm')\n",
        "\n",
        "# Compile the model with the new optimizer\n",
        "model3.compile(optimizer='adam', loss=loss)\n",
        "\n",
        "# Train model and save training data in the history variable\n",
        "history3 = model3.fit(dataset, epochs=EPOCHS, callbacks=[checkpoint_callback])\n",
        "\n",
        "# load the histories dict with the history\n",
        "histories.append({'model': 3,\n",
        "                  'history': history3.history,\n",
        "                  'optimizer': 'adam',\n",
        "                  'rnn_type': 'lstm'})"
      ],
      "execution_count": 126,
      "outputs": [
        {
          "output_type": "stream",
          "text": [
            "Epoch 1/20\n",
            "228/228 [==============================] - 7s 32ms/step - loss: 6.5325\n",
            "Epoch 2/20\n",
            "228/228 [==============================] - 7s 32ms/step - loss: 5.8500\n",
            "Epoch 3/20\n",
            "228/228 [==============================] - 7s 32ms/step - loss: 5.5367\n",
            "Epoch 4/20\n",
            "228/228 [==============================] - 7s 32ms/step - loss: 5.2522\n",
            "Epoch 5/20\n",
            "228/228 [==============================] - 7s 32ms/step - loss: 4.9771\n",
            "Epoch 6/20\n",
            "228/228 [==============================] - 7s 32ms/step - loss: 4.6984\n",
            "Epoch 7/20\n",
            "228/228 [==============================] - 7s 32ms/step - loss: 4.4222\n",
            "Epoch 8/20\n",
            "228/228 [==============================] - 7s 32ms/step - loss: 4.1557\n",
            "Epoch 9/20\n",
            "228/228 [==============================] - 7s 32ms/step - loss: 3.8979\n",
            "Epoch 10/20\n",
            "228/228 [==============================] - 7s 32ms/step - loss: 3.6546\n",
            "Epoch 11/20\n",
            "228/228 [==============================] - 7s 32ms/step - loss: 3.4310\n",
            "Epoch 12/20\n",
            "228/228 [==============================] - 7s 32ms/step - loss: 3.2313\n",
            "Epoch 13/20\n",
            "228/228 [==============================] - 7s 32ms/step - loss: 3.0548\n",
            "Epoch 14/20\n",
            "228/228 [==============================] - 7s 32ms/step - loss: 2.8977\n",
            "Epoch 15/20\n",
            "228/228 [==============================] - 7s 32ms/step - loss: 2.7577\n",
            "Epoch 16/20\n",
            "228/228 [==============================] - 7s 32ms/step - loss: 2.6271\n",
            "Epoch 17/20\n",
            "228/228 [==============================] - 7s 32ms/step - loss: 2.5142\n",
            "Epoch 18/20\n",
            "228/228 [==============================] - 7s 32ms/step - loss: 2.4065\n",
            "Epoch 19/20\n",
            "228/228 [==============================] - 7s 32ms/step - loss: 2.3093\n",
            "Epoch 20/20\n",
            "228/228 [==============================] - 7s 32ms/step - loss: 2.2139\n"
          ],
          "name": "stdout"
        }
      ]
    },
    {
      "cell_type": "code",
      "metadata": {
        "id": "27mAXJTZuUZT",
        "colab_type": "code",
        "colab": {
          "base_uri": "https://localhost:8080/",
          "height": 34
        },
        "outputId": "e8666e9a-2695-4689-8f99-bdeeb6ce6877"
      },
      "source": [
        "START = 'next'\n",
        "ensure_input(START)"
      ],
      "execution_count": 127,
      "outputs": [
        {
          "output_type": "execute_result",
          "data": {
            "text/plain": [
              "True"
            ]
          },
          "metadata": {
            "tags": []
          },
          "execution_count": 127
        }
      ]
    },
    {
      "cell_type": "code",
      "metadata": {
        "id": "4KgzmatXuWA_",
        "colab_type": "code",
        "colab": {
          "base_uri": "https://localhost:8080/",
          "height": 187
        },
        "outputId": "f182a04c-aa49-49a7-eb8f-d693ab6cf6ec"
      },
      "source": [
        "example_rap = make_song(model2, START, num_total_lines=8)\n",
        "print(reverse_song(example_rap))"
      ],
      "execution_count": 128,
      "outputs": [
        {
          "output_type": "stream",
          "text": [
            "\n",
            "niggas fuck away from these hoes i told him fuck squeeze\n",
            "away from these niggas fuck away from these these\n",
            "hoes fuck away from these niggas niggas\n",
            "fuck away from these hoes fuck away from these niggas cut\n",
            "fuck away from these hoes fuck fuck\n",
            "away from these niggas fuck away from these hoes fuck chuck\n",
            "away from these niggas fuck away from these hoes fuck fuck\n",
            "away from these niggas fuck away from these hoes fuck text\n",
            "away from these niggas meek wheels kiss that next\n"
          ],
          "name": "stdout"
        }
      ]
    },
    {
      "cell_type": "markdown",
      "metadata": {
        "id": "8W-T-2WWuZLT",
        "colab_type": "text"
      },
      "source": [
        "### Option 4: LSTM with RMSProp\n",
        "Back to the LSTM layer, this time use an RMSProp optimizer. This combines a simplet optimizer with the different long-term, short-term architecture of an LSTM."
      ]
    },
    {
      "cell_type": "code",
      "metadata": {
        "id": "GvisNxf2usLD",
        "colab_type": "code",
        "colab": {
          "base_uri": "https://localhost:8080/",
          "height": 697
        },
        "outputId": "1f4b22f8-ca63-433b-bd69-582546632dd6"
      },
      "source": [
        "# Build the model like before, but add the rnn_type into the model\n",
        "model4 = build_model(\n",
        "  vocab_size = len(vocab),\n",
        "  embedding_dim=embedding_dim,\n",
        "  rnn_units=rnn_units,\n",
        "  batch_size=BATCH_SIZE,\n",
        "  rnn_type='lstm')\n",
        "\n",
        "# Compile the model with the new optimizer\n",
        "model4.compile(optimizer='rmsprop', loss=loss)\n",
        "\n",
        "# Train model and save training data in the history variable\n",
        "history4 = model4.fit(dataset, epochs=EPOCHS, callbacks=[checkpoint_callback])\n",
        "\n",
        "# load the histories dict with the history\n",
        "histories.append({'model': 4,\n",
        "                  'history': history4.history,\n",
        "                  'optimizer': 'rmsprop',\n",
        "                  'rnn_type': 'lstm'})"
      ],
      "execution_count": 129,
      "outputs": [
        {
          "output_type": "stream",
          "text": [
            "Epoch 1/20\n",
            "228/228 [==============================] - 5s 23ms/step - loss: 6.3517\n",
            "Epoch 2/20\n",
            "228/228 [==============================] - 5s 23ms/step - loss: 5.8031\n",
            "Epoch 3/20\n",
            "228/228 [==============================] - 5s 23ms/step - loss: 5.5669\n",
            "Epoch 4/20\n",
            "228/228 [==============================] - 5s 23ms/step - loss: 5.3747\n",
            "Epoch 5/20\n",
            "228/228 [==============================] - 5s 23ms/step - loss: 5.1963\n",
            "Epoch 6/20\n",
            "228/228 [==============================] - 5s 23ms/step - loss: 5.0297\n",
            "Epoch 7/20\n",
            "228/228 [==============================] - 5s 23ms/step - loss: 4.8598\n",
            "Epoch 8/20\n",
            "228/228 [==============================] - 5s 23ms/step - loss: 4.6889\n",
            "Epoch 9/20\n",
            "228/228 [==============================] - 5s 23ms/step - loss: 4.5205\n",
            "Epoch 10/20\n",
            "228/228 [==============================] - 5s 24ms/step - loss: 4.3528\n",
            "Epoch 11/20\n",
            "228/228 [==============================] - 5s 23ms/step - loss: 4.1931\n",
            "Epoch 12/20\n",
            "228/228 [==============================] - 5s 23ms/step - loss: 4.0397\n",
            "Epoch 13/20\n",
            "228/228 [==============================] - 5s 23ms/step - loss: 3.8979\n",
            "Epoch 14/20\n",
            "228/228 [==============================] - 6s 25ms/step - loss: 3.7548\n",
            "Epoch 15/20\n",
            "228/228 [==============================] - 5s 23ms/step - loss: 3.6222\n",
            "Epoch 16/20\n",
            "228/228 [==============================] - 5s 23ms/step - loss: 3.4985\n",
            "Epoch 17/20\n",
            "228/228 [==============================] - 5s 23ms/step - loss: 3.3780\n",
            "Epoch 18/20\n",
            "228/228 [==============================] - 5s 23ms/step - loss: 3.2693\n",
            "Epoch 19/20\n",
            "228/228 [==============================] - 5s 23ms/step - loss: 3.1607\n",
            "Epoch 20/20\n",
            "228/228 [==============================] - 5s 23ms/step - loss: 3.0670\n"
          ],
          "name": "stdout"
        }
      ]
    },
    {
      "cell_type": "code",
      "metadata": {
        "id": "BiBy435EvGrG",
        "colab_type": "code",
        "colab": {
          "base_uri": "https://localhost:8080/",
          "height": 34
        },
        "outputId": "62625858-90e9-4250-b35e-067757b137f3"
      },
      "source": [
        "START = 'next'\n",
        "ensure_input(START)"
      ],
      "execution_count": 130,
      "outputs": [
        {
          "output_type": "execute_result",
          "data": {
            "text/plain": [
              "True"
            ]
          },
          "metadata": {
            "tags": []
          },
          "execution_count": 130
        }
      ]
    },
    {
      "cell_type": "code",
      "metadata": {
        "id": "KJeevLbjvGhS",
        "colab_type": "code",
        "colab": {
          "base_uri": "https://localhost:8080/",
          "height": 187
        },
        "outputId": "e04a2c3b-d726-4941-f422-60141ae581e1"
      },
      "source": [
        "example_rap = make_song(model2, START, num_total_lines=8)\n",
        "print(reverse_song(example_rap))"
      ],
      "execution_count": 131,
      "outputs": [
        {
          "output_type": "stream",
          "text": [
            "\n",
            "it down again she wanna show me that we are is bold\n",
            "everything we 'll be i swear i got these old\n",
            "niggas eyes on me see you bust it bust tray\n",
            "it bust it bust it bust it bust it bust only they\n",
            "got caught i would around so snap i 'm chain\n",
            "internationally tagged life game\n",
            "far from the root bitch wit billboard legs rappin concretes\n",
            "our hands up out to lace traumatized banged get off text\n",
            "your heels stacey in my pants that next\n"
          ],
          "name": "stdout"
        }
      ]
    },
    {
      "cell_type": "markdown",
      "metadata": {
        "id": "sklkCLhfvV5C",
        "colab_type": "text"
      },
      "source": [
        "### Compare Performance\n",
        "Dealing with natural langage makes it difficult to quantify the performance of a model. One numerical value that may be useful (the same one, in fact, used to optimize weight during backpropagation) is the categorical crossentropy loss."
      ]
    },
    {
      "cell_type": "code",
      "metadata": {
        "id": "YkHlC_mgvwpv",
        "colab_type": "code",
        "colab": {
          "base_uri": "https://localhost:8080/",
          "height": 173
        },
        "outputId": "96ad5bae-5280-42a1-8396-578d28b614e9"
      },
      "source": [
        "history_df = pd.DataFrame(histories)\n",
        "history_df"
      ],
      "execution_count": 132,
      "outputs": [
        {
          "output_type": "execute_result",
          "data": {
            "text/html": [
              "<div>\n",
              "<style scoped>\n",
              "    .dataframe tbody tr th:only-of-type {\n",
              "        vertical-align: middle;\n",
              "    }\n",
              "\n",
              "    .dataframe tbody tr th {\n",
              "        vertical-align: top;\n",
              "    }\n",
              "\n",
              "    .dataframe thead th {\n",
              "        text-align: right;\n",
              "    }\n",
              "</style>\n",
              "<table border=\"1\" class=\"dataframe\">\n",
              "  <thead>\n",
              "    <tr style=\"text-align: right;\">\n",
              "      <th></th>\n",
              "      <th>model</th>\n",
              "      <th>history</th>\n",
              "      <th>optimizer</th>\n",
              "      <th>rnn_type</th>\n",
              "    </tr>\n",
              "  </thead>\n",
              "  <tbody>\n",
              "    <tr>\n",
              "      <th>0</th>\n",
              "      <td>1</td>\n",
              "      <td>{'loss': [6.332096576690674, 5.419155597686768...</td>\n",
              "      <td>adam</td>\n",
              "      <td>gru</td>\n",
              "    </tr>\n",
              "    <tr>\n",
              "      <th>1</th>\n",
              "      <td>2</td>\n",
              "      <td>{'loss': [6.250200271606445, 5.633484840393066...</td>\n",
              "      <td>rmsprop</td>\n",
              "      <td>gru</td>\n",
              "    </tr>\n",
              "    <tr>\n",
              "      <th>2</th>\n",
              "      <td>3</td>\n",
              "      <td>{'loss': [6.532485485076904, 5.849957942962646...</td>\n",
              "      <td>adam</td>\n",
              "      <td>lstm</td>\n",
              "    </tr>\n",
              "    <tr>\n",
              "      <th>3</th>\n",
              "      <td>4</td>\n",
              "      <td>{'loss': [6.351745128631592, 5.803090095520019...</td>\n",
              "      <td>rmsprop</td>\n",
              "      <td>lstm</td>\n",
              "    </tr>\n",
              "  </tbody>\n",
              "</table>\n",
              "</div>"
            ],
            "text/plain": [
              "   model                                            history optimizer rnn_type\n",
              "0      1  {'loss': [6.332096576690674, 5.419155597686768...      adam      gru\n",
              "1      2  {'loss': [6.250200271606445, 5.633484840393066...   rmsprop      gru\n",
              "2      3  {'loss': [6.532485485076904, 5.849957942962646...      adam     lstm\n",
              "3      4  {'loss': [6.351745128631592, 5.803090095520019...   rmsprop     lstm"
            ]
          },
          "metadata": {
            "tags": []
          },
          "execution_count": 132
        }
      ]
    },
    {
      "cell_type": "code",
      "metadata": {
        "id": "y8cFuLsEwFbL",
        "colab_type": "code",
        "colab": {
          "base_uri": "https://localhost:8080/",
          "height": 193
        },
        "outputId": "24ae8630-8205-44f0-8cf0-5f2cac6b1a0e"
      },
      "source": [
        "loss_df = pd.DataFrame([hist['history']['loss'] for hist in histories])\n",
        "loss_df"
      ],
      "execution_count": 133,
      "outputs": [
        {
          "output_type": "execute_result",
          "data": {
            "text/html": [
              "<div>\n",
              "<style scoped>\n",
              "    .dataframe tbody tr th:only-of-type {\n",
              "        vertical-align: middle;\n",
              "    }\n",
              "\n",
              "    .dataframe tbody tr th {\n",
              "        vertical-align: top;\n",
              "    }\n",
              "\n",
              "    .dataframe thead th {\n",
              "        text-align: right;\n",
              "    }\n",
              "</style>\n",
              "<table border=\"1\" class=\"dataframe\">\n",
              "  <thead>\n",
              "    <tr style=\"text-align: right;\">\n",
              "      <th></th>\n",
              "      <th>0</th>\n",
              "      <th>1</th>\n",
              "      <th>2</th>\n",
              "      <th>3</th>\n",
              "      <th>4</th>\n",
              "      <th>5</th>\n",
              "      <th>6</th>\n",
              "      <th>7</th>\n",
              "      <th>8</th>\n",
              "      <th>9</th>\n",
              "      <th>10</th>\n",
              "      <th>11</th>\n",
              "      <th>12</th>\n",
              "      <th>13</th>\n",
              "      <th>14</th>\n",
              "      <th>15</th>\n",
              "      <th>16</th>\n",
              "      <th>17</th>\n",
              "      <th>18</th>\n",
              "      <th>19</th>\n",
              "    </tr>\n",
              "  </thead>\n",
              "  <tbody>\n",
              "    <tr>\n",
              "      <th>0</th>\n",
              "      <td>6.332097</td>\n",
              "      <td>5.419156</td>\n",
              "      <td>4.879750</td>\n",
              "      <td>4.327816</td>\n",
              "      <td>3.779921</td>\n",
              "      <td>3.294307</td>\n",
              "      <td>2.890840</td>\n",
              "      <td>2.560684</td>\n",
              "      <td>2.291784</td>\n",
              "      <td>2.068412</td>\n",
              "      <td>1.900818</td>\n",
              "      <td>1.749256</td>\n",
              "      <td>1.640899</td>\n",
              "      <td>1.550653</td>\n",
              "      <td>1.478029</td>\n",
              "      <td>1.410889</td>\n",
              "      <td>1.370445</td>\n",
              "      <td>1.324945</td>\n",
              "      <td>1.293512</td>\n",
              "      <td>1.262780</td>\n",
              "    </tr>\n",
              "    <tr>\n",
              "      <th>1</th>\n",
              "      <td>6.250200</td>\n",
              "      <td>5.633485</td>\n",
              "      <td>5.373571</td>\n",
              "      <td>5.137266</td>\n",
              "      <td>4.902243</td>\n",
              "      <td>4.656436</td>\n",
              "      <td>4.412735</td>\n",
              "      <td>4.178283</td>\n",
              "      <td>3.953665</td>\n",
              "      <td>3.744110</td>\n",
              "      <td>3.550723</td>\n",
              "      <td>3.371923</td>\n",
              "      <td>3.210427</td>\n",
              "      <td>3.061453</td>\n",
              "      <td>2.928879</td>\n",
              "      <td>2.826669</td>\n",
              "      <td>2.727736</td>\n",
              "      <td>2.647941</td>\n",
              "      <td>2.569932</td>\n",
              "      <td>2.503689</td>\n",
              "    </tr>\n",
              "    <tr>\n",
              "      <th>2</th>\n",
              "      <td>6.532485</td>\n",
              "      <td>5.849958</td>\n",
              "      <td>5.536705</td>\n",
              "      <td>5.252225</td>\n",
              "      <td>4.977093</td>\n",
              "      <td>4.698415</td>\n",
              "      <td>4.422211</td>\n",
              "      <td>4.155747</td>\n",
              "      <td>3.897855</td>\n",
              "      <td>3.654558</td>\n",
              "      <td>3.431025</td>\n",
              "      <td>3.231303</td>\n",
              "      <td>3.054846</td>\n",
              "      <td>2.897667</td>\n",
              "      <td>2.757726</td>\n",
              "      <td>2.627096</td>\n",
              "      <td>2.514234</td>\n",
              "      <td>2.406458</td>\n",
              "      <td>2.309270</td>\n",
              "      <td>2.213916</td>\n",
              "    </tr>\n",
              "    <tr>\n",
              "      <th>3</th>\n",
              "      <td>6.351745</td>\n",
              "      <td>5.803090</td>\n",
              "      <td>5.566908</td>\n",
              "      <td>5.374657</td>\n",
              "      <td>5.196298</td>\n",
              "      <td>5.029742</td>\n",
              "      <td>4.859837</td>\n",
              "      <td>4.688904</td>\n",
              "      <td>4.520494</td>\n",
              "      <td>4.352800</td>\n",
              "      <td>4.193148</td>\n",
              "      <td>4.039710</td>\n",
              "      <td>3.897859</td>\n",
              "      <td>3.754796</td>\n",
              "      <td>3.622171</td>\n",
              "      <td>3.498535</td>\n",
              "      <td>3.378006</td>\n",
              "      <td>3.269253</td>\n",
              "      <td>3.160651</td>\n",
              "      <td>3.067049</td>\n",
              "    </tr>\n",
              "  </tbody>\n",
              "</table>\n",
              "</div>"
            ],
            "text/plain": [
              "         0         1         2   ...        17        18        19\n",
              "0  6.332097  5.419156  4.879750  ...  1.324945  1.293512  1.262780\n",
              "1  6.250200  5.633485  5.373571  ...  2.647941  2.569932  2.503689\n",
              "2  6.532485  5.849958  5.536705  ...  2.406458  2.309270  2.213916\n",
              "3  6.351745  5.803090  5.566908  ...  3.269253  3.160651  3.067049\n",
              "\n",
              "[4 rows x 20 columns]"
            ]
          },
          "metadata": {
            "tags": []
          },
          "execution_count": 133
        }
      ]
    },
    {
      "cell_type": "code",
      "metadata": {
        "id": "gdmbrLDSwhHi",
        "colab_type": "code",
        "colab": {
          "base_uri": "https://localhost:8080/",
          "height": 261
        },
        "outputId": "e079a860-549c-4c6a-91db-a3afb8c97f71"
      },
      "source": [
        "histories_df = history_df.merge(loss_df, on=loss_df.index)\n",
        "histories_df.drop(['history', 'key_0'], inplace=True, axis=1)\n",
        "histories_df['model'] = histories_df['model'].map({1: 'gru adam', 2: 'gru rmsprop', 3: 'lstm adam', 4: 'lstm rmsprop'})\n",
        "histories_df"
      ],
      "execution_count": 134,
      "outputs": [
        {
          "output_type": "execute_result",
          "data": {
            "text/html": [
              "<div>\n",
              "<style scoped>\n",
              "    .dataframe tbody tr th:only-of-type {\n",
              "        vertical-align: middle;\n",
              "    }\n",
              "\n",
              "    .dataframe tbody tr th {\n",
              "        vertical-align: top;\n",
              "    }\n",
              "\n",
              "    .dataframe thead th {\n",
              "        text-align: right;\n",
              "    }\n",
              "</style>\n",
              "<table border=\"1\" class=\"dataframe\">\n",
              "  <thead>\n",
              "    <tr style=\"text-align: right;\">\n",
              "      <th></th>\n",
              "      <th>model</th>\n",
              "      <th>optimizer</th>\n",
              "      <th>rnn_type</th>\n",
              "      <th>0</th>\n",
              "      <th>1</th>\n",
              "      <th>2</th>\n",
              "      <th>3</th>\n",
              "      <th>4</th>\n",
              "      <th>5</th>\n",
              "      <th>6</th>\n",
              "      <th>7</th>\n",
              "      <th>8</th>\n",
              "      <th>9</th>\n",
              "      <th>10</th>\n",
              "      <th>11</th>\n",
              "      <th>12</th>\n",
              "      <th>13</th>\n",
              "      <th>14</th>\n",
              "      <th>15</th>\n",
              "      <th>16</th>\n",
              "      <th>17</th>\n",
              "      <th>18</th>\n",
              "      <th>19</th>\n",
              "    </tr>\n",
              "  </thead>\n",
              "  <tbody>\n",
              "    <tr>\n",
              "      <th>0</th>\n",
              "      <td>gru adam</td>\n",
              "      <td>adam</td>\n",
              "      <td>gru</td>\n",
              "      <td>6.332097</td>\n",
              "      <td>5.419156</td>\n",
              "      <td>4.879750</td>\n",
              "      <td>4.327816</td>\n",
              "      <td>3.779921</td>\n",
              "      <td>3.294307</td>\n",
              "      <td>2.890840</td>\n",
              "      <td>2.560684</td>\n",
              "      <td>2.291784</td>\n",
              "      <td>2.068412</td>\n",
              "      <td>1.900818</td>\n",
              "      <td>1.749256</td>\n",
              "      <td>1.640899</td>\n",
              "      <td>1.550653</td>\n",
              "      <td>1.478029</td>\n",
              "      <td>1.410889</td>\n",
              "      <td>1.370445</td>\n",
              "      <td>1.324945</td>\n",
              "      <td>1.293512</td>\n",
              "      <td>1.262780</td>\n",
              "    </tr>\n",
              "    <tr>\n",
              "      <th>1</th>\n",
              "      <td>gru rmsprop</td>\n",
              "      <td>rmsprop</td>\n",
              "      <td>gru</td>\n",
              "      <td>6.250200</td>\n",
              "      <td>5.633485</td>\n",
              "      <td>5.373571</td>\n",
              "      <td>5.137266</td>\n",
              "      <td>4.902243</td>\n",
              "      <td>4.656436</td>\n",
              "      <td>4.412735</td>\n",
              "      <td>4.178283</td>\n",
              "      <td>3.953665</td>\n",
              "      <td>3.744110</td>\n",
              "      <td>3.550723</td>\n",
              "      <td>3.371923</td>\n",
              "      <td>3.210427</td>\n",
              "      <td>3.061453</td>\n",
              "      <td>2.928879</td>\n",
              "      <td>2.826669</td>\n",
              "      <td>2.727736</td>\n",
              "      <td>2.647941</td>\n",
              "      <td>2.569932</td>\n",
              "      <td>2.503689</td>\n",
              "    </tr>\n",
              "    <tr>\n",
              "      <th>2</th>\n",
              "      <td>lstm adam</td>\n",
              "      <td>adam</td>\n",
              "      <td>lstm</td>\n",
              "      <td>6.532485</td>\n",
              "      <td>5.849958</td>\n",
              "      <td>5.536705</td>\n",
              "      <td>5.252225</td>\n",
              "      <td>4.977093</td>\n",
              "      <td>4.698415</td>\n",
              "      <td>4.422211</td>\n",
              "      <td>4.155747</td>\n",
              "      <td>3.897855</td>\n",
              "      <td>3.654558</td>\n",
              "      <td>3.431025</td>\n",
              "      <td>3.231303</td>\n",
              "      <td>3.054846</td>\n",
              "      <td>2.897667</td>\n",
              "      <td>2.757726</td>\n",
              "      <td>2.627096</td>\n",
              "      <td>2.514234</td>\n",
              "      <td>2.406458</td>\n",
              "      <td>2.309270</td>\n",
              "      <td>2.213916</td>\n",
              "    </tr>\n",
              "    <tr>\n",
              "      <th>3</th>\n",
              "      <td>lstm rmsprop</td>\n",
              "      <td>rmsprop</td>\n",
              "      <td>lstm</td>\n",
              "      <td>6.351745</td>\n",
              "      <td>5.803090</td>\n",
              "      <td>5.566908</td>\n",
              "      <td>5.374657</td>\n",
              "      <td>5.196298</td>\n",
              "      <td>5.029742</td>\n",
              "      <td>4.859837</td>\n",
              "      <td>4.688904</td>\n",
              "      <td>4.520494</td>\n",
              "      <td>4.352800</td>\n",
              "      <td>4.193148</td>\n",
              "      <td>4.039710</td>\n",
              "      <td>3.897859</td>\n",
              "      <td>3.754796</td>\n",
              "      <td>3.622171</td>\n",
              "      <td>3.498535</td>\n",
              "      <td>3.378006</td>\n",
              "      <td>3.269253</td>\n",
              "      <td>3.160651</td>\n",
              "      <td>3.067049</td>\n",
              "    </tr>\n",
              "  </tbody>\n",
              "</table>\n",
              "</div>"
            ],
            "text/plain": [
              "          model optimizer rnn_type  ...        17        18        19\n",
              "0      gru adam      adam      gru  ...  1.324945  1.293512  1.262780\n",
              "1   gru rmsprop   rmsprop      gru  ...  2.647941  2.569932  2.503689\n",
              "2     lstm adam      adam     lstm  ...  2.406458  2.309270  2.213916\n",
              "3  lstm rmsprop   rmsprop     lstm  ...  3.269253  3.160651  3.067049\n",
              "\n",
              "[4 rows x 23 columns]"
            ]
          },
          "metadata": {
            "tags": []
          },
          "execution_count": 134
        }
      ]
    },
    {
      "cell_type": "code",
      "metadata": {
        "id": "NRFgCVN8wqsK",
        "colab_type": "code",
        "colab": {
          "base_uri": "https://localhost:8080/",
          "height": 421
        },
        "outputId": "0b4418f1-853d-41ed-9ad0-fba8e1a987ca"
      },
      "source": [
        "melted = histories_df.melt(id_vars=['optimizer', 'rnn_type', 'model'], value_name='loss')\n",
        "plt.figure(figsize=(10,6))\n",
        "sns.lineplot(y='loss', x=melted.index, data=melted, hue='model')\n",
        "plt.title('Change in Loss over Epochs')\n",
        "plt.xlabel(xlabel='Epochs')\n",
        "plt.ylabel(ylabel='Loss')"
      ],
      "execution_count": 137,
      "outputs": [
        {
          "output_type": "execute_result",
          "data": {
            "text/plain": [
              "Text(0, 0.5, 'Loss')"
            ]
          },
          "metadata": {
            "tags": []
          },
          "execution_count": 137
        },
        {
          "output_type": "display_data",
          "data": {
            "image/png": "[encoded data removed]",
            "text/plain": [
              "<Figure size 720x432 with 1 Axes>"
            ]
          },
          "metadata": {
            "tags": [],
            "needs_background": "light"
          }
        }
      ]
    },
    {
      "cell_type": "markdown",
      "metadata": {
        "id": "eWOqefKSI-5L",
        "colab_type": "text"
      },
      "source": [
        "## Postmortem\n",
        "After completing this project, a few things would be done differently.\n",
        "1. The generation function clears states, then reuses text to generate new text at the end of each line. I would edit this function to simply keep generating, and generate a newline and a rhyme, but KEEP GOING, and retain the latent cell states.\n",
        "2. I would train the dataset on a much larger corpus to see if it had any significant improvement on the english readability.\n",
        "3. I would love to find a way to work on the phoneme level rather than the word level. This would get Rap Bot one step closer to being able to create audio raps.\n"
      ]
    },
    {
      "cell_type": "code",
      "metadata": {
        "id": "PcBorntVU1yw",
        "colab_type": "code",
        "colab": {
          "base_uri": "https://localhost:8080/",
          "height": 1000
        },
        "outputId": "7d7463a3-1e89-4e3c-9b0d-6ade61407785"
      },
      "source": [
        "for i in range(10):\n",
        "  start = random.sample(vocab, 1)[0]\n",
        "  example_rap = make_song(model, START, num_total_lines=8)\n",
        "  print(reverse_song(example_rap))"
      ],
      "execution_count": 138,
      "outputs": [
        {
          "output_type": "stream",
          "text": [
            "\n",
            "are you are parked up in park view nin drummin ac\n",
            "out paper and bikes i got the stove be\n",
            "hot bars you just need to usa\n",
            "get some money today today\n",
            "if i want you back i 'm sorry tonight tonight brain\n",
            "oneul bame dorawajwoyo dorawajwoyo oh oh came\n",
            "oh oh oh oh oh uhu yeah uhu uh uh text\n",
            "uh uh aye squad prepare ayo next\n",
            "\n",
            "been repossessed face down trash begets trash we know trash key\n",
            "we know clean do n't last never last when we we\n",
            "load trash we upload trash mama a lot do n't get ki\n",
            "ready on it when i m here she\n",
            "'s my new bugatti a alive\n",
            "miles and runnin my crew my crew they ho live\n",
            "now bring gettin work put 'em in the text\n",
            "dirt semi gon squirt damn he spoke creatin next\n",
            "\n",
            "it to my last dollar on it holla like i m round\n",
            "always keep a secret dude we 'll be lost and found found\n",
            "this a route do what and nah i 'm came\n",
            "fucking on these bitches runnin caught my on chain\n",
            "fourth street a dollar pot boy semi\n",
            "like i 'm finally lucid the chain out the many\n",
            "things that why you drive it real text\n",
            "niggas bang niggas bang bang bang bang ayo next\n",
            "\n",
            "deep but now i 'm sinking so deep but now i 'm da\n",
            "sinking so deep but now i 'm sinking so deep ha\n",
            "i ca n't stand up but now i 'm stepping hello\n",
            "in cold but this money is love crack i said yo\n",
            "hey what 's grave below the waist line by my entourage\n",
            "johnson where the today but tomorrow i 'm was\n",
            "gone my daddy i can see you text\n",
            "coming from black tickets translation next\n",
            "\n",
            "my clique that hard until i fuck\n",
            "'m off my feet my nigga but\n",
            "they do n't let 's get in the high\n",
            "morning serm gone if air air i i\n",
            "smoked a night do n't let calabasas calabasas\n",
            "fool you i 'll be glad i got you i wa\n",
            "ca n't become him cause you were gon na na\n",
            "come and get you baby ass text\n",
            "niggas bang niggas bang bang bang ayo next\n",
            "\n",
            "the same the one who are we are is sprite\n",
            "everything we 'll be i swear like\n",
            "i 'll always love you i know you ow\n",
            "know we letting rounds out all my niggas get that dough dough\n",
            "like the fuck else is please deon't let me pushing\n",
            "careses you back you did it all in in\n",
            "a day all in a sure look good to me shake text\n",
            "it fast shake it fast shake it shake this head like high thumb next\n",
            "\n",
            "motherfucking k homeboy a to the motherfucking k new\n",
            "a to the motherfucking k homeboy a to to\n",
            "the motherfucking k homeboy homeboy\n",
            "a to the motherfucking k homeboy homeboy\n",
            "a to the motherfucking k life has come for the move crate\n",
            "online i wanna should n't but i wanna should n't mistake\n",
            "but i was far from a dummy and as hell i guess text\n",
            "that 's how i 'm distant next\n",
            "\n",
            "you suffer from pseudo penis penis\n",
            "envy just call me slippin girl i had you uno\n",
            "strippin leave you in a bar hell of it no no\n",
            "chapstick ca n't help him maybe\n",
            "ghostface offers lester the use of his baby\n",
            "tonight chino from our amazin\n",
            "plans use the mic to rule and text\n",
            "speak my niggas bang niggas bang bang bang bang ayo next\n",
            "\n",
            "i strive for live the black viper rich coupe brand ai\n",
            "put 'em holes in an asshole i i\n",
            "'m running him no more sweater\n",
            "going low down pacific time to shine better\n",
            "if another city for a pap\n",
            "show somewhere getting charred see you see that\n",
            "you were on you just drop a pinpoint text\n",
            "tell me that real niggas bang bang bang ayo next\n",
            "\n",
            "wednesday i panic come scrambling thursday tho\n",
            "just ai n't my luck hello hello\n",
            "friday i 've been waiting for you for a coma\n",
            "long time you just save me when the the\n",
            "others pressure of the game they cat\n",
            "consider no limit the back that\n",
            "i would n't trust an then blow your mind maybe text\n",
            "i 'm blind maybe it 's my word to flush i m next\n"
          ],
          "name": "stdout"
        }
      ]
    },
    {
      "cell_type": "code",
      "metadata": {
        "id": "Dz3p3LN5VEkq",
        "colab_type": "code",
        "colab": {}
      },
      "source": [
        ""
      ],
      "execution_count": 0,
      "outputs": []
    }
  ]
}